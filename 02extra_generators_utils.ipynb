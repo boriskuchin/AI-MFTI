{
  "nbformat": 4,
  "nbformat_minor": 0,
  "metadata": {
    "colab": {
      "provenance": [],
      "include_colab_link": true
    },
    "kernelspec": {
      "name": "python3",
      "display_name": "Python 3"
    },
    "language_info": {
      "name": "python"
    }
  },
  "cells": [
    {
      "cell_type": "markdown",
      "metadata": {
        "id": "view-in-github",
        "colab_type": "text"
      },
      "source": [
        "<a href=\"https://colab.research.google.com/github/boriskuchin/MADMO-BASE-2024/blob/main/02extra_generators_utils.ipynb\" target=\"_parent\"><img src=\"https://colab.research.google.com/assets/colab-badge.svg\" alt=\"Open In Colab\"/></a>"
      ]
    },
    {
      "cell_type": "markdown",
      "source": [
        "# Генераторы"
      ],
      "metadata": {
        "id": "8JCGSIaxD-F8"
      }
    },
    {
      "cell_type": "markdown",
      "source": [
        "Циклы позволяют удобно проходить по контейнерам и обрабатывать нужным нам образом их элементы, которые хранятся в оперативной.\n",
        "\n",
        "Но, к сожалению, это не всегда возможно. Какие могут быть причины:\n",
        "- очень большой размер файла (десятки гигабайт) - мы хотим как-либо обработать его строки и проанализировать их содержимое, но не получится загрузить в оперативную память\n",
        "- не можем сразу получить необходимые данные - данные могут передаваться непрерывным потоком, и нам необходимо этот поток данных как-либо преобразовать и выделить его полезные свойства\n",
        "\n",
        "В таких случаях нам на помощь приходит *генератор*.\n",
        "\n"
      ],
      "metadata": {
        "id": "2_Ci_rk0PL_w"
      }
    },
    {
      "cell_type": "markdown",
      "source": [
        "**Генератор** — это объект (\"тип данных\"), который сразу при создании не вычисляет значения всех своих элементов. Он хранит в памяти только последний вычисленный элемент, правило перехода к следующему и условие, при котором получение новых элементов прерывается.\n",
        "\n",
        "Вычисление следующего значения происходит лишь с помощью функции `next()`, т.е. лишь по необходимости. Предыдущее значение при этом теряется. Поэтому вычисления с помощью генераторов называются ленивыми."
      ],
      "metadata": {
        "id": "hSzSYdF6R4e6"
      }
    },
    {
      "cell_type": "markdown",
      "source": [
        "В этом и заключается отличие от привычных нам контейнеров (списков, кортежей) - они хранят в памяти все свои элементы, и удалить их можно только программно."
      ],
      "metadata": {
        "id": "1BN22q0RUNQV"
      }
    },
    {
      "cell_type": "markdown",
      "source": [
        "Генераторы можно создавать несколькими способами:\n",
        "- генераторные выражения\n",
        "- генераторные функции\n",
        "- генераторные объекты"
      ],
      "metadata": {
        "id": "ZPzMPS4MVQa7"
      }
    },
    {
      "cell_type": "markdown",
      "source": [
        "## Генераторные выражения"
      ],
      "metadata": {
        "id": "9_ZtY_DvVhtr"
      }
    },
    {
      "cell_type": "markdown",
      "source": [
        "Самый простой способ создания генераторов - **генераторное выражение**. Оно требует контейнера, из элементов которых будут высчитываться. По синтаксису, генераторное выражение очень похоже на list comprehension, только окружено не квадратными, а круглыми скобками:"
      ],
      "metadata": {
        "id": "_MGBeCDAWy-S"
      }
    },
    {
      "cell_type": "markdown",
      "source": [
        "```python\n",
        "(<expression> for <item_variable> in <container>)\n",
        "```"
      ],
      "metadata": {
        "id": "jb_NcaoHXOou"
      }
    },
    {
      "cell_type": "markdown",
      "source": [
        "Познакомимся с ними поближе на примере генератора квадратов:"
      ],
      "metadata": {
        "id": "fciIJgClX55a"
      }
    },
    {
      "cell_type": "code",
      "source": [
        "genexpr = (i**2 for i in range(1, 5))"
      ],
      "metadata": {
        "id": "JSK5yUO1W_RI"
      },
      "execution_count": null,
      "outputs": []
    },
    {
      "cell_type": "code",
      "source": [
        "type(genexpr)"
      ],
      "metadata": {
        "colab": {
          "base_uri": "https://localhost:8080/"
        },
        "id": "E5cvHm2uZbDH",
        "outputId": "da5461e3-8a5d-4869-f2e6-07c392345999"
      },
      "execution_count": null,
      "outputs": [
        {
          "output_type": "execute_result",
          "data": {
            "text/plain": [
              "generator"
            ]
          },
          "metadata": {},
          "execution_count": 2
        }
      ]
    },
    {
      "cell_type": "code",
      "source": [
        "genexpr"
      ],
      "metadata": {
        "colab": {
          "base_uri": "https://localhost:8080/"
        },
        "id": "wbXuM1Y_4a3y",
        "outputId": "1d07f7b1-fa03-4bbc-c5ca-34ce7a0d0615"
      },
      "execution_count": null,
      "outputs": [
        {
          "output_type": "execute_result",
          "data": {
            "text/plain": [
              "<generator object <genexpr> at 0x78aba2a02110>"
            ]
          },
          "metadata": {},
          "execution_count": 9
        }
      ]
    },
    {
      "cell_type": "markdown",
      "source": [
        "Для получения элементов из него воспользуемся функцией `next`:"
      ],
      "metadata": {
        "id": "t6NxeWpQYApj"
      }
    },
    {
      "cell_type": "code",
      "source": [
        "next(genexpr)"
      ],
      "metadata": {
        "colab": {
          "base_uri": "https://localhost:8080/"
        },
        "id": "lCmH63P1YAPy",
        "outputId": "93fc3747-e097-493e-d55c-fdb1d05a0c4d"
      },
      "execution_count": null,
      "outputs": [
        {
          "output_type": "execute_result",
          "data": {
            "text/plain": [
              "1"
            ]
          },
          "metadata": {},
          "execution_count": 10
        }
      ]
    },
    {
      "cell_type": "markdown",
      "source": [
        "Попробуем снова получить элемент:"
      ],
      "metadata": {
        "id": "eF6cwIcEYgZq"
      }
    },
    {
      "cell_type": "code",
      "source": [
        "next(genexpr)"
      ],
      "metadata": {
        "colab": {
          "base_uri": "https://localhost:8080/"
        },
        "id": "zabB71GEYi0M",
        "outputId": "57e0badf-00bf-4ca9-e286-e4ccbfaf1d66"
      },
      "execution_count": null,
      "outputs": [
        {
          "output_type": "execute_result",
          "data": {
            "text/plain": [
              "4"
            ]
          },
          "metadata": {},
          "execution_count": 11
        }
      ]
    },
    {
      "cell_type": "markdown",
      "source": [
        "Получили следующий элемент. Попробуем и дальше получать элементы:"
      ],
      "metadata": {
        "id": "nOTwUK8gYsjk"
      }
    },
    {
      "cell_type": "code",
      "source": [
        "next(genexpr)"
      ],
      "metadata": {
        "colab": {
          "base_uri": "https://localhost:8080/"
        },
        "id": "wiWpDPw3YxCE",
        "outputId": "b4a2d957-8dc6-4793-f673-7e1ca3e19051"
      },
      "execution_count": null,
      "outputs": [
        {
          "output_type": "execute_result",
          "data": {
            "text/plain": [
              "9"
            ]
          },
          "metadata": {},
          "execution_count": 12
        }
      ]
    },
    {
      "cell_type": "code",
      "source": [
        "next(genexpr)"
      ],
      "metadata": {
        "colab": {
          "base_uri": "https://localhost:8080/"
        },
        "id": "9MF2yTHVYydO",
        "outputId": "f0980d35-17b8-49e9-d47c-0f4b9ebdf679"
      },
      "execution_count": null,
      "outputs": [
        {
          "output_type": "execute_result",
          "data": {
            "text/plain": [
              "16"
            ]
          },
          "metadata": {},
          "execution_count": 13
        }
      ]
    },
    {
      "cell_type": "code",
      "source": [
        "next(genexpr)"
      ],
      "metadata": {
        "colab": {
          "base_uri": "https://localhost:8080/",
          "height": 180
        },
        "id": "N7jt7mPAYzRF",
        "outputId": "d928403a-1fb3-451a-d913-384f04b0a5fa"
      },
      "execution_count": null,
      "outputs": [
        {
          "output_type": "error",
          "ename": "StopIteration",
          "evalue": "ignored",
          "traceback": [
            "\u001b[0;31m---------------------------------------------------------------------------\u001b[0m",
            "\u001b[0;31mStopIteration\u001b[0m                             Traceback (most recent call last)",
            "\u001b[0;32m<ipython-input-14-b44198bbd1d7>\u001b[0m in \u001b[0;36m<cell line: 1>\u001b[0;34m()\u001b[0m\n\u001b[0;32m----> 1\u001b[0;31m \u001b[0mnext\u001b[0m\u001b[0;34m(\u001b[0m\u001b[0mgenexpr\u001b[0m\u001b[0;34m)\u001b[0m\u001b[0;34m\u001b[0m\u001b[0;34m\u001b[0m\u001b[0m\n\u001b[0m",
            "\u001b[0;31mStopIteration\u001b[0m: "
          ]
        }
      ]
    },
    {
      "cell_type": "markdown",
      "source": [
        "Получили ошибку `StopIteration`. Эта ошибка является служебной, используется в цикле `for` для остановки его работы. Теперь посмотрим как генератор работает с циклом `for`:"
      ],
      "metadata": {
        "id": "CF8mL_Q7Y1Dp"
      }
    },
    {
      "cell_type": "code",
      "source": [
        "for item in (i**2 for i in range(1, 5)):\n",
        "    print(item)"
      ],
      "metadata": {
        "colab": {
          "base_uri": "https://localhost:8080/"
        },
        "id": "1CteRjNua6bN",
        "outputId": "450a4ecc-7717-4de1-9795-c8084a0de80b"
      },
      "execution_count": null,
      "outputs": [
        {
          "output_type": "stream",
          "name": "stdout",
          "text": [
            "1\n",
            "4\n",
            "9\n",
            "16\n"
          ]
        }
      ]
    },
    {
      "cell_type": "code",
      "source": [
        "for item in [i**2 for i in range(1, 5)]:\n",
        "    print(item)"
      ],
      "metadata": {
        "colab": {
          "base_uri": "https://localhost:8080/"
        },
        "id": "uulIvO-K5Cm6",
        "outputId": "3d3a9a33-6342-45d6-bdf1-0eaaa9dd3236"
      },
      "execution_count": null,
      "outputs": [
        {
          "output_type": "stream",
          "name": "stdout",
          "text": [
            "1\n",
            "4\n",
            "9\n",
            "16\n"
          ]
        }
      ]
    },
    {
      "cell_type": "markdown",
      "source": [
        "Сравним память, используемую list comprehension и генераторным выражением. Для этого нам пригодится функция `getsizeof` из модуля системных функций `sys`:"
      ],
      "metadata": {
        "id": "OSJNTtWDiYB5"
      }
    },
    {
      "cell_type": "code",
      "source": [
        "from sys import getsizeof\n",
        "\n",
        "help(getsizeof)"
      ],
      "metadata": {
        "colab": {
          "base_uri": "https://localhost:8080/"
        },
        "id": "K3bfPoZ8ij5k",
        "outputId": "1ba130a5-30aa-4556-9c6d-e88f20ccf808"
      },
      "execution_count": null,
      "outputs": [
        {
          "output_type": "stream",
          "name": "stdout",
          "text": [
            "Help on built-in function getsizeof in module sys:\n",
            "\n",
            "getsizeof(...)\n",
            "    getsizeof(object [, default]) -> int\n",
            "    \n",
            "    Return the size of object in bytes.\n",
            "\n"
          ]
        }
      ]
    },
    {
      "cell_type": "markdown",
      "source": [
        "Память, используемая list comprehension квадратов чисел до 1 000 000:"
      ],
      "metadata": {
        "id": "LJDnH6PHiykZ"
      }
    },
    {
      "cell_type": "code",
      "source": [
        "getsizeof([item ** 2 for item in range(10_000_000)])"
      ],
      "metadata": {
        "colab": {
          "base_uri": "https://localhost:8080/"
        },
        "id": "8U17QK3Ri4yI",
        "outputId": "99c2ec29-e43c-45df-c5fe-886b67616f0b"
      },
      "execution_count": null,
      "outputs": [
        {
          "output_type": "execute_result",
          "data": {
            "text/plain": [
              "89095160"
            ]
          },
          "metadata": {},
          "execution_count": 19
        }
      ]
    },
    {
      "cell_type": "markdown",
      "source": [
        "Память, используемая генераторным выражением для аналогичной задачи:"
      ],
      "metadata": {
        "id": "lZImepmWjA5_"
      }
    },
    {
      "cell_type": "code",
      "source": [
        "getsizeof((item ** 2 for item in range(10_000_000)))"
      ],
      "metadata": {
        "colab": {
          "base_uri": "https://localhost:8080/"
        },
        "id": "vYcX-_XWigIZ",
        "outputId": "cda4846c-cc53-49e7-c41c-659a0fc74b8e"
      },
      "execution_count": null,
      "outputs": [
        {
          "output_type": "execute_result",
          "data": {
            "text/plain": [
              "104"
            ]
          },
          "metadata": {},
          "execution_count": 20
        }
      ]
    },
    {
      "cell_type": "markdown",
      "source": [
        "Как видим, экономия памяти очевидна."
      ],
      "metadata": {
        "id": "8TCVG44OjUiU"
      }
    },
    {
      "cell_type": "markdown",
      "source": [
        "## Генераторные функции"
      ],
      "metadata": {
        "id": "XoN5RJl0a5tD"
      }
    },
    {
      "cell_type": "markdown",
      "source": [
        "Генераторные выражения - упрощенный способ создания генераторов. Если хочется больше свободы действий, то можем воспользоваться **генераторными функциями**."
      ],
      "metadata": {
        "id": "dWw09g0tcae2"
      }
    },
    {
      "cell_type": "markdown",
      "source": [
        "Генераторная функция отличается от обычной функции тем, что вместо команды `return` для возврата значения в ней используется `yield` - `return` завершает работу функции, а `yield` лишь приостанавливает её до следующего вызова генераторной функции."
      ],
      "metadata": {
        "id": "yi_fjSEujZwt"
      }
    },
    {
      "cell_type": "markdown",
      "source": [
        "При первом вызове метода `next()` выполняется код функции с первой команды до `yield`. При втором `next()` и последующих до конца генератора — код со следующей после `yield` команды и до тех пор, пока `yield` не встретится снова."
      ],
      "metadata": {
        "id": "fdduYlYXjbRF"
      }
    },
    {
      "cell_type": "markdown",
      "source": [
        "Рассмотрим работу функции-генератора на примере. Создадим функцию-генератор для создания квадратов чисел со смещением:"
      ],
      "metadata": {
        "id": "weFFC0aVd8N4"
      }
    },
    {
      "cell_type": "code",
      "source": [
        "def gen_fn(n):\n",
        "    shift = 0\n",
        "    for i in range(n):\n",
        "        yield i ** 2 + shift\n",
        "        shift += 1"
      ],
      "metadata": {
        "id": "I9BpKxdqfvsQ"
      },
      "execution_count": null,
      "outputs": []
    },
    {
      "cell_type": "markdown",
      "source": [
        "Проверим тип созданной функции:"
      ],
      "metadata": {
        "id": "fk71Rnuag-p-"
      }
    },
    {
      "cell_type": "code",
      "source": [
        "type(gen_fn)"
      ],
      "metadata": {
        "colab": {
          "base_uri": "https://localhost:8080/"
        },
        "id": "6KuLq3Fif91G",
        "outputId": "ce54c931-a683-43c3-8e7a-6b2173d41f9f"
      },
      "execution_count": null,
      "outputs": [
        {
          "output_type": "execute_result",
          "data": {
            "text/plain": [
              "function"
            ]
          },
          "metadata": {},
          "execution_count": 22
        }
      ]
    },
    {
      "cell_type": "markdown",
      "source": [
        "Сама по себе генераторная функция не является генератором,  но может создавать их при вызове:"
      ],
      "metadata": {
        "id": "1eGUPoaMg2-c"
      }
    },
    {
      "cell_type": "code",
      "source": [
        "gen = gen_fn(5)\n",
        "type(gen)"
      ],
      "metadata": {
        "colab": {
          "base_uri": "https://localhost:8080/"
        },
        "id": "RK1eVqmPgEX0",
        "outputId": "3ef95f1b-289b-49e6-a1cd-a021396c7f79"
      },
      "execution_count": null,
      "outputs": [
        {
          "output_type": "execute_result",
          "data": {
            "text/plain": [
              "generator"
            ]
          },
          "metadata": {},
          "execution_count": 23
        }
      ]
    },
    {
      "cell_type": "markdown",
      "source": [
        "Проверим как работает с нашим новым генератором цикл `for`:"
      ],
      "metadata": {
        "id": "4hhQWcyrhCtI"
      }
    },
    {
      "cell_type": "code",
      "source": [
        "for i in gen:\n",
        "    print(i)"
      ],
      "metadata": {
        "colab": {
          "base_uri": "https://localhost:8080/"
        },
        "id": "m8W4wHCKgsuU",
        "outputId": "b524db39-8eda-4df3-d4df-c098513380e1"
      },
      "execution_count": null,
      "outputs": [
        {
          "output_type": "stream",
          "name": "stdout",
          "text": [
            "0\n",
            "2\n",
            "6\n",
            "12\n",
            "20\n"
          ]
        }
      ]
    },
    {
      "cell_type": "markdown",
      "source": [
        "С помощью генераторных функций можно создавать бесконечные генераторы, которые могут порождать новые элементы без остановки.\n",
        "\n",
        "Создадим генератор, который возвращает кубы натуральных чисел:"
      ],
      "metadata": {
        "id": "UhyU9XFVhyJ1"
      }
    },
    {
      "cell_type": "code",
      "source": [
        "def cubes():\n",
        "    i = 0\n",
        "    while True:\n",
        "        yield i ** 3\n",
        "        i += 1"
      ],
      "metadata": {
        "id": "34yB4QMEgsWJ"
      },
      "execution_count": null,
      "outputs": []
    },
    {
      "cell_type": "markdown",
      "source": [
        "Можем проверить его работу, запустив в цикле, но предварительно добавить счетчик для ручной остановки цикла:"
      ],
      "metadata": {
        "id": "Wg8lRLtnkL18"
      }
    },
    {
      "cell_type": "code",
      "source": [
        "counter = 0\n",
        "for item in cubes():\n",
        "    print(item, end=' ')\n",
        "    counter += 1\n",
        "    if counter == 15:\n",
        "        break"
      ],
      "metadata": {
        "id": "QoMEU7UlkUYP",
        "colab": {
          "base_uri": "https://localhost:8080/"
        },
        "outputId": "c77a1c47-0f6f-4bc2-e186-c49926f8ad61"
      },
      "execution_count": null,
      "outputs": [
        {
          "output_type": "stream",
          "name": "stdout",
          "text": [
            "0 1 8 27 64 125 216 343 512 729 1000 1331 1728 2197 2744 "
          ]
        }
      ]
    },
    {
      "cell_type": "markdown",
      "source": [
        "## Примеры"
      ],
      "metadata": {
        "id": "o9yF8BUH8w6D"
      }
    },
    {
      "cell_type": "code",
      "source": [
        "def gen_fn1():\n",
        "    print(\"Reached 1st yield\")\n",
        "    yield 1\n",
        "    print(\"Reached 2nd yield\")\n",
        "    yield 2\n",
        "    print(\"Reached 3rd yield\")\n",
        "    yield 3\n",
        "    print(4)"
      ],
      "metadata": {
        "id": "Wv-fL4jt8yQB"
      },
      "execution_count": null,
      "outputs": []
    },
    {
      "cell_type": "code",
      "source": [
        "for i in gen_fn1():\n",
        "    print(i)\n",
        "    print()"
      ],
      "metadata": {
        "colab": {
          "base_uri": "https://localhost:8080/"
        },
        "id": "03qmE1Vi83N9",
        "outputId": "c5f3f409-31c0-4423-d8c0-afa76bee3c59"
      },
      "execution_count": null,
      "outputs": [
        {
          "output_type": "stream",
          "name": "stdout",
          "text": [
            "Reached 1st yield\n",
            "1\n",
            "\n",
            "Reached 2nd yield\n",
            "2\n",
            "\n",
            "Reached 3rd yield\n",
            "3\n",
            "\n",
            "4\n"
          ]
        }
      ]
    },
    {
      "cell_type": "code",
      "source": [
        "gen = gen_fn1()"
      ],
      "metadata": {
        "id": "RfLk91BI8_sF"
      },
      "execution_count": null,
      "outputs": []
    },
    {
      "cell_type": "code",
      "source": [
        "next(gen)"
      ],
      "metadata": {
        "colab": {
          "base_uri": "https://localhost:8080/"
        },
        "id": "ZB54_CSN9gTL",
        "outputId": "48abb2c3-5d43-4644-b850-b1988316b62d"
      },
      "execution_count": null,
      "outputs": [
        {
          "output_type": "stream",
          "name": "stdout",
          "text": [
            "Reached 1st yield\n"
          ]
        },
        {
          "output_type": "execute_result",
          "data": {
            "text/plain": [
              "1"
            ]
          },
          "metadata": {},
          "execution_count": 39
        }
      ]
    },
    {
      "cell_type": "code",
      "source": [
        "def read_file(filename):\n",
        "    with open(filename) as f:\n",
        "        while True:\n",
        "            line = f.readline()\n",
        "            if line == \"\":\n",
        "                break\n",
        "            yield line"
      ],
      "metadata": {
        "id": "YMNSBTL3T0Sj"
      },
      "execution_count": null,
      "outputs": []
    },
    {
      "cell_type": "code",
      "source": [
        "read_file(\"text.txt\")"
      ],
      "metadata": {
        "colab": {
          "base_uri": "https://localhost:8080/",
          "height": 35
        },
        "id": "OZHt4U6zUXia",
        "outputId": "d1c6bec1-320a-4cb1-b53e-df2fb525b0e9"
      },
      "execution_count": null,
      "outputs": [
        {
          "output_type": "execute_result",
          "data": {
            "text/plain": [
              "'aaa\\n'"
            ],
            "application/vnd.google.colaboratory.intrinsic+json": {
              "type": "string"
            }
          },
          "metadata": {},
          "execution_count": 35
        }
      ]
    },
    {
      "cell_type": "code",
      "source": [
        "filename = \"text.txt\"\n",
        "with open(filename) as f:\n",
        "    while True:\n",
        "        line = f.readline()\n",
        "        if line == \"\":\n",
        "            break\n",
        "        print(line)"
      ],
      "metadata": {
        "colab": {
          "base_uri": "https://localhost:8080/"
        },
        "id": "cFY2Hj6-UrPA",
        "outputId": "400f21ef-4a46-43ee-935d-5076fbea74c5"
      },
      "execution_count": null,
      "outputs": [
        {
          "output_type": "stream",
          "name": "stdout",
          "text": [
            "aaa\n",
            "\n",
            "bbb\n",
            "\n",
            "ccc\n",
            "\n",
            "ddd\n",
            "\n",
            "123\n",
            "\n",
            "1231\n",
            "\n",
            "1244\n",
            "\n"
          ]
        }
      ]
    },
    {
      "cell_type": "code",
      "source": [
        "for line in read_file(\"text.txt\"):\n",
        "    print(line)"
      ],
      "metadata": {
        "colab": {
          "base_uri": "https://localhost:8080/"
        },
        "id": "xxqj6LpyU5cj",
        "outputId": "86b0d0bf-a928-4671-ef4b-7136826ca077"
      },
      "execution_count": null,
      "outputs": [
        {
          "output_type": "stream",
          "name": "stdout",
          "text": [
            "aaa\n",
            "\n",
            "bbb\n",
            "\n",
            "ccc\n",
            "\n",
            "ddd\n",
            "\n",
            "123\n",
            "\n",
            "1231\n",
            "\n",
            "1244\n",
            "\n"
          ]
        }
      ]
    },
    {
      "cell_type": "code",
      "source": [
        "gen = read_file(\"text.txt\")"
      ],
      "metadata": {
        "id": "YhubSQ8CVBrd"
      },
      "execution_count": null,
      "outputs": []
    },
    {
      "cell_type": "code",
      "source": [
        "try:\n",
        "    print(next(gen))\n",
        "except StopIteration:\n",
        "    print(\"generator done!\")"
      ],
      "metadata": {
        "colab": {
          "base_uri": "https://localhost:8080/"
        },
        "id": "z6hgrt9AVFkY",
        "outputId": "bd7bd6ff-f433-480d-8ebf-a9f1b519ee73"
      },
      "execution_count": null,
      "outputs": [
        {
          "output_type": "stream",
          "name": "stdout",
          "text": [
            "generator done!\n"
          ]
        }
      ]
    },
    {
      "cell_type": "code",
      "source": [
        "%%file text.txt\n",
        "aaa\n",
        "bbb\n",
        "ccc\n",
        "ddd\n",
        "123\n",
        "1231\n",
        "1244"
      ],
      "metadata": {
        "colab": {
          "base_uri": "https://localhost:8080/"
        },
        "id": "pFw9bAwEUeXV",
        "outputId": "f662e80b-861f-425d-fb9a-17b050d88833"
      },
      "execution_count": null,
      "outputs": [
        {
          "output_type": "stream",
          "name": "stdout",
          "text": [
            "Writing text.txt\n"
          ]
        }
      ]
    },
    {
      "cell_type": "markdown",
      "source": [
        "# Чтение и запись в файл"
      ],
      "metadata": {
        "id": "Cg38edBVm5qF"
      }
    },
    {
      "cell_type": "markdown",
      "source": [
        "Создадим простой файл с помощью unix-команд:"
      ],
      "metadata": {
        "id": "izujTWWXrnDs"
      }
    },
    {
      "cell_type": "code",
      "source": [
        "%%file text.txt\n",
        "abcd\n",
        "efgh\n",
        "ijkl"
      ],
      "metadata": {
        "id": "eb6fgTQmDpqG",
        "colab": {
          "base_uri": "https://localhost:8080/"
        },
        "outputId": "36e2cb07-cace-41d1-fb4a-461d0f0a9117"
      },
      "execution_count": null,
      "outputs": [
        {
          "output_type": "stream",
          "name": "stdout",
          "text": [
            "Writing text.txt\n"
          ]
        }
      ]
    },
    {
      "cell_type": "code",
      "source": [
        "!cat text.txt"
      ],
      "metadata": {
        "id": "czneHUzPonG1",
        "colab": {
          "base_uri": "https://localhost:8080/"
        },
        "outputId": "939d8d88-c28f-4832-aaaa-a48911e866ef"
      },
      "execution_count": null,
      "outputs": [
        {
          "output_type": "stream",
          "name": "stdout",
          "text": [
            "abcd\n",
            "efgh\n",
            "ijkl\n"
          ]
        }
      ]
    },
    {
      "cell_type": "markdown",
      "source": [
        "## Чтение файла"
      ],
      "metadata": {
        "id": "qV2jSM7AryKf"
      }
    },
    {
      "cell_type": "markdown",
      "metadata": {
        "deletable": true,
        "editable": true,
        "id": "_TUJzRkGfOOw"
      },
      "source": [
        "Для открытия фалы используем команду `open`. Она принимает 2 аргумента - путь до файла и режим (по-умолчанию, `'r'`):"
      ]
    },
    {
      "cell_type": "code",
      "metadata": {
        "deletable": true,
        "editable": true,
        "id": "Z9XZgS3FfOOz",
        "colab": {
          "base_uri": "https://localhost:8080/"
        },
        "outputId": "0153b88f-0e6b-4c17-95e3-8ed0d734e3a6"
      },
      "source": [
        "f = open('text.txt', 'r')\n",
        "f"
      ],
      "execution_count": null,
      "outputs": [
        {
          "output_type": "execute_result",
          "data": {
            "text/plain": [
              "<_io.TextIOWrapper name='text.txt' mode='r' encoding='UTF-8'>"
            ]
          },
          "metadata": {},
          "execution_count": 65
        }
      ]
    },
    {
      "cell_type": "code",
      "source": [
        "type(f)"
      ],
      "metadata": {
        "colab": {
          "base_uri": "https://localhost:8080/"
        },
        "id": "KUuW9He8mfZS",
        "outputId": "76dcc856-8c87-4c28-9acf-2bda1d59461a"
      },
      "execution_count": null,
      "outputs": [
        {
          "output_type": "execute_result",
          "data": {
            "text/plain": [
              "_io.TextIOWrapper"
            ]
          },
          "metadata": {},
          "execution_count": 48
        }
      ]
    },
    {
      "cell_type": "code",
      "source": [
        "help(open)"
      ],
      "metadata": {
        "id": "DUQ6PqqmHOyD",
        "colab": {
          "base_uri": "https://localhost:8080/"
        },
        "outputId": "d7b5f1e8-6618-4f29-8c01-e8720351d42e"
      },
      "execution_count": null,
      "outputs": [
        {
          "output_type": "stream",
          "name": "stdout",
          "text": [
            "Help on built-in function open in module io:\n",
            "\n",
            "open(file, mode='r', buffering=-1, encoding=None, errors=None, newline=None, closefd=True, opener=None)\n",
            "    Open file and return a stream.  Raise OSError upon failure.\n",
            "    \n",
            "    file is either a text or byte string giving the name (and the path\n",
            "    if the file isn't in the current working directory) of the file to\n",
            "    be opened or an integer file descriptor of the file to be\n",
            "    wrapped. (If a file descriptor is given, it is closed when the\n",
            "    returned I/O object is closed, unless closefd is set to False.)\n",
            "    \n",
            "    mode is an optional string that specifies the mode in which the file\n",
            "    is opened. It defaults to 'r' which means open for reading in text\n",
            "    mode.  Other common values are 'w' for writing (truncating the file if\n",
            "    it already exists), 'x' for creating and writing to a new file, and\n",
            "    'a' for appending (which on some Unix systems, means that all writes\n",
            "    append to the end of the file regardless of the current seek position).\n",
            "    In text mode, if encoding is not specified the encoding used is platform\n",
            "    dependent: locale.getpreferredencoding(False) is called to get the\n",
            "    current locale encoding. (For reading and writing raw bytes use binary\n",
            "    mode and leave encoding unspecified.) The available modes are:\n",
            "    \n",
            "    ========= ===============================================================\n",
            "    Character Meaning\n",
            "    --------- ---------------------------------------------------------------\n",
            "    'r'       open for reading (default)\n",
            "    'w'       open for writing, truncating the file first\n",
            "    'x'       create a new file and open it for writing\n",
            "    'a'       open for writing, appending to the end of the file if it exists\n",
            "    'b'       binary mode\n",
            "    't'       text mode (default)\n",
            "    '+'       open a disk file for updating (reading and writing)\n",
            "    'U'       universal newline mode (deprecated)\n",
            "    ========= ===============================================================\n",
            "    \n",
            "    The default mode is 'rt' (open for reading text). For binary random\n",
            "    access, the mode 'w+b' opens and truncates the file to 0 bytes, while\n",
            "    'r+b' opens the file without truncation. The 'x' mode implies 'w' and\n",
            "    raises an `FileExistsError` if the file already exists.\n",
            "    \n",
            "    Python distinguishes between files opened in binary and text modes,\n",
            "    even when the underlying operating system doesn't. Files opened in\n",
            "    binary mode (appending 'b' to the mode argument) return contents as\n",
            "    bytes objects without any decoding. In text mode (the default, or when\n",
            "    't' is appended to the mode argument), the contents of the file are\n",
            "    returned as strings, the bytes having been first decoded using a\n",
            "    platform-dependent encoding or using the specified encoding if given.\n",
            "    \n",
            "    'U' mode is deprecated and will raise an exception in future versions\n",
            "    of Python.  It has no effect in Python 3.  Use newline to control\n",
            "    universal newlines mode.\n",
            "    \n",
            "    buffering is an optional integer used to set the buffering policy.\n",
            "    Pass 0 to switch buffering off (only allowed in binary mode), 1 to select\n",
            "    line buffering (only usable in text mode), and an integer > 1 to indicate\n",
            "    the size of a fixed-size chunk buffer.  When no buffering argument is\n",
            "    given, the default buffering policy works as follows:\n",
            "    \n",
            "    * Binary files are buffered in fixed-size chunks; the size of the buffer\n",
            "      is chosen using a heuristic trying to determine the underlying device's\n",
            "      \"block size\" and falling back on `io.DEFAULT_BUFFER_SIZE`.\n",
            "      On many systems, the buffer will typically be 4096 or 8192 bytes long.\n",
            "    \n",
            "    * \"Interactive\" text files (files for which isatty() returns True)\n",
            "      use line buffering.  Other text files use the policy described above\n",
            "      for binary files.\n",
            "    \n",
            "    encoding is the name of the encoding used to decode or encode the\n",
            "    file. This should only be used in text mode. The default encoding is\n",
            "    platform dependent, but any encoding supported by Python can be\n",
            "    passed.  See the codecs module for the list of supported encodings.\n",
            "    \n",
            "    errors is an optional string that specifies how encoding errors are to\n",
            "    be handled---this argument should not be used in binary mode. Pass\n",
            "    'strict' to raise a ValueError exception if there is an encoding error\n",
            "    (the default of None has the same effect), or pass 'ignore' to ignore\n",
            "    errors. (Note that ignoring encoding errors can lead to data loss.)\n",
            "    See the documentation for codecs.register or run 'help(codecs.Codec)'\n",
            "    for a list of the permitted encoding error strings.\n",
            "    \n",
            "    newline controls how universal newlines works (it only applies to text\n",
            "    mode). It can be None, '', '\\n', '\\r', and '\\r\\n'.  It works as\n",
            "    follows:\n",
            "    \n",
            "    * On input, if newline is None, universal newlines mode is\n",
            "      enabled. Lines in the input can end in '\\n', '\\r', or '\\r\\n', and\n",
            "      these are translated into '\\n' before being returned to the\n",
            "      caller. If it is '', universal newline mode is enabled, but line\n",
            "      endings are returned to the caller untranslated. If it has any of\n",
            "      the other legal values, input lines are only terminated by the given\n",
            "      string, and the line ending is returned to the caller untranslated.\n",
            "    \n",
            "    * On output, if newline is None, any '\\n' characters written are\n",
            "      translated to the system default line separator, os.linesep. If\n",
            "      newline is '' or '\\n', no translation takes place. If newline is any\n",
            "      of the other legal values, any '\\n' characters written are translated\n",
            "      to the given string.\n",
            "    \n",
            "    If closefd is False, the underlying file descriptor will be kept open\n",
            "    when the file is closed. This does not work when a file name is given\n",
            "    and must be True in that case.\n",
            "    \n",
            "    A custom opener can be used by passing a callable as *opener*. The\n",
            "    underlying file descriptor for the file object is then obtained by\n",
            "    calling *opener* with (*file*, *flags*). *opener* must return an open\n",
            "    file descriptor (passing os.open as *opener* results in functionality\n",
            "    similar to passing None).\n",
            "    \n",
            "    open() returns a file object whose type depends on the mode, and\n",
            "    through which the standard file operations such as reading and writing\n",
            "    are performed. When open() is used to open a file in a text mode ('w',\n",
            "    'r', 'wt', 'rt', etc.), it returns a TextIOWrapper. When used to open\n",
            "    a file in a binary mode, the returned class varies: in read binary\n",
            "    mode, it returns a BufferedReader; in write binary and append binary\n",
            "    modes, it returns a BufferedWriter, and in read/write mode, it returns\n",
            "    a BufferedRandom.\n",
            "    \n",
            "    It is also possible to use a string or bytearray as a file for both\n",
            "    reading and writing. For strings StringIO can be used like a file\n",
            "    opened in a text mode, and for bytes a BytesIO can be used like a file\n",
            "    opened in a binary mode.\n",
            "\n"
          ]
        }
      ]
    },
    {
      "cell_type": "markdown",
      "metadata": {
        "deletable": true,
        "editable": true,
        "id": "i4H9yEp8fOO1"
      },
      "source": [
        "Получился объект `f` одного из файловых типов. Что с ним можно делать? Можно его использовать в `for` цикле, каждый раз будет возвращаться очередная строка файла (включая `'\\n'` в конце; в конце последней строки текстового файла `'\\n'` может и не быть)."
      ]
    },
    {
      "cell_type": "code",
      "metadata": {
        "deletable": true,
        "editable": true,
        "id": "VVyMeQdnfOO2",
        "colab": {
          "base_uri": "https://localhost:8080/"
        },
        "outputId": "0ec21d37-e556-4bf8-8e10-fd0c4a036e9e"
      },
      "source": [
        "for i, s in enumerate(f):\n",
        "    print(i, s)"
      ],
      "execution_count": null,
      "outputs": [
        {
          "output_type": "stream",
          "name": "stdout",
          "text": [
            "0 abcd\n",
            "\n",
            "1 efgh\n",
            "\n",
            "2 ijkl\n",
            "\n"
          ]
        }
      ]
    },
    {
      "cell_type": "markdown",
      "metadata": {
        "deletable": true,
        "editable": true,
        "id": "4v2sNpU-fOO3"
      },
      "source": [
        "После работы с файлом его необходимо закрыть:\n"
      ]
    },
    {
      "cell_type": "code",
      "metadata": {
        "collapsed": true,
        "deletable": true,
        "editable": true,
        "id": "L6eEconzfOO3"
      },
      "source": [
        "f.close()"
      ],
      "execution_count": null,
      "outputs": []
    },
    {
      "cell_type": "code",
      "source": [
        "f.closed"
      ],
      "metadata": {
        "colab": {
          "base_uri": "https://localhost:8080/"
        },
        "id": "sYj7-LrcI52I",
        "outputId": "20253519-b08b-4887-c9c6-06fea7b11786"
      },
      "execution_count": null,
      "outputs": [
        {
          "output_type": "execute_result",
          "data": {
            "text/plain": [
              "True"
            ]
          },
          "metadata": {},
          "execution_count": 69
        }
      ]
    },
    {
      "cell_type": "markdown",
      "source": [
        "Общий формат работы с файлом выглядит так:"
      ],
      "metadata": {
        "id": "vYdsbHS4mraO"
      }
    },
    {
      "cell_type": "code",
      "metadata": {
        "id": "DpNVSiiMKOPV"
      },
      "source": [
        "# open()\n",
        "# work with file\n",
        "# close()"
      ],
      "execution_count": null,
      "outputs": []
    },
    {
      "cell_type": "markdown",
      "source": [
        "Поэтому часто при работе с файлами используют менеджеры контекстов:"
      ],
      "metadata": {
        "id": "4qpnP1Onm2Z5"
      }
    },
    {
      "cell_type": "code",
      "metadata": {
        "deletable": true,
        "editable": true,
        "id": "pUTwjhG8fOO5",
        "colab": {
          "base_uri": "https://localhost:8080/"
        },
        "outputId": "03a8c711-bd66-4d93-8555-34d59f1a750f"
      },
      "source": [
        "file_strings = []\n",
        "with open('text.txt') as f:\n",
        "    for s in f:\n",
        "        print(s[:-1])\n",
        "        file_strings.append(s)"
      ],
      "execution_count": null,
      "outputs": [
        {
          "output_type": "stream",
          "name": "stdout",
          "text": [
            "abcd\n",
            "efgh\n",
            "ijkl\n"
          ]
        }
      ]
    },
    {
      "cell_type": "code",
      "source": [
        "file_strings"
      ],
      "metadata": {
        "colab": {
          "base_uri": "https://localhost:8080/"
        },
        "id": "rcY9t3mDJoEY",
        "outputId": "f2d72b5b-ae8f-48b2-bfdb-53ddbdbc45b5"
      },
      "execution_count": null,
      "outputs": [
        {
          "output_type": "execute_result",
          "data": {
            "text/plain": [
              "['abcd\\n', 'efgh\\n', 'ijkl\\n']"
            ]
          },
          "metadata": {},
          "execution_count": 71
        }
      ]
    },
    {
      "cell_type": "markdown",
      "source": [
        "У объекта `f` имеются и полезные методы:"
      ],
      "metadata": {
        "id": "ee5PMP49m_1j"
      }
    },
    {
      "cell_type": "markdown",
      "metadata": {
        "deletable": true,
        "editable": true,
        "id": "EqBRjBYMfOO5"
      },
      "source": [
        "Метод `f.read(n)` читает `n` символов (когда файл близится к концу и прочитать именно `n` символов уже невозможно, читает меньше; в самый последний раз он читает 0 символов и возвращает `''`). Прочитаем файл по 2 символа."
      ]
    },
    {
      "cell_type": "code",
      "metadata": {
        "deletable": true,
        "editable": true,
        "colab": {
          "base_uri": "https://localhost:8080/"
        },
        "id": "71l2WwVTfOO6",
        "outputId": "1be8696e-00a3-426b-f33c-d3eb3c63c420"
      },
      "source": [
        "with open('text.txt') as f:\n",
        "    while True:\n",
        "        c = f.read(2)\n",
        "        if c == '':\n",
        "            break\n",
        "        else:\n",
        "            print(c.__repr__())"
      ],
      "execution_count": null,
      "outputs": [
        {
          "output_type": "stream",
          "name": "stdout",
          "text": [
            "'ab'\n",
            "'cd'\n",
            "'\\ne'\n",
            "'fg'\n",
            "'h\\n'\n",
            "'ij'\n",
            "'kl'\n",
            "'\\n'\n"
          ]
        }
      ]
    },
    {
      "cell_type": "markdown",
      "source": [
        "Если не указать количество символов, то файл прочитается полностью:"
      ],
      "metadata": {
        "id": "cWN0AYDgnMjE"
      }
    },
    {
      "cell_type": "code",
      "metadata": {
        "deletable": true,
        "editable": true,
        "id": "zfth2Xw-fOO7"
      },
      "source": [
        "with open('text.txt') as f:\n",
        "    s = f.read()"
      ],
      "execution_count": null,
      "outputs": []
    },
    {
      "cell_type": "code",
      "source": [
        "s"
      ],
      "metadata": {
        "colab": {
          "base_uri": "https://localhost:8080/",
          "height": 35
        },
        "id": "2Mnzz1MBnLoN",
        "outputId": "3836a37c-4af9-41a6-df58-3723fd6aa524"
      },
      "execution_count": null,
      "outputs": [
        {
          "output_type": "execute_result",
          "data": {
            "text/plain": [
              "'abcd\\nefgh\\nijkl\\n'"
            ],
            "application/vnd.google.colaboratory.intrinsic+json": {
              "type": "string"
            }
          },
          "metadata": {},
          "execution_count": 74
        }
      ]
    },
    {
      "cell_type": "markdown",
      "source": [
        "Если хотим прочитать файл построчно, то пользуемся методом `readline`:"
      ],
      "metadata": {
        "id": "0vVdgkignTIR"
      }
    },
    {
      "cell_type": "code",
      "metadata": {
        "deletable": true,
        "editable": true,
        "colab": {
          "base_uri": "https://localhost:8080/"
        },
        "id": "5drUgnNkfOO8",
        "outputId": "a9fd6cdd-7cde-4246-a201-f309d1d196df"
      },
      "source": [
        "with open('text.txt') as f:\n",
        "    count = 0\n",
        "    while True:\n",
        "        s = f.readline()\n",
        "        if s == '':\n",
        "            break\n",
        "        else:\n",
        "            print(f'count: {count}, {s.__repr__()}')\n",
        "            count += 1"
      ],
      "execution_count": null,
      "outputs": [
        {
          "output_type": "stream",
          "name": "stdout",
          "text": [
            "count: 0, 'abcd\\n'\n",
            "count: 1, 'efgh\\n'\n",
            "count: 2, 'ijkl\\n'\n"
          ]
        }
      ]
    },
    {
      "cell_type": "code",
      "metadata": {
        "id": "_SpjHzFpL3lJ",
        "colab": {
          "base_uri": "https://localhost:8080/"
        },
        "outputId": "9f874910-6331-4634-e07c-6ab00800db21"
      },
      "source": [
        "with open('text.txt') as f:\n",
        "    s1 = f.readline()[:-1]\n",
        "    s2 = f.readline()[:-1]\n",
        "    s3 = f.readline()[:-1]\n",
        "\n",
        "print(s1, s2, s3, sep='\\n')"
      ],
      "execution_count": null,
      "outputs": [
        {
          "output_type": "stream",
          "name": "stdout",
          "text": [
            "abcd\n",
            "efgh\n",
            "ijkl\n"
          ]
        }
      ]
    },
    {
      "cell_type": "markdown",
      "metadata": {
        "deletable": true,
        "editable": true,
        "id": "F8QVYE0-fOO8"
      },
      "source": [
        "Метод `f.readlines()` возвращает список строк (его лучше не применять для очень больших файлов)."
      ]
    },
    {
      "cell_type": "code",
      "metadata": {
        "deletable": true,
        "editable": true,
        "colab": {
          "base_uri": "https://localhost:8080/"
        },
        "id": "DrjMn2S_fOO9",
        "outputId": "b4e6e8ae-2e96-4953-cc89-00eb263f0da9"
      },
      "source": [
        "with open('text.txt') as f:\n",
        "    lst_of_words = f.readlines()\n",
        "lst_of_words"
      ],
      "execution_count": null,
      "outputs": [
        {
          "output_type": "execute_result",
          "data": {
            "text/plain": [
              "['abcd\\n', 'efgh\\n', 'ijkl\\n']"
            ]
          },
          "metadata": {},
          "execution_count": 76
        }
      ]
    },
    {
      "cell_type": "markdown",
      "metadata": {
        "deletable": true,
        "editable": true,
        "id": "8voxVsf8fOO9"
      },
      "source": [
        "Теперь посмотрим, чем же оператор `with` лучше, чем пара `open` - `close`."
      ]
    },
    {
      "cell_type": "code",
      "metadata": {
        "collapsed": true,
        "deletable": true,
        "editable": true,
        "id": "5dOGPtOAfOO9"
      },
      "source": [
        "def a(name):\n",
        "    global f\n",
        "    f = open(name)\n",
        "    s = f.readline()\n",
        "    n = 1 / 0\n",
        "    f.close()\n",
        "    return s"
      ],
      "execution_count": null,
      "outputs": []
    },
    {
      "cell_type": "code",
      "metadata": {
        "deletable": true,
        "editable": true,
        "colab": {
          "base_uri": "https://localhost:8080/",
          "height": 306
        },
        "id": "NjthTZonfOO9",
        "outputId": "e8620ca6-be10-4f5c-cca9-e063770eb017"
      },
      "source": [
        "a('text.txt')"
      ],
      "execution_count": null,
      "outputs": [
        {
          "output_type": "error",
          "ename": "ZeroDivisionError",
          "evalue": "ignored",
          "traceback": [
            "\u001b[0;31m---------------------------------------------------------------------------\u001b[0m",
            "\u001b[0;31mZeroDivisionError\u001b[0m                         Traceback (most recent call last)",
            "\u001b[0;32m<ipython-input-20-531c388ec361>\u001b[0m in \u001b[0;36m<cell line: 1>\u001b[0;34m()\u001b[0m\n\u001b[0;32m----> 1\u001b[0;31m \u001b[0ma\u001b[0m\u001b[0;34m(\u001b[0m\u001b[0;34m'text.txt'\u001b[0m\u001b[0;34m)\u001b[0m\u001b[0;34m\u001b[0m\u001b[0;34m\u001b[0m\u001b[0m\n\u001b[0m",
            "\u001b[0;32m<ipython-input-19-0b2fccf1c47f>\u001b[0m in \u001b[0;36ma\u001b[0;34m(name)\u001b[0m\n\u001b[1;32m      3\u001b[0m     \u001b[0mf\u001b[0m \u001b[0;34m=\u001b[0m \u001b[0mopen\u001b[0m\u001b[0;34m(\u001b[0m\u001b[0mname\u001b[0m\u001b[0;34m)\u001b[0m\u001b[0;34m\u001b[0m\u001b[0;34m\u001b[0m\u001b[0m\n\u001b[1;32m      4\u001b[0m     \u001b[0ms\u001b[0m \u001b[0;34m=\u001b[0m \u001b[0mf\u001b[0m\u001b[0;34m.\u001b[0m\u001b[0mreadline\u001b[0m\u001b[0;34m(\u001b[0m\u001b[0;34m)\u001b[0m\u001b[0;34m\u001b[0m\u001b[0;34m\u001b[0m\u001b[0m\n\u001b[0;32m----> 5\u001b[0;31m     \u001b[0mn\u001b[0m \u001b[0;34m=\u001b[0m \u001b[0;36m1\u001b[0m \u001b[0;34m/\u001b[0m \u001b[0;36m0\u001b[0m\u001b[0;34m\u001b[0m\u001b[0;34m\u001b[0m\u001b[0m\n\u001b[0m\u001b[1;32m      6\u001b[0m     \u001b[0mf\u001b[0m\u001b[0;34m.\u001b[0m\u001b[0mclose\u001b[0m\u001b[0;34m(\u001b[0m\u001b[0;34m)\u001b[0m\u001b[0;34m\u001b[0m\u001b[0;34m\u001b[0m\u001b[0m\n\u001b[1;32m      7\u001b[0m     \u001b[0;32mreturn\u001b[0m \u001b[0ms\u001b[0m\u001b[0;34m\u001b[0m\u001b[0;34m\u001b[0m\u001b[0m\n",
            "\u001b[0;31mZeroDivisionError\u001b[0m: division by zero"
          ]
        }
      ]
    },
    {
      "cell_type": "code",
      "metadata": {
        "deletable": true,
        "editable": true,
        "colab": {
          "base_uri": "https://localhost:8080/"
        },
        "id": "_S1AmqPwfOO-",
        "outputId": "ae74e4cb-77dd-4542-f93b-02f20626a6cf"
      },
      "source": [
        "f.closed"
      ],
      "execution_count": null,
      "outputs": [
        {
          "output_type": "execute_result",
          "data": {
            "text/plain": [
              "False"
            ]
          },
          "metadata": {},
          "execution_count": 21
        }
      ]
    },
    {
      "cell_type": "code",
      "metadata": {
        "deletable": true,
        "editable": true,
        "id": "zSvUdpdNfOO-",
        "colab": {
          "base_uri": "https://localhost:8080/"
        },
        "outputId": "ea8c978a-b21d-4054-b1f8-cb7a0ac8f0e5"
      },
      "source": [
        "f.close()\n",
        "f.closed"
      ],
      "execution_count": null,
      "outputs": [
        {
          "output_type": "execute_result",
          "data": {
            "text/plain": [
              "True"
            ]
          },
          "metadata": {},
          "execution_count": 22
        }
      ]
    },
    {
      "cell_type": "code",
      "source": [
        "f = open(\"text.txt\")"
      ],
      "metadata": {
        "id": "LRe5DZ1-Mz8D"
      },
      "execution_count": null,
      "outputs": []
    },
    {
      "cell_type": "markdown",
      "metadata": {
        "deletable": true,
        "editable": true,
        "id": "00pDllA5fOO-"
      },
      "source": [
        "Произошло исключение, мы покинули функцию до строчки `close`, и файл не закрылся."
      ]
    },
    {
      "cell_type": "code",
      "metadata": {
        "collapsed": true,
        "deletable": true,
        "editable": true,
        "id": "8M8p-ZwofOO_"
      },
      "source": [
        "def a(name):\n",
        "    global f\n",
        "    with open(name) as f:\n",
        "        print(f'File is opened: {not f.closed}')\n",
        "        s = f.readline()\n",
        "        n = 1 / 0\n",
        "    return s"
      ],
      "execution_count": null,
      "outputs": []
    },
    {
      "cell_type": "code",
      "metadata": {
        "deletable": true,
        "editable": true,
        "colab": {
          "base_uri": "https://localhost:8080/",
          "height": 306
        },
        "id": "MtvqurMXfOO_",
        "outputId": "5331812a-cdb5-4733-ba49-bb7d25f1f34b"
      },
      "source": [
        "a('text.txt')"
      ],
      "execution_count": null,
      "outputs": [
        {
          "output_type": "stream",
          "name": "stdout",
          "text": [
            "File is opened: True\n"
          ]
        },
        {
          "output_type": "error",
          "ename": "ZeroDivisionError",
          "evalue": "ignored",
          "traceback": [
            "\u001b[0;31m---------------------------------------------------------------------------\u001b[0m",
            "\u001b[0;31mZeroDivisionError\u001b[0m                         Traceback (most recent call last)",
            "\u001b[0;32m<ipython-input-25-531c388ec361>\u001b[0m in \u001b[0;36m<cell line: 1>\u001b[0;34m()\u001b[0m\n\u001b[0;32m----> 1\u001b[0;31m \u001b[0ma\u001b[0m\u001b[0;34m(\u001b[0m\u001b[0;34m'text.txt'\u001b[0m\u001b[0;34m)\u001b[0m\u001b[0;34m\u001b[0m\u001b[0;34m\u001b[0m\u001b[0m\n\u001b[0m",
            "\u001b[0;32m<ipython-input-24-b5af3bd7e707>\u001b[0m in \u001b[0;36ma\u001b[0;34m(name)\u001b[0m\n\u001b[1;32m      4\u001b[0m         \u001b[0mprint\u001b[0m\u001b[0;34m(\u001b[0m\u001b[0;34mf'File is opened: {not f.closed}'\u001b[0m\u001b[0;34m)\u001b[0m\u001b[0;34m\u001b[0m\u001b[0;34m\u001b[0m\u001b[0m\n\u001b[1;32m      5\u001b[0m         \u001b[0ms\u001b[0m \u001b[0;34m=\u001b[0m \u001b[0mf\u001b[0m\u001b[0;34m.\u001b[0m\u001b[0mreadline\u001b[0m\u001b[0;34m(\u001b[0m\u001b[0;34m)\u001b[0m\u001b[0;34m\u001b[0m\u001b[0;34m\u001b[0m\u001b[0m\n\u001b[0;32m----> 6\u001b[0;31m         \u001b[0mn\u001b[0m \u001b[0;34m=\u001b[0m \u001b[0;36m1\u001b[0m \u001b[0;34m/\u001b[0m \u001b[0;36m0\u001b[0m\u001b[0;34m\u001b[0m\u001b[0;34m\u001b[0m\u001b[0m\n\u001b[0m\u001b[1;32m      7\u001b[0m     \u001b[0;32mreturn\u001b[0m \u001b[0ms\u001b[0m\u001b[0;34m\u001b[0m\u001b[0;34m\u001b[0m\u001b[0m\n",
            "\u001b[0;31mZeroDivisionError\u001b[0m: division by zero"
          ]
        }
      ]
    },
    {
      "cell_type": "code",
      "metadata": {
        "deletable": true,
        "editable": true,
        "id": "VfuIw2OKfOO_",
        "colab": {
          "base_uri": "https://localhost:8080/"
        },
        "outputId": "a272ce9f-feaa-4148-c249-8523925cafed"
      },
      "source": [
        "f.closed"
      ],
      "execution_count": null,
      "outputs": [
        {
          "output_type": "execute_result",
          "data": {
            "text/plain": [
              "True"
            ]
          },
          "metadata": {},
          "execution_count": 26
        }
      ]
    },
    {
      "cell_type": "markdown",
      "metadata": {
        "deletable": true,
        "editable": true,
        "id": "2M9_CrsIfOO_"
      },
      "source": [
        "Теперь всё в порядке."
      ]
    },
    {
      "cell_type": "markdown",
      "source": [
        "## Запись в файл"
      ],
      "metadata": {
        "id": "ZlvOLzper8YH"
      }
    },
    {
      "cell_type": "markdown",
      "source": [
        "Чтобы открыть файл на запись, нужно указать в качестве второго аргумента `'w'`:"
      ],
      "metadata": {
        "id": "fl89qhOyr8Pv"
      }
    },
    {
      "cell_type": "code",
      "metadata": {
        "collapsed": true,
        "deletable": true,
        "editable": true,
        "id": "ypQctoTXfOPA"
      },
      "source": [
        "f = open('newtext.txt', 'w')"
      ],
      "execution_count": null,
      "outputs": []
    },
    {
      "cell_type": "code",
      "metadata": {
        "deletable": true,
        "editable": true,
        "colab": {
          "base_uri": "https://localhost:8080/"
        },
        "id": "tEV-TQYVfOPA",
        "outputId": "416d77cf-1ecd-49b5-b74f-365137ed9d0a"
      },
      "source": [
        "f.write('aaa\\n')"
      ],
      "execution_count": null,
      "outputs": [
        {
          "output_type": "execute_result",
          "data": {
            "text/plain": [
              "4"
            ]
          },
          "metadata": {},
          "execution_count": 92
        }
      ]
    },
    {
      "cell_type": "code",
      "metadata": {
        "deletable": true,
        "editable": true,
        "colab": {
          "base_uri": "https://localhost:8080/"
        },
        "id": "gYeZo0ZHfOPA",
        "outputId": "e2a90d5e-81fd-4d57-f582-632da1bcca21"
      },
      "source": [
        "f.write('bbb\\n')"
      ],
      "execution_count": null,
      "outputs": [
        {
          "output_type": "execute_result",
          "data": {
            "text/plain": [
              "4"
            ]
          },
          "metadata": {},
          "execution_count": 93
        }
      ]
    },
    {
      "cell_type": "code",
      "metadata": {
        "deletable": true,
        "editable": true,
        "colab": {
          "base_uri": "https://localhost:8080/"
        },
        "id": "fA8LA7lzfOPA",
        "outputId": "8e75b29b-cf23-411d-b731-35a92bfd31ef"
      },
      "source": [
        "f.write('ccc\\n')"
      ],
      "execution_count": null,
      "outputs": [
        {
          "output_type": "execute_result",
          "data": {
            "text/plain": [
              "4"
            ]
          },
          "metadata": {},
          "execution_count": 94
        }
      ]
    },
    {
      "cell_type": "code",
      "metadata": {
        "collapsed": true,
        "deletable": true,
        "editable": true,
        "id": "nq9ECxASfOPB"
      },
      "source": [
        "f.close()"
      ],
      "execution_count": null,
      "outputs": []
    },
    {
      "cell_type": "code",
      "metadata": {
        "colab": {
          "base_uri": "https://localhost:8080/"
        },
        "id": "FFgsA3d9NhbS",
        "outputId": "ada27531-0b1e-4087-afe4-857eaf0e6a66"
      },
      "source": [
        "!cat newtext.txt"
      ],
      "execution_count": null,
      "outputs": [
        {
          "output_type": "stream",
          "name": "stdout",
          "text": [
            "aaa\n",
            "bbb\n",
            "ccc\n"
          ]
        }
      ]
    },
    {
      "cell_type": "code",
      "metadata": {
        "deletable": true,
        "editable": true,
        "id": "wxkaE9RZfOPB"
      },
      "source": [
        "with open('newtext.txt', 'w') as f:\n",
        "    f.write('aaa\\n')\n",
        "    f.write('bbb\\n')\n",
        "    f.write('ccc\\n')"
      ],
      "execution_count": null,
      "outputs": []
    },
    {
      "cell_type": "code",
      "metadata": {
        "deletable": true,
        "editable": true,
        "colab": {
          "base_uri": "https://localhost:8080/"
        },
        "id": "7QU2ezyPfOPB",
        "outputId": "2bd1ab73-ad8d-4038-cf26-df57f6e01b3c"
      },
      "source": [
        "!cat newtext.txt"
      ],
      "execution_count": null,
      "outputs": [
        {
          "output_type": "stream",
          "name": "stdout",
          "text": [
            "aaa\n",
            "bbb\n",
            "ccc\n"
          ]
        }
      ]
    },
    {
      "cell_type": "markdown",
      "metadata": {
        "deletable": true,
        "editable": true,
        "id": "4VFPp7jffOPB"
      },
      "source": [
        "Создадим функцию, которая копирует старый текстовый файл в новый. Если строки нужно как-нибудь обработать, в последней строчке вместо `line` будет стоять что-нибудь вроде `f(line)`:"
      ]
    },
    {
      "cell_type": "code",
      "metadata": {
        "collapsed": true,
        "deletable": true,
        "editable": true,
        "id": "00Kk9VUjfOPC"
      },
      "source": [
        "def copy(old_name, new_name):\n",
        "    with open(old_name) as old, open(new_name, 'w') as new:\n",
        "        for line in old:\n",
        "            new.write(line)"
      ],
      "execution_count": null,
      "outputs": []
    },
    {
      "cell_type": "code",
      "source": [
        "def copy(old_name, new_name):\n",
        "    with open(old_name) as old:\n",
        "        with open(new_name, 'w') as new:\n",
        "            for line in old:\n",
        "                new.write(line)"
      ],
      "metadata": {
        "id": "-XOtYbYEODmI"
      },
      "execution_count": null,
      "outputs": []
    },
    {
      "cell_type": "code",
      "metadata": {
        "collapsed": true,
        "deletable": true,
        "editable": true,
        "id": "tvd3P227fOPC"
      },
      "source": [
        "copy('text.txt', 'newtext.txt')"
      ],
      "execution_count": null,
      "outputs": []
    },
    {
      "cell_type": "code",
      "metadata": {
        "deletable": true,
        "editable": true,
        "colab": {
          "base_uri": "https://localhost:8080/"
        },
        "id": "b9SHjRqUfOPC",
        "outputId": "f886a759-68b8-4c2c-946b-4fa917c67cea"
      },
      "source": [
        "!cat newtext.txt"
      ],
      "execution_count": null,
      "outputs": [
        {
          "output_type": "stream",
          "name": "stdout",
          "text": [
            "abcd\n",
            "efgh\n",
            "ijkl\n"
          ]
        }
      ]
    },
    {
      "cell_type": "markdown",
      "metadata": {
        "id": "lY0huDq-GTbS"
      },
      "source": [
        "# f-строки"
      ]
    },
    {
      "cell_type": "markdown",
      "source": [
        "**f-строки** - более новый и удобный способ форматирования строк, добавлен в Python 3.6:"
      ],
      "metadata": {
        "id": "C9b73xI2IL42"
      }
    },
    {
      "cell_type": "code",
      "execution_count": null,
      "metadata": {
        "id": "ezmRFCKDGTbS",
        "outputId": "56a57ceb-7852-430d-e1d2-51e723e04e06",
        "colab": {
          "base_uri": "https://localhost:8080/",
          "height": 35
        }
      },
      "outputs": [
        {
          "output_type": "execute_result",
          "data": {
            "text/plain": [
              "'В 2023-м году состоится 7-й сезон курса Python 3'"
            ],
            "application/vnd.google.colaboratory.intrinsic+json": {
              "type": "string"
            }
          },
          "metadata": {},
          "execution_count": 40
        }
      ],
      "source": [
        "year = 2023\n",
        "season = 7\n",
        "f'В {year}-м году состоится {season}-й сезон курса Python 3' # Обратите внимание на символ f перед строкой"
      ]
    },
    {
      "cell_type": "markdown",
      "metadata": {
        "id": "RGcgcktSGTbT"
      },
      "source": [
        "f-строки поддерживают форматирование чисел:"
      ]
    },
    {
      "cell_type": "code",
      "execution_count": null,
      "metadata": {
        "id": "0ERUtMMVGTbT",
        "outputId": "8e23492d-9b7a-4c50-e280-8fb7686f275d",
        "colab": {
          "base_uri": "https://localhost:8080/",
          "height": 35
        }
      },
      "outputs": [
        {
          "output_type": "execute_result",
          "data": {
            "text/plain": [
              "'В 2023-м году состоится  7.00-й сезон курса Python 3'"
            ],
            "application/vnd.google.colaboratory.intrinsic+json": {
              "type": "string"
            }
          },
          "metadata": {},
          "execution_count": 41
        }
      ],
      "source": [
        "year = 2023\n",
        "season = 7\n",
        "\n",
        "# .2f - вещественное число с двумя знаками после запятой\n",
        "f'В {year}-м году состоится {season: .2f}-й сезон курса Python 3'"
      ]
    },
    {
      "cell_type": "markdown",
      "metadata": {
        "id": "Ot3YG90OGTbT"
      },
      "source": [
        "Внутри f-строк можно выполнять различные операции:"
      ]
    },
    {
      "cell_type": "code",
      "execution_count": null,
      "metadata": {
        "id": "omJoT9BkGTbT",
        "outputId": "c28ce741-ca44-45f2-9df0-89ab98bd8437"
      },
      "outputs": [
        {
          "name": "stdout",
          "output_type": "stream",
          "text": [
            "В 2023-м году состоится 7-й сезон курса Python 3\n"
          ]
        }
      ],
      "source": [
        "year = 2023\n",
        "\n",
        "f'В {year}-м году состоится {year-2017+1}-й сезон курса Python 3'"
      ]
    },
    {
      "cell_type": "markdown",
      "metadata": {
        "id": "B8Mvov97GTbT"
      },
      "source": [
        "Можно обращаться к элементам списков по индексу:"
      ]
    },
    {
      "cell_type": "code",
      "execution_count": null,
      "metadata": {
        "id": "75iktgkgGTbT",
        "outputId": "1f025df9-34f2-420d-e1d3-7749fadacc9b"
      },
      "outputs": [
        {
          "name": "stdout",
          "output_type": "stream",
          "text": [
            "В 2023-м году состоится 7-й сезон курса Python 3\n"
          ]
        }
      ],
      "source": [
        "years = [2016, 2017, 2018, 2019, 2020, 2021, 2022, 2023]\n",
        "season = 7\n",
        "\n",
        "f'В {years[season]}-м году состоится {season}-й сезон курса Python 3'"
      ]
    },
    {
      "cell_type": "markdown",
      "metadata": {
        "id": "wYB_la7ZGTbT"
      },
      "source": [
        "И даже использовать функции и методы:"
      ]
    },
    {
      "cell_type": "code",
      "execution_count": null,
      "metadata": {
        "id": "OSXbawm6GTbU",
        "outputId": "7158b587-b3c8-468a-8851-3909ec7669bc"
      },
      "outputs": [
        {
          "name": "stdout",
          "output_type": "stream",
          "text": [
            "В 2023-м году состоится 7-й сезон PYTHON 3\n"
          ]
        }
      ],
      "source": [
        "year = 2023\n",
        "season = 7\n",
        "name = 'Python 3'\n",
        "\n",
        "f'В {year}-м году состоится {season}-й сезон {name.upper()}'"
      ]
    },
    {
      "cell_type": "markdown",
      "source": [
        "# Исключения"
      ],
      "metadata": {
        "id": "Gya9SNsWMVrr"
      }
    },
    {
      "cell_type": "markdown",
      "source": [
        "Программа в Python падает (останавливает свое выполнение) сразу как только встречает ошибку. Ошибки в Python делятся на две категории:\n",
        "- синтаксические ошибки\n",
        "- исключения"
      ],
      "metadata": {
        "id": "aMAXZslSpQCD"
      }
    },
    {
      "cell_type": "markdown",
      "source": [
        "**Синтаксические ошибки** возникают, когда интерпретатор (а точнее его компонент - парсер) обнаруживает некорректное выражение, например:"
      ],
      "metadata": {
        "id": "IXCQWBA3ppar"
      }
    },
    {
      "cell_type": "code",
      "source": [
        "print(0 / 0"
      ],
      "metadata": {
        "colab": {
          "base_uri": "https://localhost:8080/",
          "height": 134
        },
        "id": "LdE72Yd-pzHe",
        "outputId": "8b6e7362-6123-44a3-cdf0-655c810d0b0e"
      },
      "execution_count": null,
      "outputs": [
        {
          "output_type": "error",
          "ename": "SyntaxError",
          "evalue": "ignored",
          "traceback": [
            "\u001b[0;36m  File \u001b[0;32m\"<ipython-input-40-e4323856dc5b>\"\u001b[0;36m, line \u001b[0;32m1\u001b[0m\n\u001b[0;31m    print(0 / 0\u001b[0m\n\u001b[0m               ^\u001b[0m\n\u001b[0;31mSyntaxError\u001b[0m\u001b[0;31m:\u001b[0m incomplete input\n"
          ]
        }
      ]
    },
    {
      "cell_type": "markdown",
      "source": [
        "Стрелочка показывает, где именно парсер наткнулся на ошибку. В примере выше указана лишняя скобка. Уберем и запустим ячейку еще раз:"
      ],
      "metadata": {
        "id": "WdMwq2bnp64-"
      }
    },
    {
      "cell_type": "code",
      "source": [
        "print(0 / 0)"
      ],
      "metadata": {
        "colab": {
          "base_uri": "https://localhost:8080/",
          "height": 170
        },
        "id": "MeUuH66pqQo1",
        "outputId": "5f83fb9f-0dca-4a85-dd87-68f1e8bfd679"
      },
      "execution_count": null,
      "outputs": [
        {
          "output_type": "error",
          "ename": "ZeroDivisionError",
          "evalue": "ignored",
          "traceback": [
            "\u001b[0;31m---------------------------------------------------------------------------\u001b[0m",
            "\u001b[0;31mZeroDivisionError\u001b[0m                         Traceback (most recent call last)",
            "\u001b[0;32m<ipython-input-41-b6c088d31521>\u001b[0m in \u001b[0;36m<cell line: 1>\u001b[0;34m()\u001b[0m\n\u001b[0;32m----> 1\u001b[0;31m \u001b[0mprint\u001b[0m\u001b[0;34m(\u001b[0m\u001b[0;36m0\u001b[0m \u001b[0;34m/\u001b[0m \u001b[0;36m0\u001b[0m\u001b[0;34m)\u001b[0m\u001b[0;34m\u001b[0m\u001b[0;34m\u001b[0m\u001b[0m\n\u001b[0m",
            "\u001b[0;31mZeroDivisionError\u001b[0m: division by zero"
          ]
        }
      ]
    },
    {
      "cell_type": "code",
      "source": [
        "a = 1\n",
        "b = 0\n",
        "print(a / b)"
      ],
      "metadata": {
        "colab": {
          "base_uri": "https://localhost:8080/",
          "height": 206
        },
        "id": "vFqSk766_D_9",
        "outputId": "96cacf3b-7b5b-4025-e13b-32f1848ea3cb"
      },
      "execution_count": null,
      "outputs": [
        {
          "output_type": "error",
          "ename": "ZeroDivisionError",
          "evalue": "ignored",
          "traceback": [
            "\u001b[0;31m---------------------------------------------------------------------------\u001b[0m",
            "\u001b[0;31mZeroDivisionError\u001b[0m                         Traceback (most recent call last)",
            "\u001b[0;32m<ipython-input-42-e758bfde7736>\u001b[0m in \u001b[0;36m<cell line: 3>\u001b[0;34m()\u001b[0m\n\u001b[1;32m      1\u001b[0m \u001b[0ma\u001b[0m \u001b[0;34m=\u001b[0m \u001b[0;36m1\u001b[0m\u001b[0;34m\u001b[0m\u001b[0;34m\u001b[0m\u001b[0m\n\u001b[1;32m      2\u001b[0m \u001b[0mb\u001b[0m \u001b[0;34m=\u001b[0m \u001b[0;36m0\u001b[0m\u001b[0;34m\u001b[0m\u001b[0;34m\u001b[0m\u001b[0m\n\u001b[0;32m----> 3\u001b[0;31m \u001b[0mprint\u001b[0m\u001b[0;34m(\u001b[0m\u001b[0ma\u001b[0m \u001b[0;34m/\u001b[0m \u001b[0mb\u001b[0m\u001b[0;34m)\u001b[0m\u001b[0;34m\u001b[0m\u001b[0;34m\u001b[0m\u001b[0m\n\u001b[0m",
            "\u001b[0;31mZeroDivisionError\u001b[0m: division by zero"
          ]
        }
      ]
    },
    {
      "cell_type": "markdown",
      "source": [
        "В этот раз мы столкнулись с **исключением**. Этот тип ошибки возникает, когда синтаксически верный код приводит к ошибке. Последняя строка показывает с исключением какого типа мы столкнулись - в нашем примере это `ZeroDivisionError` (ошибка деления на ноль).\n",
        "\n",
        "В Python находится огрномное количество встроенных исключений, но если вам их не хватит, то можно создать их и самому."
      ],
      "metadata": {
        "id": "plNWUWDGMqW4"
      }
    },
    {
      "cell_type": "markdown",
      "source": [
        "В примере выше полученное исключение означало, что мы пытаемся делить на ноль, а эта операция запрещена. Порой в написанных нами программах тоже возникает необходимость проверять код на корректность значений, хранящихся в переменной.\n",
        "\n",
        "Например, наша функция корректно работает только с положительными числами, поэтому нужно остановить выполнение программы, если пользователь подал на вход ей неположительное число.\n",
        "\n",
        "Для таких случаев в Python есть команда `raise`:"
      ],
      "metadata": {
        "id": "bKWRhf9Prj7k"
      }
    },
    {
      "cell_type": "code",
      "source": [
        "from math import sqrt\n",
        "\n",
        "def cool_func(x):\n",
        "    print(\"Running cool func...\")\n",
        "    if x >= 0:\n",
        "        result = sqrt(x) + x\n",
        "    else:\n",
        "        raise Exception('x must be larger than zero! The value of x was '+ str(x))\n",
        "    print(\"Result:\", result)\n",
        "    return result"
      ],
      "metadata": {
        "id": "RKFuSI-tsr2I"
      },
      "execution_count": null,
      "outputs": []
    },
    {
      "cell_type": "code",
      "source": [
        "cool_func(9)"
      ],
      "metadata": {
        "colab": {
          "base_uri": "https://localhost:8080/"
        },
        "id": "ed6fu1rFs-zt",
        "outputId": "44b1edfd-d5bf-4229-b953-8c2e66e0e5a5"
      },
      "execution_count": null,
      "outputs": [
        {
          "output_type": "stream",
          "name": "stdout",
          "text": [
            "Running cool func...\n",
            "Result: 12.0\n"
          ]
        },
        {
          "output_type": "execute_result",
          "data": {
            "text/plain": [
              "12.0"
            ]
          },
          "metadata": {},
          "execution_count": 45
        }
      ]
    },
    {
      "cell_type": "code",
      "source": [
        "cool_func(-9)"
      ],
      "metadata": {
        "colab": {
          "base_uri": "https://localhost:8080/",
          "height": 315
        },
        "id": "dY031deJtFvb",
        "outputId": "4c93feaa-833c-4623-b698-b95e8b201aaf"
      },
      "execution_count": null,
      "outputs": [
        {
          "output_type": "stream",
          "name": "stdout",
          "text": [
            "Running cool func...\n"
          ]
        },
        {
          "output_type": "error",
          "ename": "Exception",
          "evalue": "ignored",
          "traceback": [
            "\u001b[0;31m---------------------------------------------------------------------------\u001b[0m",
            "\u001b[0;31mException\u001b[0m                                 Traceback (most recent call last)",
            "\u001b[0;32m<ipython-input-46-92099e20afd0>\u001b[0m in \u001b[0;36m<cell line: 1>\u001b[0;34m()\u001b[0m\n\u001b[0;32m----> 1\u001b[0;31m \u001b[0mcool_func\u001b[0m\u001b[0;34m(\u001b[0m\u001b[0;34m-\u001b[0m\u001b[0;36m9\u001b[0m\u001b[0;34m)\u001b[0m\u001b[0;34m\u001b[0m\u001b[0;34m\u001b[0m\u001b[0m\n\u001b[0m",
            "\u001b[0;32m<ipython-input-44-c8d8816b4e13>\u001b[0m in \u001b[0;36mcool_func\u001b[0;34m(x)\u001b[0m\n\u001b[1;32m      6\u001b[0m         \u001b[0mresult\u001b[0m \u001b[0;34m=\u001b[0m \u001b[0msqrt\u001b[0m\u001b[0;34m(\u001b[0m\u001b[0mx\u001b[0m\u001b[0;34m)\u001b[0m \u001b[0;34m+\u001b[0m \u001b[0mx\u001b[0m\u001b[0;34m\u001b[0m\u001b[0;34m\u001b[0m\u001b[0m\n\u001b[1;32m      7\u001b[0m     \u001b[0;32melse\u001b[0m\u001b[0;34m:\u001b[0m\u001b[0;34m\u001b[0m\u001b[0;34m\u001b[0m\u001b[0m\n\u001b[0;32m----> 8\u001b[0;31m         \u001b[0;32mraise\u001b[0m \u001b[0mException\u001b[0m\u001b[0;34m(\u001b[0m\u001b[0;34m'x must be larger than zero! The value of x was '\u001b[0m\u001b[0;34m+\u001b[0m \u001b[0mstr\u001b[0m\u001b[0;34m(\u001b[0m\u001b[0mx\u001b[0m\u001b[0;34m)\u001b[0m\u001b[0;34m)\u001b[0m\u001b[0;34m\u001b[0m\u001b[0;34m\u001b[0m\u001b[0m\n\u001b[0m\u001b[1;32m      9\u001b[0m     \u001b[0mprint\u001b[0m\u001b[0;34m(\u001b[0m\u001b[0;34m\"Result:\"\u001b[0m\u001b[0;34m,\u001b[0m \u001b[0mresult\u001b[0m\u001b[0;34m)\u001b[0m\u001b[0;34m\u001b[0m\u001b[0;34m\u001b[0m\u001b[0m\n\u001b[1;32m     10\u001b[0m     \u001b[0;32mreturn\u001b[0m \u001b[0mresult\u001b[0m\u001b[0;34m\u001b[0m\u001b[0;34m\u001b[0m\u001b[0m\n",
            "\u001b[0;31mException\u001b[0m: x must be larger than zero! The value of x was -9"
          ]
        }
      ]
    },
    {
      "cell_type": "code",
      "source": [
        "def cool_func(x):\n",
        "    if x < 0:\n",
        "        raise Exception('x must be larger than zero! The value of x was '+ str(x))\n",
        "\n",
        "    print(\"Running cool func...\")\n",
        "    result = sqrt(x) + x\n",
        "    print(\"Result:\", result)\n",
        "    return result"
      ],
      "metadata": {
        "id": "YnXwE_ShAuKl"
      },
      "execution_count": null,
      "outputs": []
    },
    {
      "cell_type": "markdown",
      "source": [
        "В нашем случае мы проверяем значение аргумента x на корректность в середине тела нашей функции, но мы бы могли сделать это и в начале, добавив отдельное условие `if`. На практике такие проверки типа:\n",
        "\n",
        "```python\n",
        "if condition:\n",
        "    raise Exception\n",
        "```\n",
        "\n",
        "случаются очень часто. И для такого применения в Python есть отдельная команда - `assert`:"
      ],
      "metadata": {
        "id": "Wxm2oGF0tP5p"
      }
    },
    {
      "cell_type": "code",
      "source": [
        "def cool_func(x):\n",
        "    assert type(x) is int or type(x) is float, \"Bad type\"\n",
        "    assert x >= 0, 'x must be larger than zero! The value of x was '+ str(x)\n",
        "    assert x != 1024, 'we don\\'t like number 1024!'\n",
        "\n",
        "    print(\"Running cool func...\")\n",
        "    return sqrt(x)"
      ],
      "metadata": {
        "id": "4In8bgTCvhKQ"
      },
      "execution_count": null,
      "outputs": []
    },
    {
      "cell_type": "code",
      "source": [
        "cool_func(9)"
      ],
      "metadata": {
        "colab": {
          "base_uri": "https://localhost:8080/"
        },
        "id": "5KYj7W7DvxdE",
        "outputId": "85a0f314-4ed3-4063-e498-634b05da969a"
      },
      "execution_count": null,
      "outputs": [
        {
          "output_type": "stream",
          "name": "stdout",
          "text": [
            "Running cool func...\n"
          ]
        },
        {
          "output_type": "execute_result",
          "data": {
            "text/plain": [
              "3.0"
            ]
          },
          "metadata": {},
          "execution_count": 49
        }
      ]
    },
    {
      "cell_type": "code",
      "source": [
        "cool_func(-9)"
      ],
      "metadata": {
        "colab": {
          "base_uri": "https://localhost:8080/",
          "height": 297
        },
        "id": "WlB_n8movzpw",
        "outputId": "7ed14525-7cd8-4940-c3e3-4a70a2132193"
      },
      "execution_count": null,
      "outputs": [
        {
          "output_type": "error",
          "ename": "AssertionError",
          "evalue": "ignored",
          "traceback": [
            "\u001b[0;31m---------------------------------------------------------------------------\u001b[0m",
            "\u001b[0;31mAssertionError\u001b[0m                            Traceback (most recent call last)",
            "\u001b[0;32m<ipython-input-50-92099e20afd0>\u001b[0m in \u001b[0;36m<cell line: 1>\u001b[0;34m()\u001b[0m\n\u001b[0;32m----> 1\u001b[0;31m \u001b[0mcool_func\u001b[0m\u001b[0;34m(\u001b[0m\u001b[0;34m-\u001b[0m\u001b[0;36m9\u001b[0m\u001b[0;34m)\u001b[0m\u001b[0;34m\u001b[0m\u001b[0;34m\u001b[0m\u001b[0m\n\u001b[0m",
            "\u001b[0;32m<ipython-input-48-ccef4494b0a6>\u001b[0m in \u001b[0;36mcool_func\u001b[0;34m(x)\u001b[0m\n\u001b[1;32m      1\u001b[0m \u001b[0;32mdef\u001b[0m \u001b[0mcool_func\u001b[0m\u001b[0;34m(\u001b[0m\u001b[0mx\u001b[0m\u001b[0;34m)\u001b[0m\u001b[0;34m:\u001b[0m\u001b[0;34m\u001b[0m\u001b[0;34m\u001b[0m\u001b[0m\n\u001b[1;32m      2\u001b[0m     \u001b[0;32massert\u001b[0m \u001b[0mtype\u001b[0m\u001b[0;34m(\u001b[0m\u001b[0mx\u001b[0m\u001b[0;34m)\u001b[0m \u001b[0;32mis\u001b[0m \u001b[0mint\u001b[0m \u001b[0;32mor\u001b[0m \u001b[0mtype\u001b[0m\u001b[0;34m(\u001b[0m\u001b[0mx\u001b[0m\u001b[0;34m)\u001b[0m \u001b[0;32mis\u001b[0m \u001b[0mfloat\u001b[0m\u001b[0;34m,\u001b[0m \u001b[0;34m\"Bad type\"\u001b[0m\u001b[0;34m\u001b[0m\u001b[0;34m\u001b[0m\u001b[0m\n\u001b[0;32m----> 3\u001b[0;31m     \u001b[0;32massert\u001b[0m \u001b[0mx\u001b[0m \u001b[0;34m>=\u001b[0m \u001b[0;36m0\u001b[0m\u001b[0;34m,\u001b[0m \u001b[0;34m'x must be larger than zero! The value of x was '\u001b[0m\u001b[0;34m+\u001b[0m \u001b[0mstr\u001b[0m\u001b[0;34m(\u001b[0m\u001b[0mx\u001b[0m\u001b[0;34m)\u001b[0m\u001b[0;34m\u001b[0m\u001b[0;34m\u001b[0m\u001b[0m\n\u001b[0m\u001b[1;32m      4\u001b[0m     \u001b[0;32massert\u001b[0m \u001b[0mx\u001b[0m \u001b[0;34m!=\u001b[0m \u001b[0;36m1024\u001b[0m\u001b[0;34m,\u001b[0m \u001b[0;34m'we don\\'t like number 1024!'\u001b[0m\u001b[0;34m\u001b[0m\u001b[0;34m\u001b[0m\u001b[0m\n\u001b[1;32m      5\u001b[0m \u001b[0;34m\u001b[0m\u001b[0m\n",
            "\u001b[0;31mAssertionError\u001b[0m: x must be larger than zero! The value of x was -9"
          ]
        }
      ]
    },
    {
      "cell_type": "code",
      "source": [
        "cool_func(1024)"
      ],
      "metadata": {
        "id": "36DNUqlq6Jam",
        "colab": {
          "base_uri": "https://localhost:8080/",
          "height": 297
        },
        "outputId": "77d0af54-804a-43d0-f596-0b45550b53f9"
      },
      "execution_count": null,
      "outputs": [
        {
          "output_type": "error",
          "ename": "AssertionError",
          "evalue": "ignored",
          "traceback": [
            "\u001b[0;31m---------------------------------------------------------------------------\u001b[0m",
            "\u001b[0;31mAssertionError\u001b[0m                            Traceback (most recent call last)",
            "\u001b[0;32m<ipython-input-51-6138b7d84995>\u001b[0m in \u001b[0;36m<cell line: 1>\u001b[0;34m()\u001b[0m\n\u001b[0;32m----> 1\u001b[0;31m \u001b[0mcool_func\u001b[0m\u001b[0;34m(\u001b[0m\u001b[0;36m1024\u001b[0m\u001b[0;34m)\u001b[0m\u001b[0;34m\u001b[0m\u001b[0;34m\u001b[0m\u001b[0m\n\u001b[0m",
            "\u001b[0;32m<ipython-input-48-ccef4494b0a6>\u001b[0m in \u001b[0;36mcool_func\u001b[0;34m(x)\u001b[0m\n\u001b[1;32m      2\u001b[0m     \u001b[0;32massert\u001b[0m \u001b[0mtype\u001b[0m\u001b[0;34m(\u001b[0m\u001b[0mx\u001b[0m\u001b[0;34m)\u001b[0m \u001b[0;32mis\u001b[0m \u001b[0mint\u001b[0m \u001b[0;32mor\u001b[0m \u001b[0mtype\u001b[0m\u001b[0;34m(\u001b[0m\u001b[0mx\u001b[0m\u001b[0;34m)\u001b[0m \u001b[0;32mis\u001b[0m \u001b[0mfloat\u001b[0m\u001b[0;34m,\u001b[0m \u001b[0;34m\"Bad type\"\u001b[0m\u001b[0;34m\u001b[0m\u001b[0;34m\u001b[0m\u001b[0m\n\u001b[1;32m      3\u001b[0m     \u001b[0;32massert\u001b[0m \u001b[0mx\u001b[0m \u001b[0;34m>=\u001b[0m \u001b[0;36m0\u001b[0m\u001b[0;34m,\u001b[0m \u001b[0;34m'x must be larger than zero! The value of x was '\u001b[0m\u001b[0;34m+\u001b[0m \u001b[0mstr\u001b[0m\u001b[0;34m(\u001b[0m\u001b[0mx\u001b[0m\u001b[0;34m)\u001b[0m\u001b[0;34m\u001b[0m\u001b[0;34m\u001b[0m\u001b[0m\n\u001b[0;32m----> 4\u001b[0;31m     \u001b[0;32massert\u001b[0m \u001b[0mx\u001b[0m \u001b[0;34m!=\u001b[0m \u001b[0;36m1024\u001b[0m\u001b[0;34m,\u001b[0m \u001b[0;34m'we don\\'t like number 1024!'\u001b[0m\u001b[0;34m\u001b[0m\u001b[0;34m\u001b[0m\u001b[0m\n\u001b[0m\u001b[1;32m      5\u001b[0m \u001b[0;34m\u001b[0m\u001b[0m\n\u001b[1;32m      6\u001b[0m     \u001b[0mprint\u001b[0m\u001b[0;34m(\u001b[0m\u001b[0;34m\"Running cool func...\"\u001b[0m\u001b[0;34m)\u001b[0m\u001b[0;34m\u001b[0m\u001b[0;34m\u001b[0m\u001b[0m\n",
            "\u001b[0;31mAssertionError\u001b[0m: we don't like number 1024!"
          ]
        }
      ]
    },
    {
      "cell_type": "code",
      "source": [
        "cool_func('9')"
      ],
      "metadata": {
        "colab": {
          "base_uri": "https://localhost:8080/",
          "height": 297
        },
        "id": "HYH6R_XqZoL0",
        "outputId": "7a8b48fd-722d-46d7-8259-fb0aa410b9eb"
      },
      "execution_count": null,
      "outputs": [
        {
          "output_type": "error",
          "ename": "AssertionError",
          "evalue": "ignored",
          "traceback": [
            "\u001b[0;31m---------------------------------------------------------------------------\u001b[0m",
            "\u001b[0;31mAssertionError\u001b[0m                            Traceback (most recent call last)",
            "\u001b[0;32m<ipython-input-52-5e9081163d20>\u001b[0m in \u001b[0;36m<cell line: 1>\u001b[0;34m()\u001b[0m\n\u001b[0;32m----> 1\u001b[0;31m \u001b[0mcool_func\u001b[0m\u001b[0;34m(\u001b[0m\u001b[0;34m'9'\u001b[0m\u001b[0;34m)\u001b[0m\u001b[0;34m\u001b[0m\u001b[0;34m\u001b[0m\u001b[0m\n\u001b[0m",
            "\u001b[0;32m<ipython-input-48-ccef4494b0a6>\u001b[0m in \u001b[0;36mcool_func\u001b[0;34m(x)\u001b[0m\n\u001b[1;32m      1\u001b[0m \u001b[0;32mdef\u001b[0m \u001b[0mcool_func\u001b[0m\u001b[0;34m(\u001b[0m\u001b[0mx\u001b[0m\u001b[0;34m)\u001b[0m\u001b[0;34m:\u001b[0m\u001b[0;34m\u001b[0m\u001b[0;34m\u001b[0m\u001b[0m\n\u001b[0;32m----> 2\u001b[0;31m     \u001b[0;32massert\u001b[0m \u001b[0mtype\u001b[0m\u001b[0;34m(\u001b[0m\u001b[0mx\u001b[0m\u001b[0;34m)\u001b[0m \u001b[0;32mis\u001b[0m \u001b[0mint\u001b[0m \u001b[0;32mor\u001b[0m \u001b[0mtype\u001b[0m\u001b[0;34m(\u001b[0m\u001b[0mx\u001b[0m\u001b[0;34m)\u001b[0m \u001b[0;32mis\u001b[0m \u001b[0mfloat\u001b[0m\u001b[0;34m,\u001b[0m \u001b[0;34m\"Bad type\"\u001b[0m\u001b[0;34m\u001b[0m\u001b[0;34m\u001b[0m\u001b[0m\n\u001b[0m\u001b[1;32m      3\u001b[0m     \u001b[0;32massert\u001b[0m \u001b[0mx\u001b[0m \u001b[0;34m>=\u001b[0m \u001b[0;36m0\u001b[0m\u001b[0;34m,\u001b[0m \u001b[0;34m'x must be larger than zero! The value of x was '\u001b[0m\u001b[0;34m+\u001b[0m \u001b[0mstr\u001b[0m\u001b[0;34m(\u001b[0m\u001b[0mx\u001b[0m\u001b[0;34m)\u001b[0m\u001b[0;34m\u001b[0m\u001b[0;34m\u001b[0m\u001b[0m\n\u001b[1;32m      4\u001b[0m     \u001b[0;32massert\u001b[0m \u001b[0mx\u001b[0m \u001b[0;34m!=\u001b[0m \u001b[0;36m1024\u001b[0m\u001b[0;34m,\u001b[0m \u001b[0;34m'we don\\'t like number 1024!'\u001b[0m\u001b[0;34m\u001b[0m\u001b[0;34m\u001b[0m\u001b[0m\n\u001b[1;32m      5\u001b[0m \u001b[0;34m\u001b[0m\u001b[0m\n",
            "\u001b[0;31mAssertionError\u001b[0m: Bad type"
          ]
        }
      ]
    },
    {
      "cell_type": "code",
      "source": [
        "def integrate(a, b):\n",
        "    \"\"\"f=1 integrate\"\"\"\n",
        "    assert type(a) is int or type(a) is float, 'argument a must be int or float!'\n",
        "    assert type(b) is int or type(b) is float, 'argument b must be int or float!'\n",
        "\n",
        "    return b - a"
      ],
      "metadata": {
        "id": "lvkLEe406oPx"
      },
      "execution_count": null,
      "outputs": []
    },
    {
      "cell_type": "code",
      "source": [
        "integrate(1,'2')"
      ],
      "metadata": {
        "colab": {
          "base_uri": "https://localhost:8080/",
          "height": 297
        },
        "id": "mrqOZM8r6_LO",
        "outputId": "e25899a3-267b-406c-af86-298d44a13e98"
      },
      "execution_count": null,
      "outputs": [
        {
          "output_type": "error",
          "ename": "AssertionError",
          "evalue": "ignored",
          "traceback": [
            "\u001b[0;31m---------------------------------------------------------------------------\u001b[0m",
            "\u001b[0;31mAssertionError\u001b[0m                            Traceback (most recent call last)",
            "\u001b[0;32m<ipython-input-54-8ac599ba4275>\u001b[0m in \u001b[0;36m<cell line: 1>\u001b[0;34m()\u001b[0m\n\u001b[0;32m----> 1\u001b[0;31m \u001b[0mintegrate\u001b[0m\u001b[0;34m(\u001b[0m\u001b[0;36m1\u001b[0m\u001b[0;34m,\u001b[0m\u001b[0;34m'2'\u001b[0m\u001b[0;34m)\u001b[0m\u001b[0;34m\u001b[0m\u001b[0;34m\u001b[0m\u001b[0m\n\u001b[0m",
            "\u001b[0;32m<ipython-input-53-f9fe469a0af7>\u001b[0m in \u001b[0;36mintegrate\u001b[0;34m(a, b)\u001b[0m\n\u001b[1;32m      2\u001b[0m     \u001b[0;34m\"\"\"f=1 integrate\"\"\"\u001b[0m\u001b[0;34m\u001b[0m\u001b[0;34m\u001b[0m\u001b[0m\n\u001b[1;32m      3\u001b[0m     \u001b[0;32massert\u001b[0m \u001b[0mtype\u001b[0m\u001b[0;34m(\u001b[0m\u001b[0ma\u001b[0m\u001b[0;34m)\u001b[0m \u001b[0;32mis\u001b[0m \u001b[0mint\u001b[0m \u001b[0;32mor\u001b[0m \u001b[0mtype\u001b[0m\u001b[0;34m(\u001b[0m\u001b[0ma\u001b[0m\u001b[0;34m)\u001b[0m \u001b[0;32mis\u001b[0m \u001b[0mfloat\u001b[0m\u001b[0;34m,\u001b[0m \u001b[0;34m'argument a must be int or float!'\u001b[0m\u001b[0;34m\u001b[0m\u001b[0;34m\u001b[0m\u001b[0m\n\u001b[0;32m----> 4\u001b[0;31m     \u001b[0;32massert\u001b[0m \u001b[0mtype\u001b[0m\u001b[0;34m(\u001b[0m\u001b[0mb\u001b[0m\u001b[0;34m)\u001b[0m \u001b[0;32mis\u001b[0m \u001b[0mint\u001b[0m \u001b[0;32mor\u001b[0m \u001b[0mtype\u001b[0m\u001b[0;34m(\u001b[0m\u001b[0mb\u001b[0m\u001b[0;34m)\u001b[0m \u001b[0;32mis\u001b[0m \u001b[0mfloat\u001b[0m\u001b[0;34m,\u001b[0m \u001b[0;34m'argument b must be int or float!'\u001b[0m\u001b[0;34m\u001b[0m\u001b[0;34m\u001b[0m\u001b[0m\n\u001b[0m\u001b[1;32m      5\u001b[0m \u001b[0;34m\u001b[0m\u001b[0m\n\u001b[1;32m      6\u001b[0m     \u001b[0;32mreturn\u001b[0m \u001b[0mb\u001b[0m \u001b[0;34m-\u001b[0m \u001b[0ma\u001b[0m\u001b[0;34m\u001b[0m\u001b[0;34m\u001b[0m\u001b[0m\n",
            "\u001b[0;31mAssertionError\u001b[0m: argument b must be int or float!"
          ]
        }
      ]
    },
    {
      "cell_type": "markdown",
      "source": [
        "`assert` всегда вызывает AssertionError при невыполнении условия."
      ],
      "metadata": {
        "id": "MowSqT0ev-Mo"
      }
    },
    {
      "cell_type": "markdown",
      "source": [
        "## Конструкция `try-except`"
      ],
      "metadata": {
        "id": "PycP3pcQ782O"
      }
    },
    {
      "cell_type": "markdown",
      "source": [
        "На практике при работе с разными библиотеками исключения будут возникать часто. И не всегда мы бы хотели, чтобы при этом программа прекращала свое выполнение - иногда мы можем написать правила обработки возникающих ошибок.\n",
        "\n",
        "Например, подключение к некоторым серверам может быть непостоянным, и при подключении к базе данных с первого раза может не получиться подключиться. При невозможности подключения библиотека по работе с базами данных почти наверняка выдаст исключение, сообщающее что подключиться не удалось. Обычно при этом программа упадет. Но нам бы хотелось подождать немного и попробовать подключиться еще раз, если с первого раза не получилось.\n",
        "\n",
        "В подобных ситуациях на помощь приходит конструкция `try-except`:"
      ],
      "metadata": {
        "id": "IAzmD8nVrj1R"
      }
    },
    {
      "cell_type": "markdown",
      "source": [
        "```python\n",
        "try:\n",
        "    <блок команд, откуда хотим ловить ошибки>\n",
        "except <исключение 1>:\n",
        "    <блок команд, который выполнится, если поймаем исключение 1>\n",
        "except <исключение 2>:\n",
        "    <блок команд, который выполнится, если поймаем исключение 2>\n",
        "else:\n",
        "    <блок команд, который выполнится, если исключений не поймали>\n",
        "finally:\n",
        "    <блок команд, который выполнется в любом случае>\n",
        "```"
      ],
      "metadata": {
        "id": "m-AqS-kxM0BQ"
      }
    },
    {
      "cell_type": "markdown",
      "source": [
        "Рассмотрим пример:"
      ],
      "metadata": {
        "id": "u85A9fXRLsgC"
      }
    },
    {
      "cell_type": "code",
      "source": [
        "temp_list = [1, 2, 3]"
      ],
      "metadata": {
        "id": "ea8ITjAR8o1Z"
      },
      "execution_count": null,
      "outputs": []
    },
    {
      "cell_type": "code",
      "source": [
        "try:\n",
        "    #cool_func(-9)\n",
        "    #print(1 / 0)\n",
        "    #print(temp_list[10])\n",
        "    #print({\"key\": \"value\"}[\"other_key\"])\n",
        "    print(1+2)\n",
        "except (AssertionError, IndexError):\n",
        "    print(\"Assert / Index failed!\")\n",
        "except ZeroDivisionError:\n",
        "    print(\"Division by zero!\")\n",
        "except:\n",
        "    print(\"Something bad happened!\")\n",
        "else:\n",
        "    print(\"Everything is fine!\")\n",
        "finally:\n",
        "    print(\"Always print this!\")\n",
        "\n",
        "print(\"Out of try-except\")\n",
        "print(2**10)"
      ],
      "metadata": {
        "colab": {
          "base_uri": "https://localhost:8080/"
        },
        "id": "SECETkY0LuSv",
        "outputId": "8230cfd3-8045-45c2-94c8-37f1463995dd"
      },
      "execution_count": null,
      "outputs": [
        {
          "output_type": "stream",
          "name": "stdout",
          "text": [
            "3\n",
            "Everything is fine!\n",
            "Always print this!\n",
            "Out of try-except\n",
            "1024\n"
          ]
        }
      ]
    },
    {
      "cell_type": "markdown",
      "source": [
        "**Вопрос.** Зачем нужен `finally`? Чем отличаются следующие два фрагмента?\n",
        "\n",
        "```python\n",
        "try:\n",
        "    raise Exception\n",
        "except Exception:\n",
        "    pass\n",
        "print('finally')\n",
        "```\n",
        "\n",
        "и\n",
        "\n",
        "```python\n",
        "try:\n",
        "    raise Exception\n",
        "except Exception:\n",
        "    pass\n",
        "finally:\n",
        "    print('finally')\n",
        "```\n",
        "\n",
        "**Ответ.** `finally` выполнит свой код **в любом случае**, например, если в `except` вылезло новое исключение."
      ],
      "metadata": {
        "id": "vrOxsvNZPDX6"
      }
    },
    {
      "cell_type": "code",
      "source": [
        "try:\n",
        "    k = 1 / 0\n",
        "except:\n",
        "    k = 0\n",
        "    #raise Exception\n",
        "    temp_list[10] = k\n",
        "finally:\n",
        "    print(k)\n",
        "print(42)"
      ],
      "metadata": {
        "colab": {
          "base_uri": "https://localhost:8080/",
          "height": 442
        },
        "id": "TVc4AhzMNa-0",
        "outputId": "854e099d-9404-471f-d362-4181b3da385f"
      },
      "execution_count": null,
      "outputs": [
        {
          "output_type": "stream",
          "name": "stdout",
          "text": [
            "0\n"
          ]
        },
        {
          "output_type": "error",
          "ename": "IndexError",
          "evalue": "ignored",
          "traceback": [
            "\u001b[0;31m---------------------------------------------------------------------------\u001b[0m",
            "\u001b[0;31mZeroDivisionError\u001b[0m                         Traceback (most recent call last)",
            "\u001b[0;32m<ipython-input-64-05add76f6281>\u001b[0m in \u001b[0;36m<cell line: 1>\u001b[0;34m()\u001b[0m\n\u001b[1;32m      1\u001b[0m \u001b[0;32mtry\u001b[0m\u001b[0;34m:\u001b[0m\u001b[0;34m\u001b[0m\u001b[0;34m\u001b[0m\u001b[0m\n\u001b[0;32m----> 2\u001b[0;31m     \u001b[0mk\u001b[0m \u001b[0;34m=\u001b[0m \u001b[0;36m1\u001b[0m \u001b[0;34m/\u001b[0m \u001b[0;36m0\u001b[0m\u001b[0;34m\u001b[0m\u001b[0;34m\u001b[0m\u001b[0m\n\u001b[0m\u001b[1;32m      3\u001b[0m \u001b[0;32mexcept\u001b[0m\u001b[0;34m:\u001b[0m\u001b[0;34m\u001b[0m\u001b[0;34m\u001b[0m\u001b[0m\n",
            "\u001b[0;31mZeroDivisionError\u001b[0m: division by zero",
            "\nDuring handling of the above exception, another exception occurred:\n",
            "\u001b[0;31mIndexError\u001b[0m                                Traceback (most recent call last)",
            "\u001b[0;32m<ipython-input-64-05add76f6281>\u001b[0m in \u001b[0;36m<cell line: 1>\u001b[0;34m()\u001b[0m\n\u001b[1;32m      4\u001b[0m     \u001b[0mk\u001b[0m \u001b[0;34m=\u001b[0m \u001b[0;36m0\u001b[0m\u001b[0;34m\u001b[0m\u001b[0;34m\u001b[0m\u001b[0m\n\u001b[1;32m      5\u001b[0m     \u001b[0;31m#raise Exception\u001b[0m\u001b[0;34m\u001b[0m\u001b[0;34m\u001b[0m\u001b[0m\n\u001b[0;32m----> 6\u001b[0;31m     \u001b[0mtemp_list\u001b[0m\u001b[0;34m[\u001b[0m\u001b[0;36m10\u001b[0m\u001b[0;34m]\u001b[0m \u001b[0;34m=\u001b[0m \u001b[0mk\u001b[0m\u001b[0;34m\u001b[0m\u001b[0;34m\u001b[0m\u001b[0m\n\u001b[0m\u001b[1;32m      7\u001b[0m \u001b[0;32mfinally\u001b[0m\u001b[0;34m:\u001b[0m\u001b[0;34m\u001b[0m\u001b[0;34m\u001b[0m\u001b[0m\n\u001b[1;32m      8\u001b[0m     \u001b[0mprint\u001b[0m\u001b[0;34m(\u001b[0m\u001b[0mk\u001b[0m\u001b[0;34m)\u001b[0m\u001b[0;34m\u001b[0m\u001b[0;34m\u001b[0m\u001b[0m\n",
            "\u001b[0;31mIndexError\u001b[0m: list assignment index out of range"
          ]
        }
      ]
    },
    {
      "cell_type": "code",
      "source": [
        "try:\n",
        "    print(42)\n",
        "    print(temp_list[42])\n",
        "    print(54)\n",
        "except BaseException as e:\n",
        "    print(e, type(e))\n",
        "    print(dir(e))\n",
        "    print(e.__traceback__)\n",
        "    print(dir(e.__traceback__))\n",
        "    print(e.__traceback__.tb_lineno)"
      ],
      "metadata": {
        "colab": {
          "base_uri": "https://localhost:8080/"
        },
        "id": "bWGpm8liAJzn",
        "outputId": "736098ac-f238-46b6-ea61-4b842025d420"
      },
      "execution_count": null,
      "outputs": [
        {
          "output_type": "stream",
          "name": "stdout",
          "text": [
            "42\n",
            "list index out of range <class 'IndexError'>\n",
            "['__cause__', '__class__', '__context__', '__delattr__', '__dict__', '__dir__', '__doc__', '__eq__', '__format__', '__ge__', '__getattribute__', '__gt__', '__hash__', '__init__', '__init_subclass__', '__le__', '__lt__', '__ne__', '__new__', '__reduce__', '__reduce_ex__', '__repr__', '__setattr__', '__setstate__', '__sizeof__', '__str__', '__subclasshook__', '__suppress_context__', '__traceback__', 'args', 'with_traceback']\n",
            "<traceback object at 0x7fdc97f0ee00>\n",
            "['tb_frame', 'tb_lasti', 'tb_lineno', 'tb_next']\n",
            "3\n"
          ]
        }
      ]
    }
  ]
}