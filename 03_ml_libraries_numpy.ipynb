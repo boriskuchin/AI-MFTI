{
  "nbformat": 4,
  "nbformat_minor": 0,
  "metadata": {
    "kernelspec": {
      "display_name": "jupyter-env",
      "language": "python",
      "name": "jupyter-env"
    },
    "language_info": {
      "codemirror_mode": {
        "name": "ipython",
        "version": 3
      },
      "file_extension": ".py",
      "mimetype": "text/x-python",
      "name": "python",
      "nbconvert_exporter": "python",
      "pygments_lexer": "ipython3",
      "version": "3.8.7"
    },
    "colab": {
      "provenance": [],
      "collapsed_sections": [
        "aZS5hsZKTvb4"
      ],
      "include_colab_link": true
    }
  },
  "cells": [
    {
      "cell_type": "markdown",
      "metadata": {
        "id": "view-in-github",
        "colab_type": "text"
      },
      "source": [
        "<a href=\"https://colab.research.google.com/github/boriskuchin/MADMO-BASE-2024/blob/main/03_ml_libraries_numpy.ipynb\" target=\"_parent\"><img src=\"https://colab.research.google.com/assets/colab-badge.svg\" alt=\"Open In Colab\"/></a>"
      ]
    },
    {
      "cell_type": "markdown",
      "metadata": {
        "id": "q4m4rxArNXJl"
      },
      "source": [
        "# Библиотека NumPy\n"
      ]
    },
    {
      "cell_type": "markdown",
      "metadata": {
        "id": "vrbwKsdRTvbO"
      },
      "source": [
        "# Особенности Numpy"
      ]
    },
    {
      "cell_type": "markdown",
      "source": [
        "**[NumPy]((http://www.numpy.org/))** (**Num**eric **Py**thon) - это open-source модуль для Python, который предоставляет общие математические и числовые операции в виде пре-скомпилированных, быстрых функций (использует типы из C, которые существенно быстрее чем Python типы). Они обеспечивают функционал, который можно сравнить с функционалом MatLab."
      ],
      "metadata": {
        "id": "4_VIPjepbrlP"
      }
    },
    {
      "cell_type": "code",
      "metadata": {
        "id": "USBh92hETvbR"
      },
      "source": [
        "import numpy as np"
      ],
      "execution_count": null,
      "outputs": []
    },
    {
      "cell_type": "markdown",
      "source": [
        "**Преимущества NumPy:**\n",
        "\n",
        "- **Быстрее** - NumPy использует алгоритмы, написанные на C, которые работают *значительно быстрее* чем те, что написаны на Python.\n",
        "- **Меньше циклов** - NumPy помогает уменьшить количество циклов в коде вашей программы, что мешает не запутаться в них.\n",
        "- **Чище код** - без вложенных циклов ваш код больше будет намного чище и проще для чтения.\n",
        "- **Better quality** - код библиотеки написан сообществом профессионалов, поэтому он оптимизирован, приятен в работе и не содержит багов.\n",
        "\n",
        "По этим причинам NumPy является де-факто стандартом для работы с многомерными массивами в анализе данных. Многие популярные библиотеки в своем исходном коде используют NumPy."
      ],
      "metadata": {
        "id": "wF3c409GcW9l"
      }
    },
    {
      "cell_type": "code",
      "source": [
        "np.__version__"
      ],
      "metadata": {
        "colab": {
          "base_uri": "https://localhost:8080/",
          "height": 36
        },
        "id": "1hWM2o_6KV0i",
        "outputId": "6e271896-a237-4235-f6ca-8d90f9504bff"
      },
      "execution_count": null,
      "outputs": [
        {
          "output_type": "execute_result",
          "data": {
            "text/plain": [
              "'1.25.2'"
            ],
            "application/vnd.google.colaboratory.intrinsic+json": {
              "type": "string"
            }
          },
          "metadata": {},
          "execution_count": 2
        }
      ]
    },
    {
      "cell_type": "markdown",
      "source": [
        "# Массивы в NumPy"
      ],
      "metadata": {
        "id": "S15dNOa9iHoY"
      }
    },
    {
      "cell_type": "markdown",
      "metadata": {
        "id": "rFBcvH-Uiq_v"
      },
      "source": [
        "Основным объектом `NumPy` является *однородный* многомерный массив, в numpy он реализован через объект `ndarray`. Массивы (`ndarray`) похожи на списки (`list`), но могут хранить только элементы одного типа. Производить вычисления с массивами гораздо быстрее и эффективнее чем со списками."
      ]
    },
    {
      "cell_type": "markdown",
      "metadata": {
        "id": "NLOejZXhTvbQ"
      },
      "source": [
        " NumPy основан на предварительно скомпилированных программах, написанных на C, и по сути является оберткой над ними. По этой причине NumPy использует отдельные типы данных и отличаются от питоновских (хотя и похожи). Эти типы являются обёртками над этими типами, которые **используют реализацию типов на C**, например, `int8`, `int16`, `int32`, `int64` (подробнее о типах данных `numpy` можно прочитать [здесь](https://www.numpy.org/devdocs/user/basics.types.html)). За счёт того, что используются типы данных из C, numpy получает ускорение операций."
      ]
    },
    {
      "cell_type": "markdown",
      "source": [
        "## Создание массива из списка"
      ],
      "metadata": {
        "id": "fSULbUQTkcTL"
      }
    },
    {
      "cell_type": "code",
      "metadata": {
        "colab": {
          "base_uri": "https://localhost:8080/"
        },
        "outputId": "30617e1e-9d10-4030-dd49-caeeaff64c75",
        "id": "rasNpn3eiq_x"
      },
      "source": [
        "a = np.array([1.0, 2, 3, 1, 0], dtype=np.int16)\n",
        "a"
      ],
      "execution_count": null,
      "outputs": [
        {
          "output_type": "execute_result",
          "data": {
            "text/plain": [
              "array([1, 2, 3, 1, 0], dtype=int16)"
            ]
          },
          "metadata": {},
          "execution_count": 3
        }
      ]
    },
    {
      "cell_type": "markdown",
      "source": [
        "Тип создаваемого объекта - `ndarray`:"
      ],
      "metadata": {
        "id": "ky4UbzSAjyR1"
      }
    },
    {
      "cell_type": "code",
      "source": [
        "type(a)"
      ],
      "metadata": {
        "colab": {
          "base_uri": "https://localhost:8080/"
        },
        "id": "G8S8_4emjx11",
        "outputId": "e582ac24-477e-4f4e-e922-4fab2364d556"
      },
      "execution_count": null,
      "outputs": [
        {
          "output_type": "execute_result",
          "data": {
            "text/plain": [
              "numpy.ndarray"
            ]
          },
          "metadata": {},
          "execution_count": 4
        }
      ]
    },
    {
      "cell_type": "code",
      "source": [
        "a.dtype"
      ],
      "metadata": {
        "colab": {
          "base_uri": "https://localhost:8080/"
        },
        "id": "3EI7S_rI-Lcf",
        "outputId": "680a48d6-7dea-4e46-a063-3fe4a1c86bb8"
      },
      "execution_count": null,
      "outputs": [
        {
          "output_type": "execute_result",
          "data": {
            "text/plain": [
              "dtype('int16')"
            ]
          },
          "metadata": {},
          "execution_count": 5
        }
      ]
    },
    {
      "cell_type": "markdown",
      "source": [
        "Посмотрим значения атрибутов у созданного массива:"
      ],
      "metadata": {
        "id": "90OzYdgUj2uf"
      }
    },
    {
      "cell_type": "code",
      "metadata": {
        "colab": {
          "base_uri": "https://localhost:8080/"
        },
        "outputId": "c62ebd91-002e-4288-d75e-465ebf95c5a5",
        "id": "HtU_qt2kiq_y"
      },
      "source": [
        "print(a)\n",
        "print(\"a.shape = \", a.shape)\n",
        "print(\"a.ndim =\", a.ndim)\n",
        "print(\"a.size =\", a.size)\n",
        "print(\"a.dtype =\", a.dtype)\n",
        "print(\"Размер каждого элемента массива в байтах a.itemsize =\", a.itemsize)\n",
        "print(\"Обращение к элементу a[0] =\", a[0])"
      ],
      "execution_count": null,
      "outputs": [
        {
          "output_type": "stream",
          "name": "stdout",
          "text": [
            "[1 2 3 1 0]\n",
            "a.shape =  (5,)\n",
            "a.ndim = 1\n",
            "a.size = 5\n",
            "a.dtype = int16\n",
            "Размер каждого элемента массива в байтах a.itemsize = 2\n",
            "Обращение к элементу a[0] = 1\n"
          ]
        }
      ]
    },
    {
      "cell_type": "markdown",
      "metadata": {
        "id": "LfRDgaftiq_y"
      },
      "source": [
        "Аналогично создается и двумерный массив из списка списков:"
      ]
    },
    {
      "cell_type": "code",
      "metadata": {
        "id": "wvak8KlJiq_y"
      },
      "source": [
        "b = np.array([[1, 8, 3],\n",
        "              [3, 2, 3],\n",
        "              [3, 5, 6]])"
      ],
      "execution_count": null,
      "outputs": []
    },
    {
      "cell_type": "code",
      "metadata": {
        "colab": {
          "base_uri": "https://localhost:8080/"
        },
        "outputId": "4efe0896-09f5-415b-a5e6-2f03054dbe40",
        "id": "AqWjaakCiq_z"
      },
      "source": [
        "print(b)\n",
        "print(\"a.shape = \", b.shape)\n",
        "print(\"a.ndim =\", b.ndim)\n",
        "print(\"a.size =\", b.size)\n",
        "print(\"a.dtype =\", b.dtype)\n",
        "print(\"Размер каждого элемента массива в байтах a.itemsize =\", b.itemsize)\n",
        "print(\"Нулевая строка b[0] =\", b[0])\n",
        "print(\"Обращение к элементу b[строка][столбец]: b[0][1] =\", b[0][1])\n",
        "print(\"Обращение к элементу b[строка, столбец]: b[0, 1] =\", b[0, 1])"
      ],
      "execution_count": null,
      "outputs": [
        {
          "output_type": "stream",
          "name": "stdout",
          "text": [
            "[[1 8 3]\n",
            " [3 2 3]\n",
            " [3 5 6]]\n",
            "a.shape =  (3, 3)\n",
            "a.ndim = 2\n",
            "a.size = 9\n",
            "a.dtype = int64\n",
            "Размер каждого элемента массива в байтах a.itemsize = 8\n",
            "Нулевая строка b[0] = [1 8 3]\n",
            "Обращение к элементу b[строка][столбец]: b[0][1] = 8\n",
            "Обращение к элементу b[строка, столбец]: b[0, 1] = 8\n"
          ]
        }
      ]
    },
    {
      "cell_type": "code",
      "source": [
        "a"
      ],
      "metadata": {
        "colab": {
          "base_uri": "https://localhost:8080/"
        },
        "id": "MotKV-lC_v-q",
        "outputId": "b0ac1ba0-18be-48d7-dab6-6b799a3b0505"
      },
      "execution_count": null,
      "outputs": [
        {
          "output_type": "execute_result",
          "data": {
            "text/plain": [
              "array([  1,   2,   3, -84,   0], dtype=int16)"
            ]
          },
          "metadata": {},
          "execution_count": 11
        }
      ]
    },
    {
      "cell_type": "code",
      "source": [
        "a[3] = -84\n",
        "a"
      ],
      "metadata": {
        "colab": {
          "base_uri": "https://localhost:8080/"
        },
        "id": "9G6rGw4T_uMG",
        "outputId": "fd65dea0-34d1-4ad8-92ca-64e42af69a24"
      },
      "execution_count": null,
      "outputs": [
        {
          "output_type": "execute_result",
          "data": {
            "text/plain": [
              "array([  1,   2,   3, -84,   0], dtype=int16)"
            ]
          },
          "metadata": {},
          "execution_count": 12
        }
      ]
    },
    {
      "cell_type": "markdown",
      "metadata": {
        "id": "H2J_KW22iq_z"
      },
      "source": [
        "**Важный момент** - вложенные списки должны быть одинаковой длины, чтобы массив был представим в виде прямоугольника."
      ]
    },
    {
      "cell_type": "code",
      "source": [
        "np.array([[1, 8, 3], [3, 3]], dtype=int)"
      ],
      "metadata": {
        "colab": {
          "base_uri": "https://localhost:8080/",
          "height": 164
        },
        "id": "NWPUfawK_ToQ",
        "outputId": "88c2d2af-8b52-46ec-ea72-91c59e9f0eef"
      },
      "execution_count": null,
      "outputs": [
        {
          "output_type": "error",
          "ename": "ValueError",
          "evalue": "setting an array element with a sequence. The requested array has an inhomogeneous shape after 1 dimensions. The detected shape was (2,) + inhomogeneous part.",
          "traceback": [
            "\u001b[0;31m---------------------------------------------------------------------------\u001b[0m",
            "\u001b[0;31mValueError\u001b[0m                                Traceback (most recent call last)",
            "\u001b[0;32m<ipython-input-13-540608ba1527>\u001b[0m in \u001b[0;36m<cell line: 1>\u001b[0;34m()\u001b[0m\n\u001b[0;32m----> 1\u001b[0;31m \u001b[0mnp\u001b[0m\u001b[0;34m.\u001b[0m\u001b[0marray\u001b[0m\u001b[0;34m(\u001b[0m\u001b[0;34m[\u001b[0m\u001b[0;34m[\u001b[0m\u001b[0;36m1\u001b[0m\u001b[0;34m,\u001b[0m \u001b[0;36m8\u001b[0m\u001b[0;34m,\u001b[0m \u001b[0;36m3\u001b[0m\u001b[0;34m]\u001b[0m\u001b[0;34m,\u001b[0m \u001b[0;34m[\u001b[0m\u001b[0;36m3\u001b[0m\u001b[0;34m,\u001b[0m \u001b[0;36m3\u001b[0m\u001b[0;34m]\u001b[0m\u001b[0;34m]\u001b[0m\u001b[0;34m,\u001b[0m \u001b[0mdtype\u001b[0m\u001b[0;34m=\u001b[0m\u001b[0mint\u001b[0m\u001b[0;34m)\u001b[0m\u001b[0;34m\u001b[0m\u001b[0;34m\u001b[0m\u001b[0m\n\u001b[0m",
            "\u001b[0;31mValueError\u001b[0m: setting an array element with a sequence. The requested array has an inhomogeneous shape after 1 dimensions. The detected shape was (2,) + inhomogeneous part."
          ]
        }
      ]
    },
    {
      "cell_type": "markdown",
      "metadata": {
        "id": "5ijm7skriq_0"
      },
      "source": [
        "## Способы генерации массивов"
      ]
    },
    {
      "cell_type": "markdown",
      "source": [
        "Не всегда нужно получать массив из готовых данных, иногда нужно получать заполненные массивы по заданному правилу."
      ],
      "metadata": {
        "id": "VvdHPMImlvue"
      }
    },
    {
      "cell_type": "markdown",
      "source": [
        "### Заполненный нулями"
      ],
      "metadata": {
        "id": "nRQymypYmOFe"
      }
    },
    {
      "cell_type": "code",
      "source": [
        "m = np.zeros((4, 3, 2))\n",
        "print(m)\n",
        "print()\n",
        "print(m.ndim)"
      ],
      "metadata": {
        "colab": {
          "base_uri": "https://localhost:8080/"
        },
        "id": "_s2Pp5-mmeV_",
        "outputId": "0f88323f-c7c7-40a0-bbfc-370ff174520f"
      },
      "execution_count": null,
      "outputs": [
        {
          "output_type": "stream",
          "name": "stdout",
          "text": [
            "[[[0. 0.]\n",
            "  [0. 0.]\n",
            "  [0. 0.]]\n",
            "\n",
            " [[0. 0.]\n",
            "  [0. 0.]\n",
            "  [0. 0.]]\n",
            "\n",
            " [[0. 0.]\n",
            "  [0. 0.]\n",
            "  [0. 0.]]\n",
            "\n",
            " [[0. 0.]\n",
            "  [0. 0.]\n",
            "  [0. 0.]]]\n",
            "\n",
            "3\n"
          ]
        }
      ]
    },
    {
      "cell_type": "code",
      "source": [
        "m[1, 1, 1]"
      ],
      "metadata": {
        "colab": {
          "base_uri": "https://localhost:8080/"
        },
        "id": "1de1Bs9qP6dJ",
        "outputId": "f88c93a1-9707-4e1c-e953-b5a75e367e4c"
      },
      "execution_count": null,
      "outputs": [
        {
          "output_type": "execute_result",
          "data": {
            "text/plain": [
              "0.0"
            ]
          },
          "metadata": {},
          "execution_count": 15
        }
      ]
    },
    {
      "cell_type": "markdown",
      "source": [
        "Еще одна функция - `zeros_like`, позволяет создавать массив из нулей с формой массива, передаваемого как аргумент (сделай такой же массив как этот, только заполненный нулями):"
      ],
      "metadata": {
        "id": "zOk18dqum7fh"
      }
    },
    {
      "cell_type": "code",
      "source": [
        "b"
      ],
      "metadata": {
        "colab": {
          "base_uri": "https://localhost:8080/"
        },
        "id": "JqeP6cXFnbEM",
        "outputId": "75f0509d-18fe-43b8-99ca-0473488d89b5"
      },
      "execution_count": null,
      "outputs": [
        {
          "output_type": "execute_result",
          "data": {
            "text/plain": [
              "array([[1, 8, 3],\n",
              "       [3, 2, 3],\n",
              "       [3, 5, 6]])"
            ]
          },
          "metadata": {},
          "execution_count": 16
        }
      ]
    },
    {
      "cell_type": "code",
      "source": [
        "m = np.zeros_like(b)\n",
        "print(m)\n",
        "print()\n",
        "print(m.ndim)"
      ],
      "metadata": {
        "colab": {
          "base_uri": "https://localhost:8080/"
        },
        "id": "6OcBVgVfncEz",
        "outputId": "aedde43e-1ea0-42ec-c747-6d524577f13c"
      },
      "execution_count": null,
      "outputs": [
        {
          "output_type": "stream",
          "name": "stdout",
          "text": [
            "[[0 0 0]\n",
            " [0 0 0]\n",
            " [0 0 0]]\n",
            "\n",
            "2\n"
          ]
        }
      ]
    },
    {
      "cell_type": "markdown",
      "source": [
        "### Заполненный единицами"
      ],
      "metadata": {
        "id": "jtE_WfiMngNs"
      }
    },
    {
      "cell_type": "code",
      "source": [
        "m = np.ones((5, 4), dtype=np.float64)\n",
        "print(m)\n",
        "print(m.shape)"
      ],
      "metadata": {
        "colab": {
          "base_uri": "https://localhost:8080/"
        },
        "id": "c4BfJhNdoFe5",
        "outputId": "2bcbef0e-184c-40d3-f4bc-5e38a7c469c2"
      },
      "execution_count": null,
      "outputs": [
        {
          "output_type": "stream",
          "name": "stdout",
          "text": [
            "[[1. 1. 1. 1.]\n",
            " [1. 1. 1. 1.]\n",
            " [1. 1. 1. 1.]\n",
            " [1. 1. 1. 1.]\n",
            " [1. 1. 1. 1.]]\n",
            "(5, 4)\n"
          ]
        }
      ]
    },
    {
      "cell_type": "markdown",
      "source": [
        "И функция `ones_like`:"
      ],
      "metadata": {
        "id": "eUVuE8L8ooVD"
      }
    },
    {
      "cell_type": "code",
      "source": [
        "m = np.ones_like(b)\n",
        "print(m)\n",
        "print()\n",
        "print(m.ndim)"
      ],
      "metadata": {
        "colab": {
          "base_uri": "https://localhost:8080/"
        },
        "id": "L4ImYTSwozC8",
        "outputId": "88c05264-7881-4e7f-fb6f-f1939c83805e"
      },
      "execution_count": null,
      "outputs": [
        {
          "output_type": "stream",
          "name": "stdout",
          "text": [
            "[[1 1 1]\n",
            " [1 1 1]\n",
            " [1 1 1]]\n",
            "\n",
            "2\n"
          ]
        }
      ]
    },
    {
      "cell_type": "markdown",
      "metadata": {
        "id": "LtbwnIEMiq_0"
      },
      "source": [
        "### Eдиничная матрица"
      ]
    },
    {
      "cell_type": "markdown",
      "source": [
        "Для создания такой матрицы в NumPy используется функция `eye`:"
      ],
      "metadata": {
        "id": "EWNcF955pq8N"
      }
    },
    {
      "cell_type": "code",
      "metadata": {
        "colab": {
          "base_uri": "https://localhost:8080/"
        },
        "outputId": "ff27824c-6057-4e07-ea8a-e2293f2e8077",
        "id": "pX5oH4Aeiq_1"
      },
      "source": [
        "m = np.eye(13)\n",
        "print(m)"
      ],
      "execution_count": null,
      "outputs": [
        {
          "output_type": "stream",
          "name": "stdout",
          "text": [
            "[[1. 0. 0. 0. 0. 0. 0. 0. 0. 0. 0. 0. 0.]\n",
            " [0. 1. 0. 0. 0. 0. 0. 0. 0. 0. 0. 0. 0.]\n",
            " [0. 0. 1. 0. 0. 0. 0. 0. 0. 0. 0. 0. 0.]\n",
            " [0. 0. 0. 1. 0. 0. 0. 0. 0. 0. 0. 0. 0.]\n",
            " [0. 0. 0. 0. 1. 0. 0. 0. 0. 0. 0. 0. 0.]\n",
            " [0. 0. 0. 0. 0. 1. 0. 0. 0. 0. 0. 0. 0.]\n",
            " [0. 0. 0. 0. 0. 0. 1. 0. 0. 0. 0. 0. 0.]\n",
            " [0. 0. 0. 0. 0. 0. 0. 1. 0. 0. 0. 0. 0.]\n",
            " [0. 0. 0. 0. 0. 0. 0. 0. 1. 0. 0. 0. 0.]\n",
            " [0. 0. 0. 0. 0. 0. 0. 0. 0. 1. 0. 0. 0.]\n",
            " [0. 0. 0. 0. 0. 0. 0. 0. 0. 0. 1. 0. 0.]\n",
            " [0. 0. 0. 0. 0. 0. 0. 0. 0. 0. 0. 1. 0.]\n",
            " [0. 0. 0. 0. 0. 0. 0. 0. 0. 0. 0. 0. 1.]]\n"
          ]
        }
      ]
    },
    {
      "cell_type": "code",
      "source": [
        "np.eye(3, 4)"
      ],
      "metadata": {
        "colab": {
          "base_uri": "https://localhost:8080/"
        },
        "outputId": "29f62e3a-6461-417b-abb3-5f85a46e216f",
        "id": "neuuK0q0iq_2"
      },
      "execution_count": null,
      "outputs": [
        {
          "output_type": "execute_result",
          "data": {
            "text/plain": [
              "array([[1., 0., 0., 0.],\n",
              "       [0., 1., 0., 0.],\n",
              "       [0., 0., 1., 0.]])"
            ]
          },
          "metadata": {},
          "execution_count": 21
        }
      ]
    },
    {
      "cell_type": "markdown",
      "metadata": {
        "id": "7SUTt2Ciiq_6"
      },
      "source": [
        "### Массив из диапазона значений"
      ]
    },
    {
      "cell_type": "markdown",
      "metadata": {
        "id": "JltpSb83iq_6"
      },
      "source": [
        "Подобно функции range в обычном Python, в NumPy можно создавать массивы из диапазона чисел `[start, end)` с определенным шагом с помощью функции `arange`:"
      ]
    },
    {
      "cell_type": "code",
      "source": [
        "np.arange(10)"
      ],
      "metadata": {
        "colab": {
          "base_uri": "https://localhost:8080/"
        },
        "outputId": "bf68b446-9044-4afe-875d-a414985a2fc0",
        "id": "2sz3_GNkiq_6"
      },
      "execution_count": null,
      "outputs": [
        {
          "output_type": "execute_result",
          "data": {
            "text/plain": [
              "array([0, 1, 2, 3, 4, 5, 6, 7, 8, 9])"
            ]
          },
          "metadata": {},
          "execution_count": 22
        }
      ]
    },
    {
      "cell_type": "code",
      "source": [
        "np.arange(1, 10)"
      ],
      "metadata": {
        "colab": {
          "base_uri": "https://localhost:8080/"
        },
        "outputId": "3b445f73-42c7-420c-f3f5-1b343cccfc96",
        "id": "l7msUWqXiq_7"
      },
      "execution_count": null,
      "outputs": [
        {
          "output_type": "execute_result",
          "data": {
            "text/plain": [
              "array([1, 2, 3, 4, 5, 6, 7, 8, 9])"
            ]
          },
          "metadata": {},
          "execution_count": 34
        }
      ]
    },
    {
      "cell_type": "code",
      "source": [
        "np.arange(0, 10, 0.2)"
      ],
      "metadata": {
        "colab": {
          "base_uri": "https://localhost:8080/"
        },
        "outputId": "268648c5-8fa6-4a59-9a8c-ebd4eec6fd13",
        "id": "43QLMSzSiq_7"
      },
      "execution_count": null,
      "outputs": [
        {
          "output_type": "execute_result",
          "data": {
            "text/plain": [
              "array([0. , 0.2, 0.4, 0.6, 0.8, 1. , 1.2, 1.4, 1.6, 1.8, 2. , 2.2, 2.4,\n",
              "       2.6, 2.8, 3. , 3.2, 3.4, 3.6, 3.8, 4. , 4.2, 4.4, 4.6, 4.8, 5. ,\n",
              "       5.2, 5.4, 5.6, 5.8, 6. , 6.2, 6.4, 6.6, 6.8, 7. , 7.2, 7.4, 7.6,\n",
              "       7.8, 8. , 8.2, 8.4, 8.6, 8.8, 9. , 9.2, 9.4, 9.6, 9.8])"
            ]
          },
          "metadata": {},
          "execution_count": 14
        }
      ]
    },
    {
      "cell_type": "markdown",
      "metadata": {
        "id": "L_v4G2XLiq_-"
      },
      "source": [
        "Альтернативой функции arange является функция linspace, которая позволяет разбить числовой диапазон `[start, stop]` на нужное количество точек:"
      ]
    },
    {
      "cell_type": "code",
      "metadata": {
        "colab": {
          "base_uri": "https://localhost:8080/"
        },
        "outputId": "ef8ba1a1-1e64-4b75-82c3-de970dfde10e",
        "id": "g3JVJlF-iq_-"
      },
      "source": [
        "m = np.linspace(0, 3, 40)\n",
        "print(m)"
      ],
      "execution_count": null,
      "outputs": [
        {
          "output_type": "stream",
          "name": "stdout",
          "text": [
            "[0.         0.07692308 0.15384615 0.23076923 0.30769231 0.38461538\n",
            " 0.46153846 0.53846154 0.61538462 0.69230769 0.76923077 0.84615385\n",
            " 0.92307692 1.         1.07692308 1.15384615 1.23076923 1.30769231\n",
            " 1.38461538 1.46153846 1.53846154 1.61538462 1.69230769 1.76923077\n",
            " 1.84615385 1.92307692 2.         2.07692308 2.15384615 2.23076923\n",
            " 2.30769231 2.38461538 2.46153846 2.53846154 2.61538462 2.69230769\n",
            " 2.76923077 2.84615385 2.92307692 3.        ]\n"
          ]
        }
      ]
    },
    {
      "cell_type": "code",
      "source": [
        "m.dtype"
      ],
      "metadata": {
        "colab": {
          "base_uri": "https://localhost:8080/"
        },
        "id": "vc4MPSG7CtAR",
        "outputId": "afa7daeb-f712-4f5b-a7ef-e5142c5e35bc"
      },
      "execution_count": null,
      "outputs": [
        {
          "output_type": "execute_result",
          "data": {
            "text/plain": [
              "dtype('float16')"
            ]
          },
          "metadata": {},
          "execution_count": 46
        }
      ]
    },
    {
      "cell_type": "code",
      "metadata": {
        "id": "fFy25yGviq_-"
      },
      "source": [
        "np.linspace?"
      ],
      "execution_count": null,
      "outputs": []
    },
    {
      "cell_type": "code",
      "metadata": {
        "colab": {
          "base_uri": "https://localhost:8080/"
        },
        "outputId": "5c4ec9be-546a-4079-951e-e0a179f44e95",
        "id": "Cdcz9i0uiq__"
      },
      "source": [
        "np.linspace(0, 3)"
      ],
      "execution_count": null,
      "outputs": [
        {
          "output_type": "execute_result",
          "data": {
            "text/plain": [
              "array([0.        , 0.06122449, 0.12244898, 0.18367347, 0.24489796,\n",
              "       0.30612245, 0.36734694, 0.42857143, 0.48979592, 0.55102041,\n",
              "       0.6122449 , 0.67346939, 0.73469388, 0.79591837, 0.85714286,\n",
              "       0.91836735, 0.97959184, 1.04081633, 1.10204082, 1.16326531,\n",
              "       1.2244898 , 1.28571429, 1.34693878, 1.40816327, 1.46938776,\n",
              "       1.53061224, 1.59183673, 1.65306122, 1.71428571, 1.7755102 ,\n",
              "       1.83673469, 1.89795918, 1.95918367, 2.02040816, 2.08163265,\n",
              "       2.14285714, 2.20408163, 2.26530612, 2.32653061, 2.3877551 ,\n",
              "       2.44897959, 2.51020408, 2.57142857, 2.63265306, 2.69387755,\n",
              "       2.75510204, 2.81632653, 2.87755102, 2.93877551, 3.        ])"
            ]
          },
          "metadata": {},
          "execution_count": 38
        }
      ]
    },
    {
      "cell_type": "code",
      "source": [
        "np.linspace(0, 3, dtype=np.float16)"
      ],
      "metadata": {
        "colab": {
          "base_uri": "https://localhost:8080/"
        },
        "id": "EFzIgderD6uS",
        "outputId": "e8e64c24-393c-4a12-e674-76411b9ad1e2"
      },
      "execution_count": null,
      "outputs": [
        {
          "output_type": "execute_result",
          "data": {
            "text/plain": [
              "array([0.     , 0.06122, 0.12244, 0.1837 , 0.2449 , 0.3062 , 0.3674 ,\n",
              "       0.4285 , 0.4897 , 0.551  , 0.6123 , 0.6733 , 0.735  , 0.796  ,\n",
              "       0.857  , 0.9185 , 0.9795 , 1.041  , 1.102  , 1.163  , 1.225  ,\n",
              "       1.286  , 1.347  , 1.408  , 1.47   , 1.53   , 1.592  , 1.653  ,\n",
              "       1.714  , 1.775  , 1.837  , 1.898  , 1.959  , 2.02   , 2.082  ,\n",
              "       2.143  , 2.203  , 2.266  , 2.326  , 2.389  , 2.45   , 2.51   ,\n",
              "       2.572  , 2.633  , 2.693  , 2.756  , 2.816  , 2.877  , 2.94   ,\n",
              "       3.     ], dtype=float16)"
            ]
          },
          "metadata": {},
          "execution_count": 48
        }
      ]
    },
    {
      "cell_type": "code",
      "source": [
        "np.array?"
      ],
      "metadata": {
        "id": "rSgVRTFaFDYH"
      },
      "execution_count": null,
      "outputs": []
    },
    {
      "cell_type": "code",
      "metadata": {
        "colab": {
          "base_uri": "https://localhost:8080/",
          "height": 206
        },
        "outputId": "c6b0c3d1-5bc0-4049-8524-32af21c0cfc7",
        "id": "rYdWKoCjiq__"
      },
      "source": [
        "np.linspace(0)"
      ],
      "execution_count": null,
      "outputs": [
        {
          "output_type": "error",
          "ename": "TypeError",
          "evalue": "ignored",
          "traceback": [
            "\u001b[0;31m---------------------------------------------------------------------------\u001b[0m",
            "\u001b[0;31mTypeError\u001b[0m                                 Traceback (most recent call last)",
            "\u001b[0;32m<ipython-input-40-ef30b6136571>\u001b[0m in \u001b[0;36m<module>\u001b[0;34m\u001b[0m\n\u001b[0;32m----> 1\u001b[0;31m \u001b[0mnp\u001b[0m\u001b[0;34m.\u001b[0m\u001b[0mlinspace\u001b[0m\u001b[0;34m(\u001b[0m\u001b[0;36m0\u001b[0m\u001b[0;34m)\u001b[0m\u001b[0;34m\u001b[0m\u001b[0;34m\u001b[0m\u001b[0m\n\u001b[0m",
            "\u001b[0;32m/usr/local/lib/python3.9/dist-packages/numpy/core/overrides.py\u001b[0m in \u001b[0;36mlinspace\u001b[0;34m(*args, **kwargs)\u001b[0m\n",
            "\u001b[0;31mTypeError\u001b[0m: _linspace_dispatcher() missing 1 required positional argument: 'stop'"
          ]
        }
      ]
    },
    {
      "cell_type": "markdown",
      "metadata": {
        "id": "QMP0f8Wliq__"
      },
      "source": [
        "Помимо линейного диапазона в NumPy еще есть и экспоненциальный диапазон -   $[base^{start}$, $base^{end}]$"
      ]
    },
    {
      "cell_type": "code",
      "metadata": {
        "colab": {
          "base_uri": "https://localhost:8080/"
        },
        "outputId": "5d947cd9-2bcc-4b99-d746-5809c9113653",
        "id": "u8Mx3JIHirAA"
      },
      "source": [
        "np.logspace(1, 10, num=50, base=10)"
      ],
      "execution_count": null,
      "outputs": [
        {
          "output_type": "execute_result",
          "data": {
            "text/plain": [
              "array([1.00000000e+01, 1.52641797e+01, 2.32995181e+01, 3.55648031e+01,\n",
              "       5.42867544e+01, 8.28642773e+01, 1.26485522e+02, 1.93069773e+02,\n",
              "       2.94705170e+02, 4.49843267e+02, 6.86648845e+02, 1.04811313e+03,\n",
              "       1.59985872e+03, 2.44205309e+03, 3.72759372e+03, 5.68986603e+03,\n",
              "       8.68511374e+03, 1.32571137e+04, 2.02358965e+04, 3.08884360e+04,\n",
              "       4.71486636e+04, 7.19685673e+04, 1.09854114e+05, 1.67683294e+05,\n",
              "       2.55954792e+05, 3.90693994e+05, 5.96362332e+05, 9.10298178e+05,\n",
              "       1.38949549e+06, 2.12095089e+06, 3.23745754e+06, 4.94171336e+06,\n",
              "       7.54312006e+06, 1.15139540e+07, 1.75751062e+07, 2.68269580e+07,\n",
              "       4.09491506e+07, 6.25055193e+07, 9.54095476e+07, 1.45634848e+08,\n",
              "       2.22299648e+08, 3.39322177e+08, 5.17947468e+08, 7.90604321e+08,\n",
              "       1.20679264e+09, 1.84206997e+09, 2.81176870e+09, 4.29193426e+09,\n",
              "       6.55128557e+09, 1.00000000e+10])"
            ]
          },
          "metadata": {},
          "execution_count": 41
        }
      ]
    },
    {
      "cell_type": "code",
      "source": [
        "m = np.logspace(2.0, 5.0, num=4, base=2)\n",
        "print(m)"
      ],
      "metadata": {
        "colab": {
          "base_uri": "https://localhost:8080/"
        },
        "id": "PxNmRYjet83Q",
        "outputId": "4f0fc364-7b77-4931-ca5e-c883a204b78a"
      },
      "execution_count": null,
      "outputs": [
        {
          "output_type": "stream",
          "name": "stdout",
          "text": [
            "[ 4.  8. 16. 32.]\n"
          ]
        }
      ]
    },
    {
      "cell_type": "markdown",
      "metadata": {
        "id": "g33aAyoMirAA"
      },
      "source": [
        "### Заполнение случайными числами"
      ]
    },
    {
      "cell_type": "markdown",
      "source": [
        "В NumPy имеется модуль для работы со случайными числами и распределениями - `random` (во многом похож на модуль `random` в Python).\n",
        "\n",
        "Для создания массива, заполненного равномерно из диапазона $[0,1]$, можно использовать функцию `rand` модуля `random`:"
      ],
      "metadata": {
        "id": "HDJcrnrcvVuG"
      }
    },
    {
      "cell_type": "code",
      "metadata": {
        "colab": {
          "base_uri": "https://localhost:8080/"
        },
        "outputId": "0dfdb744-2045-4b07-fd4d-c48858600e91",
        "id": "_5W-c4PfirAA"
      },
      "source": [
        "np.random.seed(42)\n",
        "print(np.random.rand(2, 2))"
      ],
      "execution_count": null,
      "outputs": [
        {
          "output_type": "stream",
          "name": "stdout",
          "text": [
            "[[0.37454012 0.95071431]\n",
            " [0.73199394 0.59865848]]\n"
          ]
        }
      ]
    },
    {
      "cell_type": "code",
      "metadata": {
        "colab": {
          "base_uri": "https://localhost:8080/"
        },
        "outputId": "f87f0dfb-fc18-409a-cccc-9773c81747e7",
        "id": "W6maRCZVirAB"
      },
      "source": [
        "#np.random.seed(42)\n",
        "print(np.random.rand(2, 2))"
      ],
      "execution_count": null,
      "outputs": [
        {
          "output_type": "stream",
          "name": "stdout",
          "text": [
            "[[0.83244264 0.21233911]\n",
            " [0.18182497 0.18340451]]\n"
          ]
        }
      ]
    },
    {
      "cell_type": "markdown",
      "source": [
        "Если нужно нормальное распределение - `randn`!"
      ],
      "metadata": {
        "id": "9RtrdbqBwCyZ"
      }
    },
    {
      "cell_type": "code",
      "metadata": {
        "colab": {
          "base_uri": "https://localhost:8080/"
        },
        "outputId": "6a775dad-a4cc-4d28-be04-ef25bc0c6ab4",
        "id": "a-JObHAqirAC"
      },
      "source": [
        "np.random.randn(2, 3, 2)"
      ],
      "execution_count": null,
      "outputs": [
        {
          "output_type": "execute_result",
          "data": {
            "text/plain": [
              "array([[[ 0.24196227, -1.91328024],\n",
              "        [-1.72491783, -0.56228753],\n",
              "        [-1.01283112,  0.31424733]],\n",
              "\n",
              "       [[-0.90802408, -1.4123037 ],\n",
              "        [ 1.46564877, -0.2257763 ],\n",
              "        [ 0.0675282 , -1.42474819]]])"
            ]
          },
          "metadata": {},
          "execution_count": 31
        }
      ]
    },
    {
      "cell_type": "markdown",
      "source": [
        "Если хотите случайно заполнить массив из какого-либо другого списка / массива, пригодится `choice`:"
      ],
      "metadata": {
        "id": "LzRDQhYCwKSh"
      }
    },
    {
      "cell_type": "code",
      "metadata": {
        "colab": {
          "base_uri": "https://localhost:8080/"
        },
        "outputId": "ece92399-7786-4ee5-d5ef-036afa195c87",
        "id": "HqieZVBFirAC"
      },
      "source": [
        "# массив из случайно выбранных чисел\n",
        "# size - размер возвращаемого массива, replace=False без замещения\n",
        "np.random.choice(a=np.arange(20), size=10, replace=True)"
      ],
      "execution_count": null,
      "outputs": [
        {
          "output_type": "execute_result",
          "data": {
            "text/plain": [
              "array([ 2,  4, 18,  6,  8,  6, 17,  3, 13, 17])"
            ]
          },
          "metadata": {},
          "execution_count": 32
        }
      ]
    },
    {
      "cell_type": "code",
      "metadata": {
        "colab": {
          "base_uri": "https://localhost:8080/",
          "height": 182
        },
        "outputId": "10474d9a-64a6-4c81-855f-bce5e470f674",
        "id": "hfuuL62rirAD"
      },
      "source": [
        "np.random.choice(a=np.arange(20), size=(5, 5), replace=False)"
      ],
      "execution_count": null,
      "outputs": [
        {
          "output_type": "error",
          "ename": "ValueError",
          "evalue": "Cannot take a larger sample than population when 'replace=False'",
          "traceback": [
            "\u001b[0;31m---------------------------------------------------------------------------\u001b[0m",
            "\u001b[0;31mValueError\u001b[0m                                Traceback (most recent call last)",
            "\u001b[0;32m<ipython-input-33-9c7bfd658c6a>\u001b[0m in \u001b[0;36m<cell line: 1>\u001b[0;34m()\u001b[0m\n\u001b[0;32m----> 1\u001b[0;31m \u001b[0mnp\u001b[0m\u001b[0;34m.\u001b[0m\u001b[0mrandom\u001b[0m\u001b[0;34m.\u001b[0m\u001b[0mchoice\u001b[0m\u001b[0;34m(\u001b[0m\u001b[0ma\u001b[0m\u001b[0;34m=\u001b[0m\u001b[0mnp\u001b[0m\u001b[0;34m.\u001b[0m\u001b[0marange\u001b[0m\u001b[0;34m(\u001b[0m\u001b[0;36m20\u001b[0m\u001b[0;34m)\u001b[0m\u001b[0;34m,\u001b[0m \u001b[0msize\u001b[0m\u001b[0;34m=\u001b[0m\u001b[0;34m(\u001b[0m\u001b[0;36m5\u001b[0m\u001b[0;34m,\u001b[0m \u001b[0;36m5\u001b[0m\u001b[0;34m)\u001b[0m\u001b[0;34m,\u001b[0m \u001b[0mreplace\u001b[0m\u001b[0;34m=\u001b[0m\u001b[0;32mFalse\u001b[0m\u001b[0;34m)\u001b[0m\u001b[0;34m\u001b[0m\u001b[0;34m\u001b[0m\u001b[0m\n\u001b[0m",
            "\u001b[0;32mmtrand.pyx\u001b[0m in \u001b[0;36mnumpy.random.mtrand.RandomState.choice\u001b[0;34m()\u001b[0m\n",
            "\u001b[0;31mValueError\u001b[0m: Cannot take a larger sample than population when 'replace=False'"
          ]
        }
      ]
    },
    {
      "cell_type": "markdown",
      "metadata": {
        "id": "G7gM42J6TvbP"
      },
      "source": [
        "### Типы данных в NumPy"
      ]
    },
    {
      "cell_type": "markdown",
      "metadata": {
        "id": "dpAayLtiirAD"
      },
      "source": [
        "**А что со временем?**"
      ]
    },
    {
      "cell_type": "code",
      "metadata": {
        "colab": {
          "base_uri": "https://localhost:8080/"
        },
        "outputId": "568cc118-8edd-4e1e-f6ff-7a400e69f9bc",
        "id": "Vq8DTwfjirAE"
      },
      "source": [
        "%%time\n",
        "a_py = list(range(10 ** 8))\n",
        "#  %%time - выводит время выполнения ячейки"
      ],
      "execution_count": null,
      "outputs": [
        {
          "output_type": "stream",
          "name": "stdout",
          "text": [
            "CPU times: user 1.47 s, sys: 7.27 s, total: 8.74 s\n",
            "Wall time: 8.89 s\n"
          ]
        }
      ]
    },
    {
      "cell_type": "code",
      "source": [
        "%%time\n",
        "a_np = np.arange(10 ** 8)"
      ],
      "metadata": {
        "colab": {
          "base_uri": "https://localhost:8080/"
        },
        "id": "bpVfpe71MU_J",
        "outputId": "f6a5ebc4-f371-4c5a-edcd-0b435bd9358b"
      },
      "execution_count": null,
      "outputs": [
        {
          "output_type": "stream",
          "name": "stdout",
          "text": [
            "CPU times: user 64.9 ms, sys: 873 ms, total: 938 ms\n",
            "Wall time: 972 ms\n"
          ]
        }
      ]
    },
    {
      "cell_type": "markdown",
      "metadata": {
        "id": "I3ocxdEFTvbu"
      },
      "source": [
        "# Индексация"
      ]
    },
    {
      "cell_type": "markdown",
      "source": [
        "## Выбор одного элемента"
      ],
      "metadata": {
        "id": "3dGfIeil3eYX"
      }
    },
    {
      "cell_type": "markdown",
      "source": [
        "Базовая индексация в NumPy очень похожа на питоновскую:"
      ],
      "metadata": {
        "id": "bQfTht9lzBK9"
      }
    },
    {
      "cell_type": "code",
      "metadata": {
        "colab": {
          "base_uri": "https://localhost:8080/"
        },
        "id": "YtNr04tLTvbv",
        "outputId": "80393d6e-840b-423b-fca2-a2413abb4b04"
      },
      "source": [
        "m = np.array([[1, 8, 3],\n",
        "              [3, 2, 1],\n",
        "              [3, 5, 6]])\n",
        "print(m)"
      ],
      "execution_count": null,
      "outputs": [
        {
          "output_type": "stream",
          "name": "stdout",
          "text": [
            "[[1 8 3]\n",
            " [3 2 1]\n",
            " [3 5 6]]\n"
          ]
        }
      ]
    },
    {
      "cell_type": "code",
      "source": [
        "m[2]"
      ],
      "metadata": {
        "colab": {
          "base_uri": "https://localhost:8080/"
        },
        "id": "ysec5vE55a4s",
        "outputId": "c218ff62-3cb7-4e0a-a1ba-1148ea3a63ad"
      },
      "execution_count": null,
      "outputs": [
        {
          "output_type": "execute_result",
          "data": {
            "text/plain": [
              "array([3, 5, 6])"
            ]
          },
          "metadata": {},
          "execution_count": 37
        }
      ]
    },
    {
      "cell_type": "code",
      "source": [
        "m[2][1]"
      ],
      "metadata": {
        "colab": {
          "base_uri": "https://localhost:8080/"
        },
        "id": "7XiSAG_Szu0W",
        "outputId": "bf7fdb3b-3c46-46b4-e9c0-bda2cc61a3c6"
      },
      "execution_count": null,
      "outputs": [
        {
          "output_type": "execute_result",
          "data": {
            "text/plain": [
              "5"
            ]
          },
          "metadata": {},
          "execution_count": 38
        }
      ]
    },
    {
      "cell_type": "code",
      "source": [
        "m[2, 1]"
      ],
      "metadata": {
        "colab": {
          "base_uri": "https://localhost:8080/"
        },
        "id": "mk7SjP-Pz94f",
        "outputId": "f38465dd-475a-45b4-8f0f-981c04f6fc0e"
      },
      "execution_count": null,
      "outputs": [
        {
          "output_type": "execute_result",
          "data": {
            "text/plain": [
              "5"
            ]
          },
          "metadata": {},
          "execution_count": 39
        }
      ]
    },
    {
      "cell_type": "markdown",
      "source": [
        "Так же поддерживаются срезы:"
      ],
      "metadata": {
        "id": "TPLLi-9zz_jA"
      }
    },
    {
      "cell_type": "code",
      "metadata": {
        "colab": {
          "base_uri": "https://localhost:8080/"
        },
        "id": "vBJ443QKTvbw",
        "outputId": "4bb100ff-c408-441d-dca6-b78e9393deba"
      },
      "source": [
        "m[2, :]"
      ],
      "execution_count": null,
      "outputs": [
        {
          "output_type": "execute_result",
          "data": {
            "text/plain": [
              "array([3, 5, 6])"
            ]
          },
          "metadata": {},
          "execution_count": 27
        }
      ]
    },
    {
      "cell_type": "code",
      "source": [
        "m[2, 0::2]"
      ],
      "metadata": {
        "colab": {
          "base_uri": "https://localhost:8080/"
        },
        "id": "mOGOnekz0GnZ",
        "outputId": "b5140d9b-7513-4d80-952e-b8f9ff37066a"
      },
      "execution_count": null,
      "outputs": [
        {
          "output_type": "execute_result",
          "data": {
            "text/plain": [
              "array([3, 6])"
            ]
          },
          "metadata": {},
          "execution_count": 65
        }
      ]
    },
    {
      "cell_type": "markdown",
      "source": [
        "Так же поддерживается срезы и по первой координате:"
      ],
      "metadata": {
        "id": "zi6LUu760TqC"
      }
    },
    {
      "cell_type": "code",
      "metadata": {
        "colab": {
          "base_uri": "https://localhost:8080/"
        },
        "id": "JWLqRvwZTvbw",
        "outputId": "0d1b54d1-e605-4db1-f124-acb33d8cdaa4"
      },
      "source": [
        "m[:, 1]"
      ],
      "execution_count": null,
      "outputs": [
        {
          "output_type": "execute_result",
          "data": {
            "text/plain": [
              "array([8, 2, 5])"
            ]
          },
          "metadata": {},
          "execution_count": 28
        }
      ]
    },
    {
      "cell_type": "markdown",
      "source": [
        "В обычном питоне такое сделать не получится:"
      ],
      "metadata": {
        "id": "piyIgyVL0nVH"
      }
    },
    {
      "cell_type": "code",
      "metadata": {
        "colab": {
          "base_uri": "https://localhost:8080/"
        },
        "id": "YBP5R9WuqSLs",
        "outputId": "079d9c60-e7d9-46e0-92e1-197b39ad26d6"
      },
      "source": [
        "a = [[i for i in range(10)] for i in range(5)]\n",
        "a"
      ],
      "execution_count": null,
      "outputs": [
        {
          "output_type": "execute_result",
          "data": {
            "text/plain": [
              "[[0, 1, 2, 3, 4, 5, 6, 7, 8, 9],\n",
              " [0, 1, 2, 3, 4, 5, 6, 7, 8, 9],\n",
              " [0, 1, 2, 3, 4, 5, 6, 7, 8, 9],\n",
              " [0, 1, 2, 3, 4, 5, 6, 7, 8, 9],\n",
              " [0, 1, 2, 3, 4, 5, 6, 7, 8, 9]]"
            ]
          },
          "metadata": {},
          "execution_count": 40
        }
      ]
    },
    {
      "cell_type": "code",
      "metadata": {
        "colab": {
          "base_uri": "https://localhost:8080/"
        },
        "id": "YoA4-b7KqsX_",
        "outputId": "7acd115f-b358-4f9b-d988-3825f7e2920e"
      },
      "source": [
        "a[:][1]"
      ],
      "execution_count": null,
      "outputs": [
        {
          "output_type": "execute_result",
          "data": {
            "text/plain": [
              "[0, 1, 2, 3, 4, 5, 6, 7, 8, 9]"
            ]
          },
          "metadata": {},
          "execution_count": 41
        }
      ]
    },
    {
      "cell_type": "code",
      "source": [
        "[a[i][1] for i in range(len(a))]"
      ],
      "metadata": {
        "colab": {
          "base_uri": "https://localhost:8080/"
        },
        "id": "FHi1xxrm8bUk",
        "outputId": "cbd59634-771c-4bf5-f496-08621907ccc9"
      },
      "execution_count": null,
      "outputs": [
        {
          "output_type": "execute_result",
          "data": {
            "text/plain": [
              "[1, 1, 1, 1, 1]"
            ]
          },
          "metadata": {},
          "execution_count": 42
        }
      ]
    },
    {
      "cell_type": "code",
      "metadata": {
        "colab": {
          "base_uri": "https://localhost:8080/"
        },
        "id": "B-E1pHkxrOxd",
        "outputId": "24b18568-6bd8-4bbd-afc7-cc84afd326fd"
      },
      "source": [
        "a_np = np.array(a)\n",
        "a_np"
      ],
      "execution_count": null,
      "outputs": [
        {
          "output_type": "execute_result",
          "data": {
            "text/plain": [
              "array([[0, 1, 2, 3, 4, 5, 6, 7, 8, 9],\n",
              "       [0, 1, 2, 3, 4, 5, 6, 7, 8, 9],\n",
              "       [0, 1, 2, 3, 4, 5, 6, 7, 8, 9],\n",
              "       [0, 1, 2, 3, 4, 5, 6, 7, 8, 9],\n",
              "       [0, 1, 2, 3, 4, 5, 6, 7, 8, 9]])"
            ]
          },
          "metadata": {},
          "execution_count": 43
        }
      ]
    },
    {
      "cell_type": "code",
      "source": [
        "a_np[:, 1]"
      ],
      "metadata": {
        "colab": {
          "base_uri": "https://localhost:8080/"
        },
        "id": "xlJ58fipYZVW",
        "outputId": "8f18be73-9559-4d10-856d-bc7d32110bad"
      },
      "execution_count": null,
      "outputs": [
        {
          "output_type": "execute_result",
          "data": {
            "text/plain": [
              "array([1, 1, 1, 1, 1])"
            ]
          },
          "metadata": {},
          "execution_count": 44
        }
      ]
    },
    {
      "cell_type": "code",
      "metadata": {
        "colab": {
          "base_uri": "https://localhost:8080/"
        },
        "id": "lsX1tUrQrVG4",
        "outputId": "bd241981-48b0-4762-f3d0-a0f6c060a594"
      },
      "source": [
        "a_np[::2, 2:7:2]"
      ],
      "execution_count": null,
      "outputs": [
        {
          "output_type": "execute_result",
          "data": {
            "text/plain": [
              "array([[2, 4, 6],\n",
              "       [2, 4, 6],\n",
              "       [2, 4, 6]])"
            ]
          },
          "metadata": {},
          "execution_count": 45
        }
      ]
    },
    {
      "cell_type": "markdown",
      "source": [
        "## Выбор нескольких элементов"
      ],
      "metadata": {
        "id": "tDa5Ecle0-MZ"
      }
    },
    {
      "cell_type": "markdown",
      "source": [
        "В NumPy имеется несколько способов выбрать набор элементов."
      ],
      "metadata": {
        "id": "sd_D0qS31WoM"
      }
    },
    {
      "cell_type": "code",
      "metadata": {
        "colab": {
          "base_uri": "https://localhost:8080/"
        },
        "id": "VZgO2lmApBic",
        "outputId": "93171037-3b79-4696-fbde-6027902c8ce8"
      },
      "source": [
        "m"
      ],
      "execution_count": null,
      "outputs": [
        {
          "output_type": "execute_result",
          "data": {
            "text/plain": [
              "array([[1, 8, 3],\n",
              "       [3, 2, 1],\n",
              "       [3, 5, 6]])"
            ]
          },
          "metadata": {},
          "execution_count": 47
        }
      ]
    },
    {
      "cell_type": "markdown",
      "source": [
        "Первый способ подходит, если мы, например, работаем с табличными данными и хотим подробнее посмотреть на несколько строк в таблице, но не на все столбцы с данными, а лишь на несколько.\n",
        "\n",
        "В таком случае мы можем воспользоваться функцией `ix_` указать список индексов для каждой из координат:"
      ],
      "metadata": {
        "id": "Cq6AVlR01mlA"
      }
    },
    {
      "cell_type": "code",
      "metadata": {
        "colab": {
          "base_uri": "https://localhost:8080/"
        },
        "id": "WriyY7aLpqhJ",
        "outputId": "1f8e961f-423e-4278-ef9b-4cb191d55d8f"
      },
      "source": [
        "np.ix_([0, 2], [1, 2])"
      ],
      "execution_count": null,
      "outputs": [
        {
          "output_type": "execute_result",
          "data": {
            "text/plain": [
              "(array([[0],\n",
              "        [2]]),\n",
              " array([[1, 2]]))"
            ]
          },
          "metadata": {},
          "execution_count": 33
        }
      ]
    },
    {
      "cell_type": "code",
      "source": [
        "m[np.ix_([0, 2], [1, 2])]"
      ],
      "metadata": {
        "colab": {
          "base_uri": "https://localhost:8080/"
        },
        "id": "aQcLIq2q7hrL",
        "outputId": "603efeaf-c1a7-4980-d274-ec5d59fec1ec"
      },
      "execution_count": null,
      "outputs": [
        {
          "output_type": "execute_result",
          "data": {
            "text/plain": [
              "array([[8, 3],\n",
              "       [5, 6]])"
            ]
          },
          "metadata": {},
          "execution_count": 48
        }
      ]
    },
    {
      "cell_type": "code",
      "source": [
        "m[np.ix_([0], [2])]"
      ],
      "metadata": {
        "colab": {
          "base_uri": "https://localhost:8080/"
        },
        "id": "nh5ozr_K92RZ",
        "outputId": "2d0f46c6-63a9-408e-a0a1-7beb9919a0de"
      },
      "execution_count": null,
      "outputs": [
        {
          "output_type": "execute_result",
          "data": {
            "text/plain": [
              "array([[3]])"
            ]
          },
          "metadata": {},
          "execution_count": 35
        }
      ]
    },
    {
      "cell_type": "code",
      "source": [
        "m[0, 2] = 4"
      ],
      "metadata": {
        "id": "EQdKgQLv97D7"
      },
      "execution_count": null,
      "outputs": []
    },
    {
      "cell_type": "code",
      "source": [
        "m[np.ix_([1], [1, 2])]"
      ],
      "metadata": {
        "colab": {
          "base_uri": "https://localhost:8080/"
        },
        "id": "XDB1YVZ7RkHt",
        "outputId": "e91e408c-e7d6-4676-9b15-62ffe4b7fda5"
      },
      "execution_count": null,
      "outputs": [
        {
          "output_type": "execute_result",
          "data": {
            "text/plain": [
              "array([[2, 1]])"
            ]
          },
          "metadata": {},
          "execution_count": 94
        }
      ]
    },
    {
      "cell_type": "code",
      "metadata": {
        "id": "uMRsItLDTvbz"
      },
      "source": [
        "m_dop = m[np.ix_([0, 2], [0, 1, 2, 1])]"
      ],
      "execution_count": null,
      "outputs": []
    },
    {
      "cell_type": "code",
      "metadata": {
        "colab": {
          "base_uri": "https://localhost:8080/"
        },
        "id": "cHQpgQkYpe7J",
        "outputId": "a788220a-6edf-40bc-dc49-77eff17d1814"
      },
      "source": [
        "m_dop"
      ],
      "execution_count": null,
      "outputs": [
        {
          "output_type": "execute_result",
          "data": {
            "text/plain": [
              "array([[1, 8, 3, 8],\n",
              "       [3, 5, 6, 5]])"
            ]
          },
          "metadata": {},
          "execution_count": 84
        }
      ]
    },
    {
      "cell_type": "code",
      "source": [
        "m"
      ],
      "metadata": {
        "colab": {
          "base_uri": "https://localhost:8080/"
        },
        "id": "mABY6u1G9W4-",
        "outputId": "0eeaf56c-6aa5-4970-fb7c-2e25e76d95fa"
      },
      "execution_count": null,
      "outputs": [
        {
          "output_type": "execute_result",
          "data": {
            "text/plain": [
              "array([[1, 8, 4],\n",
              "       [3, 2, 1],\n",
              "       [3, 5, 6]])"
            ]
          },
          "metadata": {},
          "execution_count": 85
        }
      ]
    },
    {
      "cell_type": "code",
      "source": [
        "m[np.ix_(np.arange(m.shape[0]), [0, 2])]"
      ],
      "metadata": {
        "colab": {
          "base_uri": "https://localhost:8080/"
        },
        "id": "evLvVuOG9ZVk",
        "outputId": "b14b3654-e98a-4ea1-8dc1-9ec195fe18d8"
      },
      "execution_count": null,
      "outputs": [
        {
          "output_type": "execute_result",
          "data": {
            "text/plain": [
              "array([[1, 3],\n",
              "       [3, 1],\n",
              "       [3, 6]])"
            ]
          },
          "metadata": {},
          "execution_count": 81
        }
      ]
    },
    {
      "cell_type": "code",
      "metadata": {
        "colab": {
          "base_uri": "https://localhost:8080/"
        },
        "outputId": "c6bf5d89-7fae-4fa1-dfdf-1a245e613103",
        "id": "X67Z1Uq52e-1"
      },
      "source": [
        "m"
      ],
      "execution_count": null,
      "outputs": [
        {
          "output_type": "execute_result",
          "data": {
            "text/plain": [
              "array([[1, 8, 4],\n",
              "       [3, 2, 1],\n",
              "       [3, 5, 6]])"
            ]
          },
          "metadata": {},
          "execution_count": 87
        }
      ]
    },
    {
      "cell_type": "markdown",
      "source": [
        "Второй способ - хотим просто получить набор элементов с конкретными индексами. В таком случае просто указываем индексы желаемых элементов для каждой из координат:"
      ],
      "metadata": {
        "id": "Pdd1NANZ24UY"
      }
    },
    {
      "cell_type": "code",
      "metadata": {
        "colab": {
          "base_uri": "https://localhost:8080/"
        },
        "id": "5L0ma4l6Tvby",
        "outputId": "344ce014-93b6-44ab-ce91-637ce43928f7"
      },
      "source": [
        "m[[0, 2, 0, 1], [0, 1, 2, 1]]"
      ],
      "execution_count": null,
      "outputs": [
        {
          "output_type": "execute_result",
          "data": {
            "text/plain": [
              "array([1, 5, 4, 2])"
            ]
          },
          "metadata": {},
          "execution_count": 86
        }
      ]
    },
    {
      "cell_type": "code",
      "source": [
        "m[[0, 2, 0, 1], [0, 1, 2, 1]].reshape((4, 1))"
      ],
      "metadata": {
        "colab": {
          "base_uri": "https://localhost:8080/"
        },
        "id": "JxEKfh6NTBeb",
        "outputId": "7dd6fe7e-33cd-4d67-c823-7b626c113005"
      },
      "execution_count": null,
      "outputs": [
        {
          "output_type": "execute_result",
          "data": {
            "text/plain": [
              "array([[1],\n",
              "       [5],\n",
              "       [3],\n",
              "       [2]])"
            ]
          },
          "metadata": {},
          "execution_count": 104
        }
      ]
    },
    {
      "cell_type": "code",
      "metadata": {
        "colab": {
          "base_uri": "https://localhost:8080/"
        },
        "id": "ZurBLziXYvsE",
        "outputId": "52ff6dd9-e777-47ee-f4af-a6ccc424d555"
      },
      "source": [
        "m"
      ],
      "execution_count": null,
      "outputs": [
        {
          "output_type": "execute_result",
          "data": {
            "text/plain": [
              "array([[1, 8, 3],\n",
              "       [3, 2, 1],\n",
              "       [3, 5, 6]])"
            ]
          },
          "metadata": {},
          "execution_count": 122
        }
      ]
    },
    {
      "cell_type": "markdown",
      "metadata": {
        "id": "dYfGBPAAPR0A"
      },
      "source": [
        "# Broadcasting (Расширение/адаптация размерностей)\n"
      ]
    },
    {
      "cell_type": "markdown",
      "source": [
        "Мощный механизм, позволяющий NumPy работать с массивами различной формы при выполнении арифметических операций. Часто у нас есть меньший массив и больший массив, и мы хотим использовать меньший массив несколько раз, чтобы выполнить некоторую операцию над большим массивом\n",
        "\n",
        "[Наглядный туториал](https://scipy.github.io/old-wiki/pages/EricsBroadcastingDoc)"
      ],
      "metadata": {
        "id": "AMQ1O8jK3tqx"
      }
    },
    {
      "cell_type": "markdown",
      "source": [
        "Иногда хотим выполнить операции между массивами разной формы.\n",
        "\n",
        "**Пример** - хотим посчитать разницу между одномерным массивом и каждой из строк матрицы (двумерного массива). Обычный Python не позволяет нам выполнять такую операцию. Но можем ли мы это сделать в NumPy:"
      ],
      "metadata": {
        "id": "yIriBp-y4mT4"
      }
    },
    {
      "cell_type": "code",
      "source": [
        "vector = np.array([1, 2, 3])\n",
        "matrix = np.array([[1, 2, 3], [4, 5, 6], [7, 8, 9], [10, 11, 12]])\n",
        "vector - matrix"
      ],
      "metadata": {
        "colab": {
          "base_uri": "https://localhost:8080/"
        },
        "id": "9zBuoWoo5Dpn",
        "outputId": "24c109d2-c353-434d-ef3f-195242488f0e"
      },
      "execution_count": null,
      "outputs": [
        {
          "output_type": "execute_result",
          "data": {
            "text/plain": [
              "array([[ 0,  0,  0],\n",
              "       [-3, -3, -3],\n",
              "       [-6, -6, -6],\n",
              "       [-9, -9, -9]])"
            ]
          },
          "metadata": {},
          "execution_count": 39
        }
      ]
    },
    {
      "cell_type": "markdown",
      "source": [
        "Что по сути происходит - NumPy \"расширяет\" наш вектор до размера 4x3, а затем выполняет вычитание."
      ],
      "metadata": {
        "id": "8iRwyNaD5VEv"
      }
    },
    {
      "cell_type": "markdown",
      "source": [
        "Этот механизм называется **broadcasting**."
      ],
      "metadata": {
        "id": "IKudjKes5jqY"
      }
    },
    {
      "cell_type": "markdown",
      "source": [
        "Всегда ли он работает?"
      ],
      "metadata": {
        "id": "3QSeYF-25rhL"
      }
    },
    {
      "cell_type": "code",
      "source": [
        "vector = np.array([1, 2, 3, 4])\n",
        "matrix = np.array([[1, 2, 3], [4, 5, 6], [7, 8, 9], [10, 11, 12]])\n",
        "vector - matrix"
      ],
      "metadata": {
        "colab": {
          "base_uri": "https://localhost:8080/",
          "height": 216
        },
        "id": "mhdYAffg5tmO",
        "outputId": "816cebbe-d1a9-4aa4-d326-947f0e462098"
      },
      "execution_count": null,
      "outputs": [
        {
          "output_type": "error",
          "ename": "ValueError",
          "evalue": "ignored",
          "traceback": [
            "\u001b[0;31m---------------------------------------------------------------------------\u001b[0m",
            "\u001b[0;31mValueError\u001b[0m                                Traceback (most recent call last)",
            "\u001b[0;32m<ipython-input-37-70ec0e9dc39e>\u001b[0m in \u001b[0;36m<cell line: 3>\u001b[0;34m()\u001b[0m\n\u001b[1;32m      1\u001b[0m \u001b[0mvector\u001b[0m \u001b[0;34m=\u001b[0m \u001b[0mnp\u001b[0m\u001b[0;34m.\u001b[0m\u001b[0marray\u001b[0m\u001b[0;34m(\u001b[0m\u001b[0;34m[\u001b[0m\u001b[0;36m1\u001b[0m\u001b[0;34m,\u001b[0m \u001b[0;36m2\u001b[0m\u001b[0;34m,\u001b[0m \u001b[0;36m3\u001b[0m\u001b[0;34m,\u001b[0m \u001b[0;36m4\u001b[0m\u001b[0;34m]\u001b[0m\u001b[0;34m)\u001b[0m\u001b[0;34m\u001b[0m\u001b[0;34m\u001b[0m\u001b[0m\n\u001b[1;32m      2\u001b[0m \u001b[0mmatrix\u001b[0m \u001b[0;34m=\u001b[0m \u001b[0mnp\u001b[0m\u001b[0;34m.\u001b[0m\u001b[0marray\u001b[0m\u001b[0;34m(\u001b[0m\u001b[0;34m[\u001b[0m\u001b[0;34m[\u001b[0m\u001b[0;36m1\u001b[0m\u001b[0;34m,\u001b[0m \u001b[0;36m2\u001b[0m\u001b[0;34m,\u001b[0m \u001b[0;36m3\u001b[0m\u001b[0;34m]\u001b[0m\u001b[0;34m,\u001b[0m \u001b[0;34m[\u001b[0m\u001b[0;36m4\u001b[0m\u001b[0;34m,\u001b[0m \u001b[0;36m5\u001b[0m\u001b[0;34m,\u001b[0m \u001b[0;36m6\u001b[0m\u001b[0;34m]\u001b[0m\u001b[0;34m,\u001b[0m \u001b[0;34m[\u001b[0m\u001b[0;36m7\u001b[0m\u001b[0;34m,\u001b[0m \u001b[0;36m8\u001b[0m\u001b[0;34m,\u001b[0m \u001b[0;36m9\u001b[0m\u001b[0;34m]\u001b[0m\u001b[0;34m,\u001b[0m \u001b[0;34m[\u001b[0m\u001b[0;36m10\u001b[0m\u001b[0;34m,\u001b[0m \u001b[0;36m11\u001b[0m\u001b[0;34m,\u001b[0m \u001b[0;36m12\u001b[0m\u001b[0;34m]\u001b[0m\u001b[0;34m]\u001b[0m\u001b[0;34m)\u001b[0m\u001b[0;34m\u001b[0m\u001b[0;34m\u001b[0m\u001b[0m\n\u001b[0;32m----> 3\u001b[0;31m \u001b[0mvector\u001b[0m \u001b[0;34m-\u001b[0m \u001b[0mmatrix\u001b[0m\u001b[0;34m\u001b[0m\u001b[0;34m\u001b[0m\u001b[0m\n\u001b[0m",
            "\u001b[0;31mValueError\u001b[0m: operands could not be broadcast together with shapes (4,) (4,3) "
          ]
        }
      ]
    },
    {
      "cell_type": "markdown",
      "source": [
        "## Как работает broadcasing?"
      ],
      "metadata": {
        "id": "xUQ09fIp5vpQ"
      }
    },
    {
      "cell_type": "markdown",
      "source": [
        "Broadcasting работает с формами двух массивов:"
      ],
      "metadata": {
        "id": "BQCev1WyM5m2"
      }
    },
    {
      "cell_type": "code",
      "source": [
        "vector.shape"
      ],
      "metadata": {
        "colab": {
          "base_uri": "https://localhost:8080/"
        },
        "id": "tekT3ZqfNBR6",
        "outputId": "f0cdcf9c-7826-4978-e5bc-50d2574abc1f"
      },
      "execution_count": null,
      "outputs": [
        {
          "output_type": "execute_result",
          "data": {
            "text/plain": [
              "(3,)"
            ]
          },
          "metadata": {},
          "execution_count": 40
        }
      ]
    },
    {
      "cell_type": "code",
      "source": [
        "matrix.shape"
      ],
      "metadata": {
        "colab": {
          "base_uri": "https://localhost:8080/"
        },
        "id": "XZvYwqYoNDNY",
        "outputId": "34dd8d1e-e180-4daa-9bd6-60a7ed08c4f8"
      },
      "execution_count": null,
      "outputs": [
        {
          "output_type": "execute_result",
          "data": {
            "text/plain": [
              "(4, 3)"
            ]
          },
          "metadata": {},
          "execution_count": 41
        }
      ]
    },
    {
      "cell_type": "markdown",
      "source": [
        "Их формы представляются следующим образом:\n",
        "\n",
        "```\n",
        "matrix  (2d array): 4 x 3\n",
        "vector  (1d array):     3\n",
        "```\n",
        "\n",
        "Первым делом их формы выравниваются с помощью добавления осей-пустышек:\n",
        "\n",
        "```\n",
        "matrix  (2d array): 4 x 3\n",
        "vector  (1d array): 1 x 3\n",
        "```"
      ],
      "metadata": {
        "id": "d2l7WB9VNS24"
      }
    },
    {
      "cell_type": "markdown",
      "source": [
        "Затем мы проходим справа налево и сравниваем количества элементов в двух массивах:\n",
        "\n",
        "1. Если они одинаковые, то это же количество будет и в результирующем векторе\n",
        "2. Если один из них равен 1, то другое значение будет в результирующем векторе (растянем по этой оси)\n",
        "3. Если не равны и ни один из них не равен 1, broadcasting не сработает\n",
        "\n",
        "Для нашего примера получим следующее:\n",
        "\n",
        "```\n",
        "matrix  (2d array): 4 x 3\n",
        "vector  (1d array): 1 x 3\n",
        "result  (2d array): 4 x 3\n",
        "```"
      ],
      "metadata": {
        "id": "te2PNzRvN6vi"
      }
    },
    {
      "cell_type": "code",
      "metadata": {
        "id": "6kFE8ieLhC2C",
        "colab": {
          "base_uri": "https://localhost:8080/"
        },
        "outputId": "4ee46005-b651-4d54-e17e-099d41938778"
      },
      "source": [
        "# без broadcasting\n",
        "x = np.array([[1, 2, 3], [4, 5, 6], [7, 8, 9], [10, 11, 12]])\n",
        "v = np.array([3, 4, 5])\n",
        "# empty like создает пустую матрицу такого же размера как x\n",
        "y = np.zeros_like(x) # создаем пустую структуру, в нее мы будем складывать ответ\n",
        "# zeros_like\n",
        "# ones_like\n",
        "\n",
        "print(x)\n",
        "print(v)\n",
        "\n",
        "for i in range(4):\n",
        "    y[i, :] = x[i, :] + v\n",
        "\n",
        "print(y)"
      ],
      "execution_count": null,
      "outputs": [
        {
          "output_type": "stream",
          "name": "stdout",
          "text": [
            "[[ 1  2  3]\n",
            " [ 4  5  6]\n",
            " [ 7  8  9]\n",
            " [10 11 12]]\n",
            "[3 4 5]\n",
            "[[ 4  6  8]\n",
            " [ 7  9 11]\n",
            " [10 12 14]\n",
            " [13 15 17]]\n"
          ]
        }
      ]
    },
    {
      "cell_type": "markdown",
      "metadata": {
        "id": "htiw2Mf4Tvbz"
      },
      "source": [
        "# Операции с матрицами и векторами"
      ]
    },
    {
      "cell_type": "markdown",
      "metadata": {
        "id": "2nyPZWkMTvbz"
      },
      "source": [
        "В NumPy двумерный массив можно рассматривать и как матрицу, то есть для него определены все матричные операции. Одномерный массив также можно рассматривать как вектор."
      ]
    },
    {
      "cell_type": "markdown",
      "metadata": {
        "id": "PVQiG6OfTvbz"
      },
      "source": [
        "**Транспонирование**"
      ]
    },
    {
      "cell_type": "markdown",
      "metadata": {
        "id": "Ae8WPQQJTvb0"
      },
      "source": [
        "Транспонированной матрицей $A^{T}$ называется матрица, полученная из исходной матрицы $A$ путем замены строк на столбцы."
      ]
    },
    {
      "cell_type": "code",
      "metadata": {
        "colab": {
          "base_uri": "https://localhost:8080/"
        },
        "id": "UiupbJ8xTvb0",
        "outputId": "80389b41-c152-4116-c240-6a8f85774221"
      },
      "source": [
        "m = np.array([[1, 12, 3, 4],\n",
        "              [3, 2, 10, 2],\n",
        "              [3, 56, 6, 11]])\n",
        "print(m)\n",
        "print()\n",
        "print(m.T)"
      ],
      "execution_count": null,
      "outputs": [
        {
          "output_type": "stream",
          "name": "stdout",
          "text": [
            "[[ 1 12  3  4]\n",
            " [ 3  2 10  2]\n",
            " [ 3 56  6 11]]\n",
            "\n",
            "[[ 1  3  3]\n",
            " [12  2 56]\n",
            " [ 3 10  6]\n",
            " [ 4  2 11]]\n"
          ]
        }
      ]
    },
    {
      "cell_type": "markdown",
      "metadata": {
        "id": "5xFICzJ5Tvb0"
      },
      "source": [
        "**Скалярное произведение векторов**"
      ]
    },
    {
      "cell_type": "markdown",
      "metadata": {
        "collapsed": true,
        "id": "tZ15kMMgTvb0"
      },
      "source": [
        "Рассмотрим два вектора $a$ и $b$ в n-мерном пространстве  \n",
        "$a = (a_1, a_2, a_3, \\dots a_n)$   \n",
        "$b = (b_1, b_2, b_3, \\dots b_n)$   \n",
        "Скалярное произведение векторов $a$ и $b$ определяется следующим образом:  \n",
        "$$\\langle a, b \\rangle = a_1 b_1 + a_2 b_2 + a_3 b_3 \\dots + a_n b_n = \\sum_{i = 1}^{n} a_i b_i$$"
      ]
    },
    {
      "cell_type": "code",
      "metadata": {
        "colab": {
          "base_uri": "https://localhost:8080/"
        },
        "id": "qGgYjq2kTvb1",
        "outputId": "07d93311-0e35-4a38-e954-be70f990a20a"
      },
      "source": [
        "a = np.array([3, 1, 5, 2])\n",
        "b = np.array([2, 5, 2, 4])\n",
        "# <a, b> = 3*2 + 1*5 + 5*2 + 2*4\n",
        "print(a @ b)    # python 3 style\n",
        "print(a.dot(b))\n",
        "print(np.dot(a, b))"
      ],
      "execution_count": null,
      "outputs": [
        {
          "output_type": "stream",
          "name": "stdout",
          "text": [
            "29\n",
            "29\n",
            "29\n"
          ]
        }
      ]
    },
    {
      "cell_type": "code",
      "metadata": {
        "colab": {
          "base_uri": "https://localhost:8080/"
        },
        "id": "s7GBa9sxX4fi",
        "outputId": "feebc003-b8b1-4538-b83d-22237dc7778a"
      },
      "source": [
        "a"
      ],
      "execution_count": null,
      "outputs": [
        {
          "output_type": "execute_result",
          "data": {
            "text/plain": [
              "array([3, 1, 5, 2])"
            ]
          },
          "metadata": {},
          "execution_count": 312
        }
      ]
    },
    {
      "cell_type": "markdown",
      "source": [
        "**Векторное произведение** - функция `np.cross`:"
      ],
      "metadata": {
        "id": "PNh7CxnZjROa"
      }
    },
    {
      "cell_type": "code",
      "source": [
        "x = [1, 2, 3]\n",
        "y = [4, 5, 6]\n",
        "np.cross(x, y)"
      ],
      "metadata": {
        "colab": {
          "base_uri": "https://localhost:8080/"
        },
        "id": "YpM1rWQzjVmI",
        "outputId": "c8c7dcaa-460b-4544-a336-4a0ec0752d0c"
      },
      "execution_count": null,
      "outputs": [
        {
          "output_type": "execute_result",
          "data": {
            "text/plain": [
              "array([-3,  6, -3])"
            ]
          },
          "metadata": {},
          "execution_count": 124
        }
      ]
    },
    {
      "cell_type": "markdown",
      "source": [
        "![cross_prod](https://upload.wikimedia.org/wikipedia/commons/thumb/b/b0/Cross_product_vector.svg/500px-Cross_product_vector.svg.png)"
      ],
      "metadata": {
        "id": "kd9bSmHHjh_n"
      }
    },
    {
      "cell_type": "markdown",
      "metadata": {
        "id": "ojOJ8v_5Tvb1"
      },
      "source": [
        "**Умножение матриц**  \n",
        "  \n",
        "Операция умножения определена для двух матриц, таких что число столбцов первой равно числу строк второй.\n",
        "\n",
        "Пусть матрицы $A$ и $B$ таковы, что $A \\in \\mathbb{R}^{n \\times k}$ и $B \\in \\mathbb{R}^{k \\times m}$.    \n",
        "__Произведением__ матриц $A$ и $B$ называется матрица $C$, такая что\n",
        "$$c_{ij} = \\sum_{r=1}^{k} a_{ir}b_{rj}$$,\n",
        "где  $c_{ij}$ — элемент матрицы $C$, стоящий на пересечении строки с номером $i$ и столбца с номером $j$."
      ]
    },
    {
      "cell_type": "code",
      "metadata": {
        "colab": {
          "base_uri": "https://localhost:8080/"
        },
        "id": "DQ0JcGlqTvb2",
        "outputId": "97cb4700-0aae-4721-ac56-84b2e405dd19"
      },
      "source": [
        "a = np.array([[1, 2], [0, 1]])\n",
        "b = np.array([[4, 1], [2, 2]])\n",
        "print(a @ b)    # python 3 style\n",
        "print(a.dot(b))\n",
        "print(np.dot(a, b))"
      ],
      "execution_count": null,
      "outputs": [
        {
          "output_type": "stream",
          "name": "stdout",
          "text": [
            "[[8 5]\n",
            " [2 2]]\n",
            "[[8 5]\n",
            " [2 2]]\n",
            "[[8 5]\n",
            " [2 2]]\n"
          ]
        }
      ]
    },
    {
      "cell_type": "markdown",
      "metadata": {
        "id": "q8qbSx1bTvb2"
      },
      "source": [
        "Также доступно *ПОЭЛЕМЕНТНОЕ* умножение, не путать с матричным!"
      ]
    },
    {
      "cell_type": "code",
      "metadata": {
        "colab": {
          "base_uri": "https://localhost:8080/"
        },
        "id": "8jL31NmyTvb3",
        "outputId": "fceef51e-b2b3-4cd3-acbe-af8a3c8c0194"
      },
      "source": [
        "print(a * b)"
      ],
      "execution_count": null,
      "outputs": [
        {
          "output_type": "stream",
          "name": "stdout",
          "text": [
            "[[4 2]\n",
            " [0 2]]\n"
          ]
        }
      ]
    },
    {
      "cell_type": "code",
      "metadata": {
        "colab": {
          "base_uri": "https://localhost:8080/",
          "height": 170
        },
        "id": "Fe741CM9jBN7",
        "outputId": "968ddcbc-1b44-4d76-fe3f-ffb1e469be0b"
      },
      "source": [
        "[0, 1] @ [0, 1]"
      ],
      "execution_count": null,
      "outputs": [
        {
          "output_type": "error",
          "ename": "TypeError",
          "evalue": "ignored",
          "traceback": [
            "\u001b[0;31m---------------------------------------------------------------------------\u001b[0m",
            "\u001b[0;31mTypeError\u001b[0m                                 Traceback (most recent call last)",
            "\u001b[0;32m<ipython-input-117-fe66f206e46f>\u001b[0m in \u001b[0;36m<module>\u001b[0;34m\u001b[0m\n\u001b[0;32m----> 1\u001b[0;31m \u001b[0;34m[\u001b[0m\u001b[0;36m0\u001b[0m\u001b[0;34m,\u001b[0m \u001b[0;36m1\u001b[0m\u001b[0;34m]\u001b[0m \u001b[0;34m@\u001b[0m \u001b[0;34m[\u001b[0m\u001b[0;36m0\u001b[0m\u001b[0;34m,\u001b[0m \u001b[0;36m1\u001b[0m\u001b[0;34m]\u001b[0m\u001b[0;34m\u001b[0m\u001b[0;34m\u001b[0m\u001b[0m\n\u001b[0m",
            "\u001b[0;31mTypeError\u001b[0m: unsupported operand type(s) for @: 'list' and 'list'"
          ]
        }
      ]
    },
    {
      "cell_type": "markdown",
      "metadata": {
        "id": "PZfiErYHTvb3"
      },
      "source": [
        "**Умножение матриц и векторов**"
      ]
    },
    {
      "cell_type": "code",
      "source": [
        "m = np.array([[1, 2], [0, 1], [2, 4]])\n",
        "m"
      ],
      "metadata": {
        "colab": {
          "base_uri": "https://localhost:8080/"
        },
        "id": "xKziOERsAgCb",
        "outputId": "984aa57c-76b2-4da0-d296-51455f3c3f05"
      },
      "execution_count": null,
      "outputs": [
        {
          "output_type": "execute_result",
          "data": {
            "text/plain": [
              "array([[1, 2],\n",
              "       [0, 1],\n",
              "       [2, 4]])"
            ]
          },
          "metadata": {},
          "execution_count": 51
        }
      ]
    },
    {
      "cell_type": "code",
      "metadata": {
        "colab": {
          "base_uri": "https://localhost:8080/"
        },
        "id": "dI_S5nBlTvb3",
        "outputId": "e5ae195e-c819-40bc-e06a-747d224b3f4f"
      },
      "source": [
        "v = np.array([2, 5])\n",
        "v"
      ],
      "execution_count": null,
      "outputs": [
        {
          "output_type": "execute_result",
          "data": {
            "text/plain": [
              "array([2, 5])"
            ]
          },
          "metadata": {},
          "execution_count": 119
        }
      ]
    },
    {
      "cell_type": "code",
      "metadata": {
        "colab": {
          "base_uri": "https://localhost:8080/"
        },
        "id": "CZpGDFOuTvb3",
        "outputId": "01b90ced-f4fd-49a3-bb05-b876128b15b1"
      },
      "source": [
        "m @ v"
      ],
      "execution_count": null,
      "outputs": [
        {
          "output_type": "execute_result",
          "data": {
            "text/plain": [
              "array([12,  5, 24])"
            ]
          },
          "metadata": {},
          "execution_count": 120
        }
      ]
    },
    {
      "cell_type": "code",
      "source": [
        "m = np.array([[1, 2, 1, 1], [0, 1, 1, 1], [2, 4, 1, 1]])\n",
        "m"
      ],
      "metadata": {
        "colab": {
          "base_uri": "https://localhost:8080/"
        },
        "id": "FO41nMh_A1o6",
        "outputId": "666df043-29b2-4c50-f9b7-61c7d0bc93a4"
      },
      "execution_count": null,
      "outputs": [
        {
          "output_type": "execute_result",
          "data": {
            "text/plain": [
              "array([[1, 2, 1, 1],\n",
              "       [0, 1, 1, 1],\n",
              "       [2, 4, 1, 1]])"
            ]
          },
          "metadata": {},
          "execution_count": 121
        }
      ]
    },
    {
      "cell_type": "code",
      "metadata": {
        "colab": {
          "base_uri": "https://localhost:8080/"
        },
        "id": "H77YaNxeY8cQ",
        "outputId": "a6a7598b-a2e6-4e1d-de91-557b9343c90c"
      },
      "source": [
        "v = np.array([2, 5])\n",
        "v"
      ],
      "execution_count": null,
      "outputs": [
        {
          "output_type": "execute_result",
          "data": {
            "text/plain": [
              "array([2, 5])"
            ]
          },
          "metadata": {},
          "execution_count": 122
        }
      ]
    },
    {
      "cell_type": "code",
      "source": [
        "m @ v"
      ],
      "metadata": {
        "colab": {
          "base_uri": "https://localhost:8080/",
          "height": 170
        },
        "id": "9v49uHM_A6B5",
        "outputId": "1e39582b-d48f-45ca-b1cf-0f04fe047dd5"
      },
      "execution_count": null,
      "outputs": [
        {
          "output_type": "error",
          "ename": "ValueError",
          "evalue": "ignored",
          "traceback": [
            "\u001b[0;31m---------------------------------------------------------------------------\u001b[0m",
            "\u001b[0;31mValueError\u001b[0m                                Traceback (most recent call last)",
            "\u001b[0;32m<ipython-input-123-9ed2cbfa6e3d>\u001b[0m in \u001b[0;36m<module>\u001b[0;34m\u001b[0m\n\u001b[0;32m----> 1\u001b[0;31m \u001b[0mm\u001b[0m \u001b[0;34m@\u001b[0m \u001b[0mv\u001b[0m\u001b[0;34m\u001b[0m\u001b[0;34m\u001b[0m\u001b[0m\n\u001b[0m",
            "\u001b[0;31mValueError\u001b[0m: matmul: Input operand 1 has a mismatch in its core dimension 0, with gufunc signature (n?,k),(k,m?)->(n?,m?) (size 2 is different from 4)"
          ]
        }
      ]
    },
    {
      "cell_type": "markdown",
      "metadata": {
        "id": "t3Qza82ATvbS"
      },
      "source": [
        "# Математические функции"
      ]
    },
    {
      "cell_type": "markdown",
      "source": [
        "NumPy используется для анализа данных, а анализ невозможен без математических функций. Поэтому в NumPy присутствует набор основных математических функций."
      ],
      "metadata": {
        "id": "nAvRlYL2hLYd"
      }
    },
    {
      "cell_type": "markdown",
      "source": [
        "Вспомним, какие математические функции есть в обычном Python:"
      ],
      "metadata": {
        "id": "XjdE3PMfh1g9"
      }
    },
    {
      "cell_type": "code",
      "metadata": {
        "id": "Hbfkcf9u-x0r",
        "colab": {
          "base_uri": "https://localhost:8080/"
        },
        "outputId": "1a1170f2-b375-4ec6-b13e-4926d608a044"
      },
      "source": [
        "import math\n",
        "print(*dir(math))"
      ],
      "execution_count": null,
      "outputs": [
        {
          "output_type": "stream",
          "name": "stdout",
          "text": [
            "__doc__ __loader__ __name__ __package__ __spec__ acos acosh asin asinh atan atan2 atanh ceil comb copysign cos cosh degrees dist e erf erfc exp expm1 fabs factorial floor fmod frexp fsum gamma gcd hypot inf isclose isfinite isinf isnan isqrt lcm ldexp lgamma log log10 log1p log2 modf nan nextafter perm pi pow prod radians remainder sin sinh sqrt tan tanh tau trunc ulp\n"
          ]
        }
      ]
    },
    {
      "cell_type": "markdown",
      "metadata": {
        "id": "LrEDyq-TTvbT"
      },
      "source": [
        "- `np.log(x)` - натуральный логарифм x\n",
        "- `np.log10(x)` - десятичный логарифм x\n",
        "- `np.log2(x)`\n",
        "- `np.sqrt(x)` - квадратный корень из x\n",
        "- `np.power(x, n)` - возведение x в степень n\n",
        "- `np.abs(x)` - модуль x\n",
        "- `np.round(x, n)` - математическое округление x\n",
        "- `np.floor(x)` - округление вниз\n",
        "- `np.ceil(x)` - округление вверх\n",
        "- `np.int(x)` - округление к нулю\n",
        "- `np.sin(x)` - синус\n",
        "- `np.cos(x)` - косинус\n",
        "- ... и т. д.."
      ]
    },
    {
      "cell_type": "markdown",
      "metadata": {
        "id": "S3VXJ4eSTvbU"
      },
      "source": [
        "Рассмотрим примеры таких функций:"
      ]
    },
    {
      "cell_type": "code",
      "source": [
        "math.log(10)"
      ],
      "metadata": {
        "colab": {
          "base_uri": "https://localhost:8080/"
        },
        "id": "79IqegVNk1s_",
        "outputId": "09ee7613-2c78-466d-df46-c09ddd46afb3"
      },
      "execution_count": null,
      "outputs": [
        {
          "output_type": "execute_result",
          "data": {
            "text/plain": [
              "2.302585092994046"
            ]
          },
          "metadata": {},
          "execution_count": 53
        }
      ]
    },
    {
      "cell_type": "code",
      "metadata": {
        "id": "3GeASL_nTvbV",
        "colab": {
          "base_uri": "https://localhost:8080/"
        },
        "outputId": "23d8bc4b-de6a-410b-8dbb-3b8c8c5ee1e6"
      },
      "source": [
        "np.log(10, dtype=np.float64)"
      ],
      "execution_count": null,
      "outputs": [
        {
          "output_type": "execute_result",
          "data": {
            "text/plain": [
              "2.302585092994046"
            ]
          },
          "metadata": {},
          "execution_count": 129
        }
      ]
    },
    {
      "cell_type": "code",
      "metadata": {
        "id": "HfUobTqCTvbW",
        "colab": {
          "base_uri": "https://localhost:8080/"
        },
        "outputId": "27ede200-2090-4958-9434-409db0300656"
      },
      "source": [
        "np.log(0.0)"
      ],
      "execution_count": null,
      "outputs": [
        {
          "output_type": "stream",
          "name": "stderr",
          "text": [
            "<ipython-input-54-64f908b93ed3>:1: RuntimeWarning: divide by zero encountered in log\n",
            "  np.log(0.0)\n"
          ]
        },
        {
          "output_type": "execute_result",
          "data": {
            "text/plain": [
              "-inf"
            ]
          },
          "metadata": {},
          "execution_count": 54
        }
      ]
    },
    {
      "cell_type": "code",
      "metadata": {
        "id": "it5SbUkxTvbW",
        "colab": {
          "base_uri": "https://localhost:8080/"
        },
        "outputId": "fb68e57d-b34c-453d-9eb0-dbdcfdb61102"
      },
      "source": [
        "np.log10(10)"
      ],
      "execution_count": null,
      "outputs": [
        {
          "output_type": "execute_result",
          "data": {
            "text/plain": [
              "1.0"
            ]
          },
          "metadata": {},
          "execution_count": 55
        }
      ]
    },
    {
      "cell_type": "code",
      "source": [
        "np.log10(100)"
      ],
      "metadata": {
        "colab": {
          "base_uri": "https://localhost:8080/"
        },
        "id": "N0152LR7i8tS",
        "outputId": "67083948-651a-40d4-865e-63ea14787c4c"
      },
      "execution_count": null,
      "outputs": [
        {
          "output_type": "execute_result",
          "data": {
            "text/plain": [
              "2.0"
            ]
          },
          "metadata": {},
          "execution_count": 56
        }
      ]
    },
    {
      "cell_type": "code",
      "metadata": {
        "id": "4KFscjsuTvbX",
        "colab": {
          "base_uri": "https://localhost:8080/"
        },
        "outputId": "24630847-9c40-4b71-84f0-87298c9773b4"
      },
      "source": [
        "np.round(4.5), np.floor(4.5), np.ceil(4.5)"
      ],
      "execution_count": null,
      "outputs": [
        {
          "output_type": "execute_result",
          "data": {
            "text/plain": [
              "(4.0, 4.0, 5.0)"
            ]
          },
          "metadata": {},
          "execution_count": 57
        }
      ]
    },
    {
      "cell_type": "code",
      "metadata": {
        "colab": {
          "base_uri": "https://localhost:8080/"
        },
        "id": "DzYf6KRtAH5a",
        "outputId": "54a7ded3-8d73-47d9-d304-e09899e5d4bc"
      },
      "source": [
        "np.round(3.5), np.floor(3.5), np.ceil(3.5)"
      ],
      "execution_count": null,
      "outputs": [
        {
          "output_type": "execute_result",
          "data": {
            "text/plain": [
              "(4.0, 3.0, 4.0)"
            ]
          },
          "metadata": {},
          "execution_count": 58
        }
      ]
    },
    {
      "cell_type": "code",
      "metadata": {
        "id": "1mtNuCOaTvbX",
        "colab": {
          "base_uri": "https://localhost:8080/"
        },
        "outputId": "8995a850-6007-4d7c-b9eb-cc22de078bf7"
      },
      "source": [
        "np.round(-4.5), np.floor(-4.5), np.ceil(-4.5)"
      ],
      "execution_count": null,
      "outputs": [
        {
          "output_type": "execute_result",
          "data": {
            "text/plain": [
              "(-4.0, -5.0, -4.0)"
            ]
          },
          "metadata": {},
          "execution_count": 59
        }
      ]
    },
    {
      "cell_type": "code",
      "metadata": {
        "colab": {
          "base_uri": "https://localhost:8080/"
        },
        "id": "an6CtRAyAY2M",
        "outputId": "7feea7c2-49d8-4f20-c252-8dae54fefc9f"
      },
      "source": [
        "np.power(2, 3)"
      ],
      "execution_count": null,
      "outputs": [
        {
          "output_type": "execute_result",
          "data": {
            "text/plain": [
              "8"
            ]
          },
          "metadata": {},
          "execution_count": 60
        }
      ]
    },
    {
      "cell_type": "code",
      "metadata": {
        "id": "DM3BuJKxTvbY",
        "colab": {
          "base_uri": "https://localhost:8080/"
        },
        "outputId": "eb1af69e-5dcb-4395-81b1-48483e1d0326"
      },
      "source": [
        "# переполнение!\n",
        "np.power(2, 1000), type(np.power(2, 1000))"
      ],
      "execution_count": null,
      "outputs": [
        {
          "output_type": "execute_result",
          "data": {
            "text/plain": [
              "(0, numpy.int64)"
            ]
          },
          "metadata": {},
          "execution_count": 61
        }
      ]
    },
    {
      "cell_type": "markdown",
      "metadata": {
        "id": "uBRgVtzQTvbY"
      },
      "source": [
        "То же самое, но с помощью Python-типа int"
      ]
    },
    {
      "cell_type": "code",
      "metadata": {
        "id": "ArbovcFUTvbY",
        "colab": {
          "base_uri": "https://localhost:8080/"
        },
        "outputId": "6b4c22b7-6c7f-4a36-b4db-19105c9ab1e7"
      },
      "source": [
        "2 ** 1000, type(2 ** 1000) # питоновское возведение в степень"
      ],
      "execution_count": null,
      "outputs": [
        {
          "output_type": "execute_result",
          "data": {
            "text/plain": [
              "(10715086071862673209484250490600018105614048117055336074437503883703510511249361224931983788156958581275946729175531468251871452856923140435984577574698574803934567774824230985421074605062371141877954182153046474983581941267398767559165543946077062914571196477686542167660429831652624386837205668069376,\n",
              " int)"
            ]
          },
          "metadata": {},
          "execution_count": 138
        }
      ]
    },
    {
      "cell_type": "code",
      "metadata": {
        "id": "3rCXRrX2TvbZ",
        "colab": {
          "base_uri": "https://localhost:8080/"
        },
        "outputId": "2afcfe3d-41e8-484a-f16f-76db645ab9c0"
      },
      "source": [
        "np.cos(np.pi)"
      ],
      "execution_count": null,
      "outputs": [
        {
          "output_type": "execute_result",
          "data": {
            "text/plain": [
              "-1.0"
            ]
          },
          "metadata": {},
          "execution_count": 62
        }
      ]
    },
    {
      "cell_type": "code",
      "metadata": {
        "id": "E9qP9JB0Tvba",
        "colab": {
          "base_uri": "https://localhost:8080/"
        },
        "outputId": "c7498cb7-941a-4e96-c30c-24f264ac43e9"
      },
      "source": [
        "np.e"
      ],
      "execution_count": null,
      "outputs": [
        {
          "output_type": "execute_result",
          "data": {
            "text/plain": [
              "2.718281828459045"
            ]
          },
          "metadata": {},
          "execution_count": 63
        }
      ]
    },
    {
      "cell_type": "markdown",
      "metadata": {
        "id": "JUspURHSTvb4"
      },
      "source": [
        "Все функции описанные в предыдущем разделе можно применять к массивам!"
      ]
    },
    {
      "cell_type": "code",
      "metadata": {
        "colab": {
          "base_uri": "https://localhost:8080/"
        },
        "id": "KhDJBZnLjd_I",
        "outputId": "0e91737f-f23a-48ab-bcae-d17089932390"
      },
      "source": [
        "b = np.array([[1, 2], [10, 100]])\n",
        "b"
      ],
      "execution_count": null,
      "outputs": [
        {
          "output_type": "execute_result",
          "data": {
            "text/plain": [
              "array([[  1,   2],\n",
              "       [ 10, 100]])"
            ]
          },
          "metadata": {},
          "execution_count": 64
        }
      ]
    },
    {
      "cell_type": "code",
      "metadata": {
        "colab": {
          "base_uri": "https://localhost:8080/"
        },
        "id": "_xV3iCn2Tvb4",
        "outputId": "f8c8f235-aab1-4030-bd03-4b1786f2ff69"
      },
      "source": [
        "np.log10(b)"
      ],
      "execution_count": null,
      "outputs": [
        {
          "output_type": "execute_result",
          "data": {
            "text/plain": [
              "array([[0.     , 0.30103],\n",
              "       [1.     , 2.     ]])"
            ]
          },
          "metadata": {},
          "execution_count": 144
        }
      ]
    },
    {
      "cell_type": "code",
      "metadata": {
        "colab": {
          "base_uri": "https://localhost:8080/"
        },
        "id": "py8DwT8D1al7",
        "outputId": "70b4cf0c-80cf-412a-f74b-c3f27aa01b26"
      },
      "source": [
        "np.log(b).shape == b.shape"
      ],
      "execution_count": null,
      "outputs": [
        {
          "output_type": "execute_result",
          "data": {
            "text/plain": [
              "True"
            ]
          },
          "metadata": {},
          "execution_count": 176
        }
      ]
    },
    {
      "cell_type": "code",
      "metadata": {
        "colab": {
          "base_uri": "https://localhost:8080/"
        },
        "id": "iJ95wGN_Tvb5",
        "outputId": "0b9f6cd1-9782-46fa-ae03-11e3de179ef9"
      },
      "source": [
        "np.sin(b)"
      ],
      "execution_count": null,
      "outputs": [
        {
          "output_type": "execute_result",
          "data": {
            "text/plain": [
              "array([[ 0.84147098,  0.90929743],\n",
              "       [-0.54402111, -0.50636564]])"
            ]
          },
          "metadata": {},
          "execution_count": 145
        }
      ]
    },
    {
      "cell_type": "code",
      "source": [
        "math.sin([1, 2])"
      ],
      "metadata": {
        "colab": {
          "base_uri": "https://localhost:8080/",
          "height": 170
        },
        "id": "DMTa1StSL5jg",
        "outputId": "6381ccc2-b202-4d8d-f385-0a0d6d3e189d"
      },
      "execution_count": null,
      "outputs": [
        {
          "output_type": "error",
          "ename": "TypeError",
          "evalue": "ignored",
          "traceback": [
            "\u001b[0;31m---------------------------------------------------------------------------\u001b[0m",
            "\u001b[0;31mTypeError\u001b[0m                                 Traceback (most recent call last)",
            "\u001b[0;32m<ipython-input-146-9ccc75f2eb55>\u001b[0m in \u001b[0;36m<module>\u001b[0;34m\u001b[0m\n\u001b[0;32m----> 1\u001b[0;31m \u001b[0mmath\u001b[0m\u001b[0;34m.\u001b[0m\u001b[0msin\u001b[0m\u001b[0;34m(\u001b[0m\u001b[0;34m[\u001b[0m\u001b[0;36m1\u001b[0m\u001b[0;34m,\u001b[0m\u001b[0;36m2\u001b[0m\u001b[0;34m]\u001b[0m\u001b[0;34m)\u001b[0m\u001b[0;34m\u001b[0m\u001b[0;34m\u001b[0m\u001b[0m\n\u001b[0m",
            "\u001b[0;31mTypeError\u001b[0m: must be real number, not list"
          ]
        }
      ]
    },
    {
      "cell_type": "markdown",
      "source": [
        "+ numba"
      ],
      "metadata": {
        "id": "hrEdnS7djzuT"
      }
    },
    {
      "cell_type": "markdown",
      "metadata": {
        "id": "aZS5hsZKTvb4"
      },
      "source": [
        "# Extra. Полезные функции и методы"
      ]
    },
    {
      "cell_type": "code",
      "source": [
        "a = np.random.choice(a=np.linspace(1, 50, 50) + 100, size=10, replace=False)\n",
        "b = np.random.choice(a=np.linspace(1, 50, 50) + 100, size=10, replace=False)"
      ],
      "metadata": {
        "id": "3PiakQ4ggR9v"
      },
      "execution_count": null,
      "outputs": []
    },
    {
      "cell_type": "code",
      "source": [
        "a"
      ],
      "metadata": {
        "colab": {
          "base_uri": "https://localhost:8080/"
        },
        "outputId": "c0c8aa9b-8ad0-4796-a930-d1c4b4ea83ef",
        "id": "oQX3z6AAaOEL"
      },
      "execution_count": null,
      "outputs": [
        {
          "output_type": "execute_result",
          "data": {
            "text/plain": [
              "array([123., 134., 104., 143., 116., 121., 136., 126., 140., 118.])"
            ]
          },
          "metadata": {},
          "execution_count": 153
        }
      ]
    },
    {
      "cell_type": "code",
      "source": [
        "b"
      ],
      "metadata": {
        "colab": {
          "base_uri": "https://localhost:8080/"
        },
        "outputId": "bb9884c8-f9b6-4063-eb7d-d977e38cf0cf",
        "id": "ev_s5HcwaOEL"
      },
      "execution_count": null,
      "outputs": [
        {
          "output_type": "execute_result",
          "data": {
            "text/plain": [
              "array([131., 135., 140., 123., 112., 143., 114., 113., 110., 150.])"
            ]
          },
          "metadata": {},
          "execution_count": 154
        }
      ]
    },
    {
      "cell_type": "markdown",
      "metadata": {
        "id": "UKsBN8R_Tvb5"
      },
      "source": [
        "## Замена элементов по индексу"
      ]
    },
    {
      "cell_type": "code",
      "metadata": {
        "colab": {
          "base_uri": "https://localhost:8080/"
        },
        "id": "HIhN_OzNTvb6",
        "outputId": "8d4fab3f-5e97-43ea-c628-9f32d16d19d0"
      },
      "source": [
        "np.put(a, ind=[0, 2], v=[-44, -55, -66, -88])\n",
        "a"
      ],
      "execution_count": null,
      "outputs": [
        {
          "output_type": "execute_result",
          "data": {
            "text/plain": [
              "array([-44., 134., -55., 143., 116., 121., 136., 126., 140., 118.])"
            ]
          },
          "metadata": {},
          "execution_count": 156
        }
      ]
    },
    {
      "cell_type": "markdown",
      "metadata": {
        "id": "Q8tW2ELRTvb6"
      },
      "source": [
        "## Выделение элементов по условию (булева маска)"
      ]
    },
    {
      "cell_type": "code",
      "source": [
        "a < 0"
      ],
      "metadata": {
        "colab": {
          "base_uri": "https://localhost:8080/"
        },
        "id": "kxXUlT4aMfuV",
        "outputId": "1c10ac7c-b8f8-4d81-99c5-b5f886122348"
      },
      "execution_count": null,
      "outputs": [
        {
          "output_type": "execute_result",
          "data": {
            "text/plain": [
              "array([ True, False,  True, False, False, False, False, False, False,\n",
              "       False])"
            ]
          },
          "metadata": {},
          "execution_count": 167
        }
      ]
    },
    {
      "cell_type": "code",
      "metadata": {
        "colab": {
          "base_uri": "https://localhost:8080/"
        },
        "id": "PsMyIrzV23jb",
        "outputId": "40fdb253-03bb-4f4d-8b90-df0b258b6bb4"
      },
      "source": [
        "(a < 0) | (b > 110) | (b < -110)  # | == or"
      ],
      "execution_count": null,
      "outputs": [
        {
          "output_type": "execute_result",
          "data": {
            "text/plain": [
              "array([ True,  True,  True,  True, False,  True,  True,  True,  True,\n",
              "        True])"
            ]
          },
          "metadata": {},
          "execution_count": 171
        }
      ]
    },
    {
      "cell_type": "code",
      "source": [
        "(a < 0) & (b > 110)"
      ],
      "metadata": {
        "colab": {
          "base_uri": "https://localhost:8080/"
        },
        "id": "O4ZKcqQJOeyv",
        "outputId": "963a84f5-7194-4da2-ab65-f9c7190486ab"
      },
      "execution_count": null,
      "outputs": [
        {
          "output_type": "execute_result",
          "data": {
            "text/plain": [
              "array([ True, False,  True, False, False, False, False, False, False,\n",
              "       False])"
            ]
          },
          "metadata": {},
          "execution_count": 170
        }
      ]
    },
    {
      "cell_type": "code",
      "source": [
        "~(a < 0)"
      ],
      "metadata": {
        "colab": {
          "base_uri": "https://localhost:8080/"
        },
        "id": "5HAwjRY-OruU",
        "outputId": "fd82abf9-467f-405c-9deb-fbc5f829c53a"
      },
      "execution_count": null,
      "outputs": [
        {
          "output_type": "execute_result",
          "data": {
            "text/plain": [
              "array([False,  True, False,  True,  True,  True,  True,  True,  True,\n",
              "        True])"
            ]
          },
          "metadata": {},
          "execution_count": 198
        }
      ]
    },
    {
      "cell_type": "markdown",
      "source": [
        "## \"Условный оператор присвоения\" where"
      ],
      "metadata": {
        "id": "z6qt1QE9abt1"
      }
    },
    {
      "cell_type": "code",
      "metadata": {
        "colab": {
          "base_uri": "https://localhost:8080/"
        },
        "id": "umD_BNiUTvb6",
        "outputId": "d1783ec4-d3da-440a-f7e7-8f0250c280c8"
      },
      "source": [
        "np.where(a < 0, a, b)"
      ],
      "execution_count": null,
      "outputs": [
        {
          "output_type": "execute_result",
          "data": {
            "text/plain": [
              "array([-44., 135., -55., 123., 112., 143., 114., 113., 110., 150.])"
            ]
          },
          "metadata": {},
          "execution_count": 159
        }
      ]
    },
    {
      "cell_type": "code",
      "source": [
        "np.where(a < 0)"
      ],
      "metadata": {
        "colab": {
          "base_uri": "https://localhost:8080/"
        },
        "id": "GbrvdrOPNFdq",
        "outputId": "e368f477-0324-4141-fe3f-d7e62b7eb086"
      },
      "execution_count": null,
      "outputs": [
        {
          "output_type": "execute_result",
          "data": {
            "text/plain": [
              "(array([0, 2]),)"
            ]
          },
          "metadata": {},
          "execution_count": 160
        }
      ]
    },
    {
      "cell_type": "code",
      "metadata": {
        "colab": {
          "base_uri": "https://localhost:8080/",
          "height": 206
        },
        "id": "76jUC2uHk6tZ",
        "outputId": "9493eb02-5dda-4511-aecd-789332025af3"
      },
      "source": [
        "np.where(a < 0, -42)"
      ],
      "execution_count": null,
      "outputs": [
        {
          "output_type": "error",
          "ename": "ValueError",
          "evalue": "ignored",
          "traceback": [
            "\u001b[0;31m---------------------------------------------------------------------------\u001b[0m",
            "\u001b[0;31mValueError\u001b[0m                                Traceback (most recent call last)",
            "\u001b[0;32m<ipython-input-161-9e48f2b4ac60>\u001b[0m in \u001b[0;36m<module>\u001b[0;34m\u001b[0m\n\u001b[0;32m----> 1\u001b[0;31m \u001b[0mnp\u001b[0m\u001b[0;34m.\u001b[0m\u001b[0mwhere\u001b[0m\u001b[0;34m(\u001b[0m\u001b[0ma\u001b[0m \u001b[0;34m<\u001b[0m \u001b[0;36m0\u001b[0m\u001b[0;34m,\u001b[0m \u001b[0;34m-\u001b[0m\u001b[0;36m42\u001b[0m\u001b[0;34m)\u001b[0m\u001b[0;34m\u001b[0m\u001b[0;34m\u001b[0m\u001b[0m\n\u001b[0m",
            "\u001b[0;32m/usr/local/lib/python3.9/dist-packages/numpy/core/overrides.py\u001b[0m in \u001b[0;36mwhere\u001b[0;34m(*args, **kwargs)\u001b[0m\n",
            "\u001b[0;31mValueError\u001b[0m: either both or neither of x and y should be given"
          ]
        }
      ]
    },
    {
      "cell_type": "code",
      "metadata": {
        "colab": {
          "base_uri": "https://localhost:8080/"
        },
        "id": "HMyehVX4Tvb6",
        "outputId": "f9180fe5-d604-45f8-9f89-b552ecb17872"
      },
      "source": [
        "a[np.where(~(a < 0))]"
      ],
      "execution_count": null,
      "outputs": [
        {
          "output_type": "execute_result",
          "data": {
            "text/plain": [
              "array([134., 143., 116., 121., 136., 126., 140., 118.])"
            ]
          },
          "metadata": {},
          "execution_count": 162
        }
      ]
    },
    {
      "cell_type": "code",
      "metadata": {
        "colab": {
          "base_uri": "https://localhost:8080/"
        },
        "id": "lWnBLLtTcf2Y",
        "outputId": "7460d7e2-ddee-4963-c15d-01cefa95f09c"
      },
      "source": [
        "a[~(a < 0)]"
      ],
      "execution_count": null,
      "outputs": [
        {
          "output_type": "execute_result",
          "data": {
            "text/plain": [
              "array([134., 143., 116., 121., 136., 126., 140., 118.])"
            ]
          },
          "metadata": {},
          "execution_count": 163
        }
      ]
    },
    {
      "cell_type": "markdown",
      "metadata": {
        "id": "f_5fLH3PTvb7"
      },
      "source": [
        "## Сортировка"
      ]
    },
    {
      "cell_type": "markdown",
      "source": [
        "Получить отсортированный массив:"
      ],
      "metadata": {
        "id": "TlsLpe9Zav6K"
      }
    },
    {
      "cell_type": "code",
      "metadata": {
        "colab": {
          "base_uri": "https://localhost:8080/"
        },
        "id": "lcFpQAzQcv05",
        "outputId": "5e4d1700-d827-44a9-f691-00dc1ad7f397"
      },
      "source": [
        "a"
      ],
      "execution_count": null,
      "outputs": [
        {
          "output_type": "execute_result",
          "data": {
            "text/plain": [
              "array([-44., 134., -55., 143., 116., 121., 136., 126., 140., 118.])"
            ]
          },
          "metadata": {},
          "execution_count": 164
        }
      ]
    },
    {
      "cell_type": "code",
      "metadata": {
        "colab": {
          "base_uri": "https://localhost:8080/"
        },
        "id": "9rlOfyLoTvb7",
        "outputId": "35b36cd4-730d-40a4-d104-d8009f3aa395"
      },
      "source": [
        "np.sort(a, kind='merge_sort')"
      ],
      "execution_count": null,
      "outputs": [
        {
          "output_type": "execute_result",
          "data": {
            "text/plain": [
              "array([-55., -44., 116., 118., 121., 126., 134., 136., 140., 143.])"
            ]
          },
          "metadata": {},
          "execution_count": 165
        }
      ]
    },
    {
      "cell_type": "code",
      "source": [
        "np.sort?"
      ],
      "metadata": {
        "id": "Ln5wQ_gfiq55"
      },
      "execution_count": null,
      "outputs": []
    },
    {
      "cell_type": "markdown",
      "metadata": {
        "id": "43Bsps-YTvb7"
      },
      "source": [
        "Индексы сортированного массива:"
      ]
    },
    {
      "cell_type": "code",
      "metadata": {
        "colab": {
          "base_uri": "https://localhost:8080/"
        },
        "id": "owRiHvIaTvb7",
        "outputId": "8b7c36bc-b1c6-4504-bba7-084f5a418b6c"
      },
      "source": [
        "np.argsort(a)"
      ],
      "execution_count": null,
      "outputs": [
        {
          "output_type": "execute_result",
          "data": {
            "text/plain": [
              "array([2, 0, 4, 9, 5, 7, 1, 6, 8, 3])"
            ]
          },
          "metadata": {},
          "execution_count": 167
        }
      ]
    },
    {
      "cell_type": "code",
      "metadata": {
        "colab": {
          "base_uri": "https://localhost:8080/"
        },
        "id": "aRkLnBT9Tvb8",
        "outputId": "b735e10b-c0cf-46ec-a945-a20ec6ad4cf1"
      },
      "source": [
        "# создание матрицы для демонстрации примеров\n",
        "m = np.round(np.random.rand(4, 5) * 10, 3)\n",
        "m"
      ],
      "execution_count": null,
      "outputs": [
        {
          "output_type": "execute_result",
          "data": {
            "text/plain": [
              "array([[1.75 , 9.822, 5.166, 2.608, 9.963],\n",
              "       [9.654, 5.583, 8.826, 1.887, 2.789],\n",
              "       [7.004, 8.467, 8.563, 4.045, 8.878],\n",
              "       [8.509, 9.356, 7.853, 6.69 , 5.807]])"
            ]
          },
          "metadata": {},
          "execution_count": 168
        }
      ]
    },
    {
      "cell_type": "code",
      "source": [
        "# сортировка\n",
        "np.sort(m)"
      ],
      "metadata": {
        "colab": {
          "base_uri": "https://localhost:8080/"
        },
        "id": "U4KklWvsjLGs",
        "outputId": "f86c4b8f-47ff-40fb-91fc-a0fb7ff6de59"
      },
      "execution_count": null,
      "outputs": [
        {
          "output_type": "execute_result",
          "data": {
            "text/plain": [
              "array([[1.75 , 2.608, 5.166, 9.822, 9.963],\n",
              "       [1.887, 2.789, 5.583, 8.826, 9.654],\n",
              "       [4.045, 7.004, 8.467, 8.563, 8.878],\n",
              "       [5.807, 6.69 , 7.853, 8.509, 9.356]])"
            ]
          },
          "metadata": {},
          "execution_count": 169
        }
      ]
    },
    {
      "cell_type": "code",
      "metadata": {
        "colab": {
          "base_uri": "https://localhost:8080/"
        },
        "id": "84YmeFjbTvb8",
        "outputId": "d5b55368-8f07-42a2-cb77-8be7339d0136"
      },
      "source": [
        "# сортировка по столбцам\n",
        "np.sort(m, axis=0)"
      ],
      "execution_count": null,
      "outputs": [
        {
          "output_type": "execute_result",
          "data": {
            "text/plain": [
              "array([[1.75 , 5.583, 5.166, 1.887, 2.789],\n",
              "       [7.004, 8.467, 7.853, 2.608, 5.807],\n",
              "       [8.509, 9.356, 8.563, 4.045, 8.878],\n",
              "       [9.654, 9.822, 8.826, 6.69 , 9.963]])"
            ]
          },
          "metadata": {},
          "execution_count": 170
        }
      ]
    },
    {
      "cell_type": "code",
      "metadata": {
        "colab": {
          "base_uri": "https://localhost:8080/"
        },
        "id": "okFkToAQTvb8",
        "outputId": "08a525cc-56d5-4ba5-dfaf-021b9fd426f4"
      },
      "source": [
        "# сортировка по строкам\n",
        "np.sort(m, axis=1)"
      ],
      "execution_count": null,
      "outputs": [
        {
          "output_type": "execute_result",
          "data": {
            "text/plain": [
              "array([[1.75 , 2.608, 5.166, 9.822, 9.963],\n",
              "       [1.887, 2.789, 5.583, 8.826, 9.654],\n",
              "       [4.045, 7.004, 8.467, 8.563, 8.878],\n",
              "       [5.807, 6.69 , 7.853, 8.509, 9.356]])"
            ]
          },
          "metadata": {},
          "execution_count": 171
        }
      ]
    },
    {
      "cell_type": "markdown",
      "metadata": {
        "id": "CFMuTsb4Tvb8"
      },
      "source": [
        "<span style=\"color:blue\">Отсортируйте все строки по столбцу с номером 1:</span>"
      ]
    },
    {
      "cell_type": "code",
      "metadata": {
        "colab": {
          "base_uri": "https://localhost:8080/"
        },
        "id": "Ibb3k_dYTvb8",
        "outputId": "628f0c61-8c2e-412b-807b-35291c96e3ef"
      },
      "source": [
        "np.random.seed(42)\n",
        "a = np.random.randint(0, 10, (5, 3))\n",
        "a"
      ],
      "execution_count": null,
      "outputs": [
        {
          "output_type": "execute_result",
          "data": {
            "text/plain": [
              "array([[6, 3, 7],\n",
              "       [4, 6, 9],\n",
              "       [2, 6, 7],\n",
              "       [4, 3, 7],\n",
              "       [7, 2, 5]])"
            ]
          },
          "metadata": {},
          "execution_count": 172
        }
      ]
    },
    {
      "cell_type": "code",
      "source": [
        "a[:, 1].argsort()"
      ],
      "metadata": {
        "colab": {
          "base_uri": "https://localhost:8080/"
        },
        "id": "3QITR6z2jzVe",
        "outputId": "72145369-5eaf-4560-e570-5466411b29fc"
      },
      "execution_count": null,
      "outputs": [
        {
          "output_type": "execute_result",
          "data": {
            "text/plain": [
              "array([4, 0, 3, 1, 2])"
            ]
          },
          "metadata": {},
          "execution_count": 173
        }
      ]
    },
    {
      "cell_type": "code",
      "source": [
        "a[a[:, 1].argsort()]"
      ],
      "metadata": {
        "colab": {
          "base_uri": "https://localhost:8080/"
        },
        "id": "yxJfJM6Vj8Vn",
        "outputId": "0ec92ed2-af96-4f81-fd0d-c93ce872e4d3"
      },
      "execution_count": null,
      "outputs": [
        {
          "output_type": "execute_result",
          "data": {
            "text/plain": [
              "array([[7, 2, 5],\n",
              "       [6, 3, 7],\n",
              "       [4, 3, 7],\n",
              "       [4, 6, 9],\n",
              "       [2, 6, 7]])"
            ]
          },
          "metadata": {},
          "execution_count": 174
        }
      ]
    },
    {
      "cell_type": "code",
      "metadata": {
        "colab": {
          "base_uri": "https://localhost:8080/"
        },
        "id": "mOfL9kRc4v7Y",
        "outputId": "274b3795-267f-4bec-f37f-00e7ffbd5d95"
      },
      "source": [
        "a[:, 1].argsort()"
      ],
      "execution_count": null,
      "outputs": [
        {
          "output_type": "execute_result",
          "data": {
            "text/plain": [
              "array([4, 0, 3, 1, 2])"
            ]
          },
          "metadata": {},
          "execution_count": 175
        }
      ]
    },
    {
      "cell_type": "code",
      "source": [
        "np.sort?"
      ],
      "metadata": {
        "id": "dU3WydDVku43"
      },
      "execution_count": null,
      "outputs": []
    },
    {
      "cell_type": "code",
      "metadata": {
        "colab": {
          "base_uri": "https://localhost:8080/"
        },
        "id": "MW-gEBQZ52Ru",
        "outputId": "d29b9eb2-16b2-4e0b-d911-2bb5c0beadc0"
      },
      "source": [
        "a[np.array([4, 0, 3, 1, 2])]"
      ],
      "execution_count": null,
      "outputs": [
        {
          "output_type": "stream",
          "name": "stdout",
          "text": [
            "[[7 2 5]\n",
            " [6 3 7]\n",
            " [4 3 7]\n",
            " [4 6 9]\n",
            " [2 6 7]]\n"
          ]
        }
      ]
    },
    {
      "cell_type": "code",
      "metadata": {
        "id": "5K8INw9L7dr6",
        "colab": {
          "base_uri": "https://localhost:8080/",
          "height": 241
        },
        "outputId": "78a6a9a1-59a8-4431-a30f-542cb8965826"
      },
      "source": [
        "a = np.arange(8).reshape(8, 1, 6, 1)\n",
        "print(a.shape)\n",
        "b = np.arange(35).reshape(7, 1, 5)\n",
        "print(b.shape)\n",
        "(a + b).shape"
      ],
      "execution_count": null,
      "outputs": [
        {
          "output_type": "error",
          "ename": "ValueError",
          "evalue": "ignored",
          "traceback": [
            "\u001b[0;31m---------------------------------------------------------------------------\u001b[0m",
            "\u001b[0;31mValueError\u001b[0m                                Traceback (most recent call last)",
            "\u001b[0;32m<ipython-input-141-af578b72c364>\u001b[0m in \u001b[0;36m<module>\u001b[0;34m()\u001b[0m\n\u001b[0;32m----> 1\u001b[0;31m \u001b[0ma\u001b[0m \u001b[0;34m=\u001b[0m \u001b[0mnp\u001b[0m\u001b[0;34m.\u001b[0m\u001b[0marange\u001b[0m\u001b[0;34m(\u001b[0m\u001b[0;36m8\u001b[0m\u001b[0;34m)\u001b[0m\u001b[0;34m.\u001b[0m\u001b[0mreshape\u001b[0m\u001b[0;34m(\u001b[0m\u001b[0;36m8\u001b[0m\u001b[0;34m,\u001b[0m \u001b[0;36m1\u001b[0m\u001b[0;34m,\u001b[0m \u001b[0;36m6\u001b[0m\u001b[0;34m,\u001b[0m \u001b[0;36m1\u001b[0m\u001b[0;34m)\u001b[0m\u001b[0;34m\u001b[0m\u001b[0;34m\u001b[0m\u001b[0m\n\u001b[0m\u001b[1;32m      2\u001b[0m \u001b[0mprint\u001b[0m\u001b[0;34m(\u001b[0m\u001b[0ma\u001b[0m\u001b[0;34m.\u001b[0m\u001b[0mshape\u001b[0m\u001b[0;34m)\u001b[0m\u001b[0;34m\u001b[0m\u001b[0;34m\u001b[0m\u001b[0m\n\u001b[1;32m      3\u001b[0m \u001b[0mb\u001b[0m \u001b[0;34m=\u001b[0m \u001b[0mnp\u001b[0m\u001b[0;34m.\u001b[0m\u001b[0marange\u001b[0m\u001b[0;34m(\u001b[0m\u001b[0;36m35\u001b[0m\u001b[0;34m)\u001b[0m\u001b[0;34m.\u001b[0m\u001b[0mreshape\u001b[0m\u001b[0;34m(\u001b[0m\u001b[0;36m7\u001b[0m\u001b[0;34m,\u001b[0m \u001b[0;36m1\u001b[0m\u001b[0;34m,\u001b[0m \u001b[0;36m5\u001b[0m\u001b[0;34m)\u001b[0m\u001b[0;34m\u001b[0m\u001b[0;34m\u001b[0m\u001b[0m\n\u001b[1;32m      4\u001b[0m \u001b[0mprint\u001b[0m\u001b[0;34m(\u001b[0m\u001b[0mb\u001b[0m\u001b[0;34m.\u001b[0m\u001b[0mshape\u001b[0m\u001b[0;34m)\u001b[0m\u001b[0;34m\u001b[0m\u001b[0;34m\u001b[0m\u001b[0m\n\u001b[1;32m      5\u001b[0m \u001b[0;34m(\u001b[0m\u001b[0ma\u001b[0m \u001b[0;34m+\u001b[0m \u001b[0mb\u001b[0m\u001b[0;34m)\u001b[0m\u001b[0;34m.\u001b[0m\u001b[0mshape\u001b[0m\u001b[0;34m\u001b[0m\u001b[0;34m\u001b[0m\u001b[0m\n",
            "\u001b[0;31mValueError\u001b[0m: cannot reshape array of size 8 into shape (8,1,6,1)"
          ]
        }
      ]
    },
    {
      "cell_type": "code",
      "metadata": {
        "colab": {
          "base_uri": "https://localhost:8080/"
        },
        "id": "yyHlE5Ae58Xm",
        "outputId": "ae385e48-d5d6-46d1-99ac-8e7e1dc231a4"
      },
      "source": [
        "a = np.arange(48).reshape(8, 1, 6, 1, 1, 1, 1)\n",
        "print(a.shape)\n",
        "b = np.arange(35).reshape(7, 1, 5)\n",
        "print(b.shape)\n",
        "(a + b).shape"
      ],
      "execution_count": null,
      "outputs": [
        {
          "output_type": "stream",
          "name": "stdout",
          "text": [
            "(8, 1, 6, 1, 1, 1, 1)\n",
            "(7, 1, 5)\n"
          ]
        },
        {
          "output_type": "execute_result",
          "data": {
            "text/plain": [
              "(8, 1, 6, 1, 7, 1, 5)"
            ]
          },
          "metadata": {},
          "execution_count": 176
        }
      ]
    },
    {
      "cell_type": "markdown",
      "metadata": {
        "id": "VgNJ43TBTvb9"
      },
      "source": [
        "## Добавление нового измерения"
      ]
    },
    {
      "cell_type": "code",
      "metadata": {
        "colab": {
          "base_uri": "https://localhost:8080/"
        },
        "id": "53DvQ77TTvb9",
        "outputId": "0bade656-619d-43f4-8836-e2587fbc297d"
      },
      "source": [
        "a = np.linspace(1, 10, 10)\n",
        "print(a)\n",
        "print(a.shape)"
      ],
      "execution_count": null,
      "outputs": [
        {
          "output_type": "stream",
          "name": "stdout",
          "text": [
            "[ 1.  2.  3.  4.  5.  6.  7.  8.  9. 10.]\n",
            "(10,)\n"
          ]
        }
      ]
    },
    {
      "cell_type": "code",
      "metadata": {
        "colab": {
          "base_uri": "https://localhost:8080/"
        },
        "id": "5Y4pQ_a4Tvb9",
        "outputId": "43d79680-178d-4667-83e8-df9168ee6943"
      },
      "source": [
        "a_new = a[np.newaxis, :]\n",
        "print(a_new)\n",
        "print(\"New shape \", a_new.shape)"
      ],
      "execution_count": null,
      "outputs": [
        {
          "output_type": "stream",
          "name": "stdout",
          "text": [
            "[[ 1.  2.  3.  4.  5.  6.  7.  8.  9. 10.]]\n",
            "New shape  (1, 10)\n"
          ]
        }
      ]
    },
    {
      "cell_type": "code",
      "source": [
        "a_new = a[:, None]\n",
        "print(a_new)\n",
        "print(\"New shape \", a_new.shape)"
      ],
      "metadata": {
        "colab": {
          "base_uri": "https://localhost:8080/"
        },
        "id": "kLG0kPQZl9Cr",
        "outputId": "30ecf72f-3a31-4e10-944b-6242bb1effc4"
      },
      "execution_count": null,
      "outputs": [
        {
          "output_type": "stream",
          "name": "stdout",
          "text": [
            "[[ 1.]\n",
            " [ 2.]\n",
            " [ 3.]\n",
            " [ 4.]\n",
            " [ 5.]\n",
            " [ 6.]\n",
            " [ 7.]\n",
            " [ 8.]\n",
            " [ 9.]\n",
            " [10.]]\n",
            "New shape  (10, 1)\n"
          ]
        }
      ]
    },
    {
      "cell_type": "code",
      "metadata": {
        "id": "T65IPZzPTvb-",
        "colab": {
          "base_uri": "https://localhost:8080/"
        },
        "outputId": "2fc27efd-2762-4d63-feb0-b89e636ee151"
      },
      "source": [
        "m = np.random.randint(0, 10, (5, 10))\n",
        "m"
      ],
      "execution_count": null,
      "outputs": [
        {
          "output_type": "execute_result",
          "data": {
            "text/plain": [
              "array([[4, 1, 7, 5, 1, 4, 0, 9, 5, 8],\n",
              "       [0, 9, 2, 6, 3, 8, 2, 4, 2, 6],\n",
              "       [4, 8, 6, 1, 3, 8, 1, 9, 8, 9],\n",
              "       [4, 1, 3, 6, 7, 2, 0, 3, 1, 7],\n",
              "       [3, 1, 5, 5, 9, 3, 5, 1, 9, 1]])"
            ]
          },
          "metadata": {},
          "execution_count": 184
        }
      ]
    },
    {
      "cell_type": "code",
      "source": [
        "m.reshape(2, 1, -1)"
      ],
      "metadata": {
        "id": "cfgJOfuQbfPo"
      },
      "execution_count": null,
      "outputs": []
    },
    {
      "cell_type": "code",
      "source": [
        "a.reshape(-1, 5)"
      ],
      "metadata": {
        "colab": {
          "base_uri": "https://localhost:8080/"
        },
        "id": "VkXcnIqQlhrV",
        "outputId": "178af8e2-69ad-4fa7-a570-457a33bb31ae"
      },
      "execution_count": null,
      "outputs": [
        {
          "output_type": "execute_result",
          "data": {
            "text/plain": [
              "array([[ 1.,  2.,  3.,  4.,  5.],\n",
              "       [ 6.,  7.,  8.,  9., 10.]])"
            ]
          },
          "metadata": {},
          "execution_count": 193
        }
      ]
    },
    {
      "cell_type": "code",
      "source": [
        "a.reshape(-1, 6)"
      ],
      "metadata": {
        "colab": {
          "base_uri": "https://localhost:8080/",
          "height": 170
        },
        "id": "8LMTLu6zlus0",
        "outputId": "0181fa18-8731-4000-dea3-c221f7fbb5dd"
      },
      "execution_count": null,
      "outputs": [
        {
          "output_type": "error",
          "ename": "ValueError",
          "evalue": "ignored",
          "traceback": [
            "\u001b[0;31m---------------------------------------------------------------------------\u001b[0m",
            "\u001b[0;31mValueError\u001b[0m                                Traceback (most recent call last)",
            "\u001b[0;32m<ipython-input-192-272f9f0b327e>\u001b[0m in \u001b[0;36m<module>\u001b[0;34m\u001b[0m\n\u001b[0;32m----> 1\u001b[0;31m \u001b[0ma\u001b[0m\u001b[0;34m[\u001b[0m\u001b[0mnp\u001b[0m\u001b[0;34m.\u001b[0m\u001b[0mnewaxis\u001b[0m\u001b[0;34m,\u001b[0m \u001b[0;34m:\u001b[0m\u001b[0;34m]\u001b[0m\u001b[0;34m.\u001b[0m\u001b[0mreshape\u001b[0m\u001b[0;34m(\u001b[0m\u001b[0;34m-\u001b[0m\u001b[0;36m1\u001b[0m\u001b[0;34m,\u001b[0m \u001b[0;36m6\u001b[0m\u001b[0;34m)\u001b[0m\u001b[0;34m\u001b[0m\u001b[0;34m\u001b[0m\u001b[0m\n\u001b[0m",
            "\u001b[0;31mValueError\u001b[0m: cannot reshape array of size 10 into shape (6)"
          ]
        }
      ]
    },
    {
      "cell_type": "markdown",
      "metadata": {
        "id": "ryIZbx2BTvb_"
      },
      "source": [
        "- **any / all**"
      ]
    },
    {
      "cell_type": "markdown",
      "metadata": {
        "id": "ExfZWp6lTvb_"
      },
      "source": [
        "`Any` возвращает True, если хотя бы один элемент `True`   \n",
        "`All` возвращает True, если все элементы `True`"
      ]
    },
    {
      "cell_type": "code",
      "metadata": {
        "id": "mgxHXR5ITvb_",
        "colab": {
          "base_uri": "https://localhost:8080/"
        },
        "outputId": "71a2d762-8888-4a2e-cebd-9e1e55e4ddfc"
      },
      "source": [
        "any([True, True, False, True, False, False, False])"
      ],
      "execution_count": null,
      "outputs": [
        {
          "output_type": "execute_result",
          "data": {
            "text/plain": [
              "True"
            ]
          },
          "metadata": {},
          "execution_count": 166
        }
      ]
    },
    {
      "cell_type": "code",
      "metadata": {
        "id": "17NO8kGfTvb_",
        "colab": {
          "base_uri": "https://localhost:8080/"
        },
        "outputId": "8dcbd868-b730-4599-864c-228eb2160a45"
      },
      "source": [
        "all([True, True, False, True, False, False, False])"
      ],
      "execution_count": null,
      "outputs": [
        {
          "output_type": "execute_result",
          "data": {
            "text/plain": [
              "False"
            ]
          },
          "metadata": {},
          "execution_count": 167
        }
      ]
    },
    {
      "cell_type": "code",
      "metadata": {
        "id": "-mlVnGwTTvcA",
        "colab": {
          "base_uri": "https://localhost:8080/"
        },
        "outputId": "b08d212b-507d-4c93-e5eb-b28504dec8eb"
      },
      "source": [
        "np.array([1, 1, 0, 2]) == np.array([1, 1, 0, 2])"
      ],
      "execution_count": null,
      "outputs": [
        {
          "output_type": "execute_result",
          "data": {
            "text/plain": [
              "array([ True,  True,  True,  True])"
            ]
          },
          "metadata": {},
          "execution_count": 378
        }
      ]
    },
    {
      "cell_type": "code",
      "metadata": {
        "id": "zkkJajFYTvcA",
        "colab": {
          "base_uri": "https://localhost:8080/"
        },
        "outputId": "d0e9c06e-0100-4e10-8044-90458541345d"
      },
      "source": [
        "# сравнение векторов\n",
        "all(np.array([1, 1, 0, 2]) == np.array([1, 1, 0, 2]))"
      ],
      "execution_count": null,
      "outputs": [
        {
          "output_type": "execute_result",
          "data": {
            "text/plain": [
              "True"
            ]
          },
          "metadata": {},
          "execution_count": 196
        }
      ]
    },
    {
      "cell_type": "code",
      "metadata": {
        "id": "4yf_7wqYTvcA",
        "colab": {
          "base_uri": "https://localhost:8080/"
        },
        "outputId": "1dce50e7-48cb-407e-b693-54a8b9359b3b"
      },
      "source": [
        "all(np.array([1, 1, 0, 0]) == np.array([1, 1, 0, 2]))"
      ],
      "execution_count": null,
      "outputs": [
        {
          "output_type": "execute_result",
          "data": {
            "text/plain": [
              "False"
            ]
          },
          "metadata": {},
          "execution_count": 197
        }
      ]
    },
    {
      "cell_type": "code",
      "metadata": {
        "id": "y2olgB-oTvcA",
        "colab": {
          "base_uri": "https://localhost:8080/"
        },
        "outputId": "7e308e1f-345a-45dc-f0b3-bb69ef3ba71e"
      },
      "source": [
        "any(np.array([1, 1, 0, 0]) == np.array([1, 1, 0, 2]))"
      ],
      "execution_count": null,
      "outputs": [
        {
          "output_type": "execute_result",
          "data": {
            "text/plain": [
              "True"
            ]
          },
          "metadata": {},
          "execution_count": 198
        }
      ]
    },
    {
      "cell_type": "markdown",
      "metadata": {
        "id": "wH9wOaNATvcB"
      },
      "source": [
        "- Методы all и any"
      ]
    },
    {
      "cell_type": "code",
      "metadata": {
        "id": "nRGXIj0P_v2_",
        "colab": {
          "base_uri": "https://localhost:8080/"
        },
        "outputId": "6f1bfbf0-de29-4fde-fae1-1ec85b4aa834"
      },
      "source": [
        "np.array([1, 1, 0, 8, 1, 5, 1, 1]) == np.array([1, 1, 3, 2, 1, 5, 1, 1])"
      ],
      "execution_count": null,
      "outputs": [
        {
          "output_type": "execute_result",
          "data": {
            "text/plain": [
              "array([ True,  True, False, False,  True,  True,  True,  True])"
            ]
          },
          "metadata": {},
          "execution_count": 199
        }
      ]
    },
    {
      "cell_type": "code",
      "metadata": {
        "id": "eayCygyyTvcB",
        "colab": {
          "base_uri": "https://localhost:8080/"
        },
        "outputId": "0219f4ad-62a4-4f7b-9b1e-c6140cc4c483"
      },
      "source": [
        "a = (np.array([1, 1, 0, 8, 1, 5, 1, 1]) == np.array([1, 1, 3, 2, 1, 5, 1, 1])).reshape((2, 4))\n",
        "print(a)"
      ],
      "execution_count": null,
      "outputs": [
        {
          "output_type": "stream",
          "name": "stdout",
          "text": [
            "[[ True  True False False]\n",
            " [ True  True  True  True]]\n"
          ]
        }
      ]
    },
    {
      "cell_type": "code",
      "metadata": {
        "id": "gzFk5t0sTvcB",
        "colab": {
          "base_uri": "https://localhost:8080/"
        },
        "outputId": "757c6038-2f5d-4574-f1ca-8288f66ba5c2"
      },
      "source": [
        "# any по строкам\n",
        "a.any(axis=1)"
      ],
      "execution_count": null,
      "outputs": [
        {
          "output_type": "execute_result",
          "data": {
            "text/plain": [
              "array([ True,  True])"
            ]
          },
          "metadata": {},
          "execution_count": 202
        }
      ]
    },
    {
      "cell_type": "code",
      "metadata": {
        "id": "Z87iUrmxTvcB",
        "colab": {
          "base_uri": "https://localhost:8080/"
        },
        "outputId": "c7ca67b3-414c-43bd-a92d-7030cd30bdd2"
      },
      "source": [
        "# any по столбцам\n",
        "a.any(axis=0, keepdims=True)"
      ],
      "execution_count": null,
      "outputs": [
        {
          "output_type": "execute_result",
          "data": {
            "text/plain": [
              "array([[ True,  True,  True,  True]])"
            ]
          },
          "metadata": {},
          "execution_count": 203
        }
      ]
    },
    {
      "cell_type": "code",
      "metadata": {
        "id": "3JLkylevTvcB",
        "colab": {
          "base_uri": "https://localhost:8080/"
        },
        "outputId": "32d718be-ac3f-452b-8439-d5eea702552d"
      },
      "source": [
        "# По строкам и столбцам\n",
        "a.all(axis=(0, 1)) # берем элементы по осям исходной подматрицы с индексами 0 и 1"
      ],
      "execution_count": null,
      "outputs": [
        {
          "output_type": "execute_result",
          "data": {
            "text/plain": [
              "False"
            ]
          },
          "metadata": {},
          "execution_count": 178
        }
      ]
    },
    {
      "cell_type": "code",
      "metadata": {
        "id": "RlmidpknAO9m"
      },
      "source": [
        "np.all?"
      ],
      "execution_count": null,
      "outputs": []
    },
    {
      "cell_type": "markdown",
      "metadata": {
        "id": "5voWLDRbTvcC"
      },
      "source": [
        "- diff   \n",
        "out[n] = a[n+1] - a[n]"
      ]
    },
    {
      "cell_type": "code",
      "metadata": {
        "id": "fjtP-vvdTvcC",
        "colab": {
          "base_uri": "https://localhost:8080/"
        },
        "outputId": "3651ad8c-b31b-47b8-8fe7-3fca36fc5e34"
      },
      "source": [
        "a = np.array([1, 2, 4, 7, 0])\n",
        "print(a)\n",
        "print(np.diff(a))"
      ],
      "execution_count": null,
      "outputs": [
        {
          "output_type": "stream",
          "name": "stdout",
          "text": [
            "[1 2 4 7 0]\n",
            "[ 1  2  3 -7]\n"
          ]
        }
      ]
    },
    {
      "cell_type": "markdown",
      "metadata": {
        "id": "nqjDH15ATvcC"
      },
      "source": [
        "- split (забиение на части)"
      ]
    },
    {
      "cell_type": "code",
      "metadata": {
        "id": "rVe1vq3TTvcC",
        "colab": {
          "base_uri": "https://localhost:8080/"
        },
        "outputId": "298814de-4425-430e-e5da-83ab8984e863"
      },
      "source": [
        "a = np.arange(1, 10)\n",
        "print(a)"
      ],
      "execution_count": null,
      "outputs": [
        {
          "output_type": "stream",
          "name": "stdout",
          "text": [
            "[1 2 3 4 5 6 7 8 9]\n"
          ]
        }
      ]
    },
    {
      "cell_type": "code",
      "metadata": {
        "id": "Nl63I91DTvcD",
        "colab": {
          "base_uri": "https://localhost:8080/"
        },
        "outputId": "55ff3379-c4c0-4224-cf42-64ae0a96e424"
      },
      "source": [
        "np.split(a, [2, 7]) # разбивает по элементам 2 и 7"
      ],
      "execution_count": null,
      "outputs": [
        {
          "output_type": "execute_result",
          "data": {
            "text/plain": [
              "[array([1, 2]), array([3, 4, 5, 6, 7]), array([8, 9])]"
            ]
          },
          "metadata": {},
          "execution_count": 396
        }
      ]
    },
    {
      "cell_type": "markdown",
      "metadata": {
        "id": "56zwXFOYTvcD"
      },
      "source": [
        "## Вычисление статистик"
      ]
    },
    {
      "cell_type": "code",
      "metadata": {
        "id": "KtwTBC4iTvcD",
        "colab": {
          "base_uri": "https://localhost:8080/"
        },
        "outputId": "646ba47a-ece4-40ef-a26a-2645437a148e"
      },
      "source": [
        "a = np.random.randint(-10, 70, (5, 4))\n",
        "print(a)"
      ],
      "execution_count": null,
      "outputs": [
        {
          "output_type": "stream",
          "name": "stdout",
          "text": [
            "[[63 51  3 37]\n",
            " [ 4 61 67 51]\n",
            " [29 69 42 13]\n",
            " [15 49 30 18]\n",
            " [ 4 34 54 60]]\n"
          ]
        }
      ]
    },
    {
      "cell_type": "markdown",
      "metadata": {
        "id": "odwIPEUSTvcD"
      },
      "source": [
        "- среднее"
      ]
    },
    {
      "cell_type": "code",
      "metadata": {
        "id": "qgqtHV8eTvcE",
        "colab": {
          "base_uri": "https://localhost:8080/"
        },
        "outputId": "33ecf517-2143-4770-e944-b12f6c195120"
      },
      "source": [
        "a.mean()"
      ],
      "execution_count": null,
      "outputs": [
        {
          "output_type": "execute_result",
          "data": {
            "text/plain": [
              "37.7"
            ]
          },
          "metadata": {},
          "execution_count": 208
        }
      ]
    },
    {
      "cell_type": "code",
      "metadata": {
        "id": "vzHM-6m3TvcE",
        "colab": {
          "base_uri": "https://localhost:8080/"
        },
        "outputId": "f566efbc-dedc-4269-9669-2c8ea172677c"
      },
      "source": [
        "# среднее по столбцам\n",
        "a.mean(axis=0)"
      ],
      "execution_count": null,
      "outputs": [
        {
          "output_type": "execute_result",
          "data": {
            "text/plain": [
              "array([23. , 52.8, 39.2, 35.8])"
            ]
          },
          "metadata": {},
          "execution_count": 209
        }
      ]
    },
    {
      "cell_type": "code",
      "metadata": {
        "id": "OeEiND14TvcE",
        "colab": {
          "base_uri": "https://localhost:8080/"
        },
        "outputId": "b6de082f-04d6-4b9c-fcf5-927748038689"
      },
      "source": [
        "# среднее по строкам\n",
        "a.mean(axis=1)"
      ],
      "execution_count": null,
      "outputs": [
        {
          "output_type": "execute_result",
          "data": {
            "text/plain": [
              "array([38.5 , 45.75, 38.25, 28.  , 38.  ])"
            ]
          },
          "metadata": {},
          "execution_count": 210
        }
      ]
    },
    {
      "cell_type": "markdown",
      "metadata": {
        "id": "yGo6WYfYTvcE"
      },
      "source": [
        "- медиана"
      ]
    },
    {
      "cell_type": "code",
      "metadata": {
        "id": "TR2Dqe1NTvcF",
        "colab": {
          "base_uri": "https://localhost:8080/"
        },
        "outputId": "650d0747-507e-4495-98bb-cb588ca4e266"
      },
      "source": [
        "print(np.median(a))\n",
        "print(np.median(a, axis=0))\n",
        "print(np.median(a, axis=1))"
      ],
      "execution_count": null,
      "outputs": [
        {
          "output_type": "stream",
          "name": "stdout",
          "text": [
            "39.5\n",
            "[15. 51. 42. 37.]\n",
            "[44.  56.  35.5 24.  44. ]\n"
          ]
        }
      ]
    },
    {
      "cell_type": "markdown",
      "metadata": {
        "id": "D1dhHxyETvcF"
      },
      "source": [
        "- максимум и минимум"
      ]
    },
    {
      "cell_type": "code",
      "metadata": {
        "id": "YR88t5NVTvcF",
        "colab": {
          "base_uri": "https://localhost:8080/"
        },
        "outputId": "83fc1958-c04e-423a-be4f-ec9868cb3644"
      },
      "source": [
        "print(a)"
      ],
      "execution_count": null,
      "outputs": [
        {
          "output_type": "stream",
          "name": "stdout",
          "text": [
            "[[63 51  3 37]\n",
            " [ 4 61 67 51]\n",
            " [29 69 42 13]\n",
            " [15 49 30 18]\n",
            " [ 4 34 54 60]]\n"
          ]
        }
      ]
    },
    {
      "cell_type": "code",
      "metadata": {
        "id": "K94gSHCvTvcF",
        "colab": {
          "base_uri": "https://localhost:8080/"
        },
        "outputId": "b23434e7-f6c6-492d-c9cb-5dad217049c8"
      },
      "source": [
        "print(a.max())              # максимальный элемент\n",
        "print(a.max(axis=0))        # максимумы по столбцам\n",
        "print(a.argmax(axis=0))     # индексы строк максимумов по столбцам\n",
        "print(a.max(axis=1))        # максимумы по строкам\n",
        "print(a.argmax(axis=1))     # индексы столбцов максимумов по строкам"
      ],
      "execution_count": null,
      "outputs": [
        {
          "output_type": "stream",
          "name": "stdout",
          "text": [
            "69\n",
            "[63 69 67 60]\n",
            "[0 2 1 4]\n",
            "[63 67 69 49 60]\n",
            "[0 2 1 1 3]\n"
          ]
        }
      ]
    },
    {
      "cell_type": "markdown",
      "metadata": {
        "id": "F2Gc-AHRTvcG"
      },
      "source": [
        "- счетчик"
      ]
    },
    {
      "cell_type": "code",
      "metadata": {
        "id": "lUrDR_csTvcG",
        "colab": {
          "base_uri": "https://localhost:8080/"
        },
        "outputId": "51ee19e1-6a26-4bc7-ffa4-9ec073b7926a"
      },
      "source": [
        "np.bincount(np.arange(5))\n",
        "# np.arange(5) == array([0, 1, 2, 3, 4])\n",
        "# [0, 1, 2, 3, 4]"
      ],
      "execution_count": null,
      "outputs": [
        {
          "output_type": "execute_result",
          "data": {
            "text/plain": [
              "array([1, 1, 1, 1, 1])"
            ]
          },
          "metadata": {},
          "execution_count": 215
        }
      ]
    },
    {
      "cell_type": "code",
      "metadata": {
        "id": "hzZ2TbhFTvcG",
        "colab": {
          "base_uri": "https://localhost:8080/"
        },
        "outputId": "ebf936f7-6b3f-44a9-9c69-65b5670f5c58"
      },
      "source": [
        "np.bincount(np.array([0, 1, 1, 3, 2, 1, 7]))\n",
        "# [0, 1, 2, 3, 4, 5, 6, 7]"
      ],
      "execution_count": null,
      "outputs": [
        {
          "output_type": "execute_result",
          "data": {
            "text/plain": [
              "array([1, 3, 1, 1, 0, 0, 0, 1])"
            ]
          },
          "metadata": {},
          "execution_count": 216
        }
      ]
    },
    {
      "cell_type": "markdown",
      "metadata": {
        "id": "XSy2TA6aTvcG"
      },
      "source": [
        "Как это получилось? Получили массив соответсвующий диапазону от 0 до max. И посчитали кол-во попаданий в 0, 1, 2, ... max."
      ]
    },
    {
      "cell_type": "code",
      "metadata": {
        "id": "6DvhRkkrTvcG",
        "colab": {
          "base_uri": "https://localhost:8080/"
        },
        "outputId": "29c212f5-cd1f-4cb4-9f0f-6f933b2da113"
      },
      "source": [
        "# с помощью аргумента weights можно посчитать сумму части эелемента массива\n",
        "sub_sums = np.bincount(np.array([2, 0, 2, 1, 0, 0, 2, 2, 0, 1]),\n",
        "                        weights=[4, 4, 2, 3, 5, 1, 6, 1, 7, 5])\n",
        "# [0, 1, 2]\n",
        "# 0 -> 4 + 5 + 1 + 7 = 17\n",
        "# 1 -> 3 + 5 = 8\n",
        "# 2 -> 4 + 2 + 6 + 1 = 13\n",
        "print(sub_sums)"
      ],
      "execution_count": null,
      "outputs": [
        {
          "output_type": "stream",
          "name": "stdout",
          "text": [
            "[17.  8. 13.]\n"
          ]
        }
      ]
    },
    {
      "cell_type": "markdown",
      "metadata": {
        "id": "3yOOmB-5TvcH"
      },
      "source": [
        "<span style=\"color:blue\">Как найти наиболее частое значение в массиве?</span>"
      ]
    },
    {
      "cell_type": "code",
      "metadata": {
        "id": "ZfmYhm6xTvcH",
        "colab": {
          "base_uri": "https://localhost:8080/"
        },
        "outputId": "5b4992c4-e6b8-42c3-dc18-5f338a4f3c33"
      },
      "source": [
        "z = np.random.randint(0, 10, 50)\n",
        "print(z)\n",
        "print(np.bincount(z).argmax())"
      ],
      "execution_count": null,
      "outputs": [
        {
          "output_type": "stream",
          "name": "stdout",
          "text": [
            "[8 7 0 7 7 2 0 7 2 2 0 4 9 6 9 8 6 8 7 1 0 6 6 7 4 2 7 5 2 0 2 4 2 0 4 9 6\n",
            " 6 8 9 9 2 6 0 3 3 4 6 6 3]\n",
            "6\n"
          ]
        }
      ]
    },
    {
      "cell_type": "code",
      "metadata": {
        "id": "U79QnWqfD4zF",
        "colab": {
          "base_uri": "https://localhost:8080/"
        },
        "outputId": "a9f91842-4abd-4cba-bb3e-53b02e394289"
      },
      "source": [
        "np.bincount(z)"
      ],
      "execution_count": null,
      "outputs": [
        {
          "output_type": "execute_result",
          "data": {
            "text/plain": [
              "array([7, 1, 8, 3, 5, 1, 9, 7, 4, 5])"
            ]
          },
          "metadata": {},
          "execution_count": 242
        }
      ]
    }
  ]
}