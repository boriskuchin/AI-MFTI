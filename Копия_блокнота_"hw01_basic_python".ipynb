{
  "nbformat": 4,
  "nbformat_minor": 0,
  "metadata": {
    "colab": {
      "provenance": [],
      "include_colab_link": true
    },
    "kernelspec": {
      "name": "python3",
      "display_name": "Python 3"
    },
    "language_info": {
      "name": "python"
    }
  },
  "cells": [
    {
      "cell_type": "markdown",
      "metadata": {
        "id": "view-in-github",
        "colab_type": "text"
      },
      "source": [
        "<a href=\"https://colab.research.google.com/github/boriskuchin/MADMO-BASE-2024/blob/main/%D0%9A%D0%BE%D0%BF%D0%B8%D1%8F_%D0%B1%D0%BB%D0%BE%D0%BA%D0%BD%D0%BE%D1%82%D0%B0_%22hw01_basic_python%22.ipynb\" target=\"_parent\"><img src=\"https://colab.research.google.com/assets/colab-badge.svg\" alt=\"Open In Colab\"/></a>"
      ]
    },
    {
      "cell_type": "markdown",
      "source": [
        "# Домашнее задание №1. Обычный Python"
      ],
      "metadata": {
        "id": "eBHBcMcQFLFZ"
      }
    },
    {
      "cell_type": "markdown",
      "source": [
        "## Инструкция по отправке задания"
      ],
      "metadata": {
        "id": "raZct6Yj9_WW"
      }
    },
    {
      "cell_type": "markdown",
      "source": [
        "1. Создаете свою копию этого ноутбука:\n",
        "    \n",
        "    >Файл -> Создать копию на Диске\n",
        "2. Решаете задачи, заполняете вашу копию этого ноутбука\n",
        "3. Получаете ссылку с правами комментатора для вашей копии\n",
        "\n",
        "    >Поделиться -> Общий доступ -> Все, у кого есть ссылка -> Комментатор -> Копировать ссылку\n",
        "\n",
        "4. Заполняете [форму](https://forms.gle/BirHEsriqqUYEJ1p7) и прикрепляете скопированную ссылку"
      ],
      "metadata": {
        "id": "YHoylOce-C8W"
      }
    },
    {
      "cell_type": "markdown",
      "source": [
        ">**Примечание:**\n",
        ">\n",
        ">Соблюдайте культуру кода, следуйте [PEP 8](https://pythonworld.ru/osnovy/pep-8-rukovodstvo-po-napisaniyu-koda-na-python.html)!"
      ],
      "metadata": {
        "id": "SpbrEScYAd0G"
      }
    },
    {
      "cell_type": "markdown",
      "metadata": {
        "id": "934dda1a"
      },
      "source": [
        "# Задача 1"
      ]
    },
    {
      "cell_type": "markdown",
      "source": [
        "Реализуйте функцию `is_prime`, проверяющую целое число n на простоту. Число является простым, если нацело делится лишь на 1 и на само себя."
      ],
      "metadata": {
        "id": "oYQTNvd3t6-v"
      }
    },
    {
      "cell_type": "code",
      "execution_count": null,
      "metadata": {
        "id": "03a316f8"
      },
      "outputs": [],
      "source": [
        "def is_prime(n):\n",
        "    \"\"\"Check if the number n is prime or not.\"\"\"\n",
        "    if n == 1:\n",
        "      return False\n",
        "    for i in range(2,int(n**0.5) +1):\n",
        "      if n % i == 0:\n",
        "        return False\n",
        "    return True"
      ]
    },
    {
      "cell_type": "markdown",
      "source": [
        "Проверить работоспособность можно на следующих тестах. Если ячейка выполнется корректно, то значит ваша функция работает корректно (но не факт, что написана качественно)."
      ],
      "metadata": {
        "id": "untnoAgZuLKD"
      }
    },
    {
      "cell_type": "code",
      "execution_count": null,
      "metadata": {
        "id": "3e6174db"
      },
      "outputs": [],
      "source": [
        "# tests\n",
        "assert is_prime(1) == False, 'test 1'\n",
        "assert is_prime(2) == True, 'test 2'\n",
        "assert is_prime(3) == True, 'test 3'\n",
        "assert is_prime(4) == False, 'test 4'\n",
        "assert is_prime(1013) == True, 'test 5'"
      ]
    },
    {
      "cell_type": "markdown",
      "metadata": {
        "id": "a5730e12"
      },
      "source": [
        "# Задача 2"
      ]
    },
    {
      "cell_type": "markdown",
      "metadata": {
        "id": "ff703047"
      },
      "source": [
        "Реализуйте функцию сортировки [методом слияния](https://neerc.ifmo.ru/wiki/index.php?title=%D0%A1%D0%BE%D1%80%D1%82%D0%B8%D1%80%D0%BE%D0%B2%D0%BA%D0%B0_%D1%81%D0%BB%D0%B8%D1%8F%D0%BD%D0%B8%D0%B5%D0%BC). Можете делать ее как рекурсивно, так и нерекурсивно (рекомендую сделать оба варианта для практики)."
      ]
    },
    {
      "cell_type": "code",
      "execution_count": null,
      "metadata": {
        "id": "28087cb6"
      },
      "outputs": [],
      "source": [
        "def merge(lst_l, lst_r):\n",
        "    \"\"\"\n",
        "    helper function - merge 2 lists by comparing first elements and adding minimal one in the result lit\n",
        "    \"\"\"\n",
        "    lst_res = []\n",
        "    # пока оба списка не нулевой длины сравниваем первые элементы и наибольшим заполняем результирующий список\n",
        "\n",
        "    while ((len(lst_l) > 0) and (len(lst_r) > 0)):\n",
        "        if (lst_r[0] < lst_l[0]):\n",
        "            elem = lst_r.pop(0)\n",
        "            lst_res.append(elem)\n",
        "        else:\n",
        "            elem = lst_l.pop(0)\n",
        "            lst_res.append(elem)\n",
        "\n",
        "    # добавляю в конец списка оставшийся ненулевой список\n",
        "    lst_res = lst_res + lst_r + lst_l\n",
        "\n",
        "    return lst_res\n",
        "\n",
        "def merge_sort(x):\n",
        "    \"\"\"\n",
        "    Sorts list x using merge sort method\n",
        "    \"\"\"\n",
        "    # выход из рекурсии - длина списка 1 или 0 элементов\n",
        "    if (len(x)) <= 1:\n",
        "      return x\n",
        "    # если элементов больше, то делим пополам и рекурсивно запускаем на обеих частях склеивая результаты\n",
        "    else:\n",
        "        mid = int(len(x)/2)\n",
        "        left_lst = merge_sort(x[:mid])\n",
        "        right_lst = merge_sort(x[mid:])\n",
        "        return merge(left_lst, right_lst)"
      ]
    },
    {
      "cell_type": "code",
      "execution_count": null,
      "metadata": {
        "id": "6711aef5"
      },
      "outputs": [],
      "source": [
        "# tests\n",
        "assert merge_sort([1, 2, 3, 4, 5, 6]) == [1, 2, 3, 4, 5, 6], \"test 1\"\n",
        "assert merge_sort([6, 1, 2, 3, 4, 5, 6]) == [1, 2, 3, 4, 5, 6, 6], \"test 2\"\n",
        "assert merge_sort([3,1,4,1,5,9,2,6,5,3,5]) == [1, 1, 2, 3, 3, 4, 5, 5, 5, 6, 9], \"test 3\""
      ]
    },
    {
      "cell_type": "markdown",
      "metadata": {
        "id": "f3d1e448"
      },
      "source": [
        "# Задача 3"
      ]
    },
    {
      "cell_type": "markdown",
      "source": [
        "Реализуйте **генератор**, возвращающий **бесконечную** последовательность чисел из [треугольника Паскаля](https://ru.wikipedia.org/wiki/%D0%A2%D1%80%D0%B5%D1%83%D0%B3%D0%BE%D0%BB%D1%8C%D0%BD%D0%B8%D0%BA_%D0%9F%D0%B0%D1%81%D0%BA%D0%B0%D0%BB%D1%8F).\n",
        "\n",
        "Последовательность, возвращаемая генератором, должна выглядеть так:\n",
        "`1 1 1 1 2 1 1 3 3 1 1 4 6 4 1 1 5 10 10 5 1 1 6 15 20 15 6 1 1 7 21 35 35 21 7 1 1 8 28 56 70 56 28 8 1 1 9 36 84 126 126 84 36 9 1 ...`.\n",
        "\n",
        "**Генератор должен быть экономным по памяти**, т.е. не хранить в себе все предыдущие вычисленные значения."
      ],
      "metadata": {
        "id": "PLSBRMf0w9bb"
      }
    },
    {
      "cell_type": "code",
      "source": [
        "import math as m\n",
        "def pascal_num(n, k):\n",
        "    \"\"\"\n",
        "    helper function to calculate number of combinations\n",
        "    \"\"\"\n",
        "    if (n<0):\n",
        "        n=0\n",
        "    if (k<0):\n",
        "        k=0\n",
        "    return ( m.factorial(n)/ (m.factorial(k) * m.factorial(n-k)))\n",
        "\n",
        "\n",
        "def indecies():\n",
        "    \"\"\"\n",
        "    helper generator to calculate next index\n",
        "    \"\"\"\n",
        "    row = 0\n",
        "    col = 0\n",
        "    while True:\n",
        "        yield (row,col)\n",
        "        col += 1\n",
        "        if (col > row):\n",
        "          col = 0\n",
        "          row += 1\n",
        "\n"
      ],
      "metadata": {
        "id": "QrBoAmC55bAx"
      },
      "execution_count": null,
      "outputs": []
    },
    {
      "cell_type": "code",
      "execution_count": null,
      "metadata": {
        "id": "25461272"
      },
      "outputs": [],
      "source": [
        "def pascal_triangle():\n",
        "    \"\"\"Return numbers from pascal triangle\"\"\"\n",
        "    index_gen = indecies()\n",
        "    while True:\n",
        "        next_index = next(index_gen)\n",
        "        yield int(pascal_num(next_index[0],next_index[1]))"
      ]
    },
    {
      "cell_type": "markdown",
      "source": [
        "Проверить можете на ячейке ниже:"
      ],
      "metadata": {
        "id": "SukiU_7DzmqO"
      }
    },
    {
      "cell_type": "code",
      "execution_count": null,
      "metadata": {
        "id": "428552b1"
      },
      "outputs": [],
      "source": [
        "pascal_string = \"1 1 1 1 2 1 1 3 3 1 1 4 6 4 1 1 5 10 10 5 1 1 6 15 20 15 6 1 1 7 21 35 35 21 7 1 1 8 28 56 70 56 28 8 1 1 9 36 84 126\"\n",
        "blez_pascal = pascal_triangle()\n",
        "assert [next(blez_pascal) for _ in range(50)] == list(map(int, pascal_string.split())), \"Wrong values!\""
      ]
    },
    {
      "cell_type": "markdown",
      "source": [
        "Еще раз подчеркну - нужен именно **генератор**:"
      ],
      "metadata": {
        "id": "gFt_A_iGzq2x"
      }
    },
    {
      "cell_type": "code",
      "source": [
        "from collections.abc import Generator\n",
        "\n",
        "assert isinstance(blez_pascal, Generator), \"You have created not a generator\""
      ],
      "metadata": {
        "id": "I7hEiDpEzunU"
      },
      "execution_count": null,
      "outputs": []
    },
    {
      "cell_type": "markdown",
      "metadata": {
        "id": "9270dbe5"
      },
      "source": [
        "# Задача 4"
      ]
    },
    {
      "cell_type": "markdown",
      "source": [
        "Написать **генераторную функцию** `limit(generator, max_count)`, который возвращает не более `max_count` значений генератора `input_generator`:"
      ],
      "metadata": {
        "id": "or5RM1GF0mHQ"
      }
    },
    {
      "cell_type": "code",
      "execution_count": null,
      "metadata": {
        "id": "0303a12f"
      },
      "outputs": [],
      "source": [
        "def limit(input_generator, max_count):\n",
        "    \"\"\"Returns not more than max_count\n",
        "    values of the input_generator.\n",
        "    \"\"\"\n",
        "    gen = input_generator()\n",
        "    for i in range(max_count):\n",
        "        yield next(gen)\n"
      ]
    },
    {
      "cell_type": "code",
      "execution_count": null,
      "metadata": {
        "id": "f6511189"
      },
      "outputs": [],
      "source": [
        "# если pascal_triangle из предыдущего задания не реализован, то\n",
        "# напишите несколько своих тестов в этой ячейке\n",
        "# your code here"
      ]
    },
    {
      "cell_type": "code",
      "execution_count": null,
      "metadata": {
        "id": "dddc1199"
      },
      "outputs": [],
      "source": [
        "# tests\n",
        "assert list(limit(pascal_triangle, 5)) == [1, 1, 1, 1, 2]\n",
        "assert 499 < len(list(limit(pascal_triangle, 500))) < 501"
      ]
    },
    {
      "cell_type": "code",
      "source": [
        "from collections.abc import Generator\n",
        "\n",
        "assert isinstance(limit(pascal_triangle, 5), Generator), \"You have created not a generator\""
      ],
      "metadata": {
        "id": "bOqlzFur04lI"
      },
      "execution_count": null,
      "outputs": []
    },
    {
      "cell_type": "markdown",
      "metadata": {
        "id": "5f7f5f09"
      },
      "source": [
        "# Задача 5"
      ]
    },
    {
      "cell_type": "markdown",
      "source": [
        "Написать генератор `all_elements(lst)`, который возвращает все элементы списка `lst` **любой** вложенности (см. пример для конкретики).\n",
        "\n",
        "Указание: для проверки того, что объект итерируемый, можно проверить, что он наследник `Iterable` (используйте функции `isinstance`/`issubclass`  и модуль [`collections.abc`](https://docs.python.org/3/library/collections.abc.html))"
      ],
      "metadata": {
        "id": "O72nL1kt1CUH"
      }
    },
    {
      "cell_type": "code",
      "execution_count": null,
      "metadata": {
        "id": "29f9bb21"
      },
      "outputs": [],
      "source": [
        "# your code here\n",
        "\n",
        "def all_elements(lst):\n",
        "    for pos in range( len(lst)):\n",
        "        if (type(lst[pos]) == int):\n",
        "            item = lst[pos]\n",
        "            yield item\n",
        "        else:\n",
        "            for i in all_elements(lst[pos]):\n",
        "                yield i"
      ]
    },
    {
      "cell_type": "code",
      "execution_count": null,
      "metadata": {
        "id": "8af89f17"
      },
      "outputs": [],
      "source": [
        "# test\n",
        "from collections.abc import Generator\n",
        "\n",
        "assert isinstance(all_elements([1, [2, 3], [4, [5, 6], [[[7]]]], 8]), Generator), \"You have created not a generator\"\n",
        "assert list(all_elements([1, [2, 3], [4, [5, 6], [[[7]]]], 8])) == [1, 2, 3, 4, 5, 6, 7, 8], \"Wrong values\""
      ]
    }
  ]
}